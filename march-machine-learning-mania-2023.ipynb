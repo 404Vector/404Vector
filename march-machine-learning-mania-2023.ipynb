{
 "cells": [
  {
   "cell_type": "markdown",
   "id": "f67730fb",
   "metadata": {
    "papermill": {
     "duration": 0.018183,
     "end_time": "2023-03-31T15:07:54.458193",
     "exception": false,
     "start_time": "2023-03-31T15:07:54.440010",
     "status": "completed"
    },
    "tags": []
   },
   "source": [
    "# Adapting the 2nd Place Solution of the 2021 NCAAW Competition\n",
    "\n",
    "- Solution write-up is available here : https://www.kaggle.com/c/ncaaw-march-mania-2021/discussion/230705\n",
    "- 2nd place code : https://www.kaggle.com/theoviel/2nd-place-ncaaw-2021?scriptVersionId=58780991\n",
    "- It was adapted from this notebook : https://www.kaggle.com/theoviel/ncaa-starter-the-simpler-the-better \n",
    "\n",
    "**Changes :**\n",
    "- Build one model for both Men and Women\n",
    "- Update metric to MSE"
   ]
  },
  {
   "cell_type": "code",
   "execution_count": 1,
   "id": "526aab5a",
   "metadata": {
    "_cell_guid": "b1076dfc-b9ad-4769-8c92-a6c4dae69d19",
    "_uuid": "8f2839f25d086af736a60e9eeb907d3b93b6e0e5",
    "execution": {
     "iopub.execute_input": "2023-03-31T15:07:54.493784Z",
     "iopub.status.busy": "2023-03-31T15:07:54.492931Z",
     "iopub.status.idle": "2023-03-31T15:07:55.929532Z",
     "shell.execute_reply": "2023-03-31T15:07:55.927997Z"
    },
    "papermill": {
     "duration": 1.457748,
     "end_time": "2023-03-31T15:07:55.932526",
     "exception": false,
     "start_time": "2023-03-31T15:07:54.474778",
     "status": "completed"
    },
    "tags": []
   },
   "outputs": [],
   "source": [
    "import os\n",
    "import re\n",
    "import sklearn\n",
    "import numpy as np \n",
    "import pandas as pd\n",
    "import seaborn as sns\n",
    "import matplotlib.pyplot as plt\n",
    "\n",
    "from collections import Counter\n",
    "from sklearn.metrics import *\n",
    "from sklearn.linear_model import *\n",
    "from sklearn.model_selection import *\n",
    "import xgboost as xgb\n",
    "\n",
    "pd.set_option('display.max_columns', None)"
   ]
  },
  {
   "cell_type": "code",
   "execution_count": 2,
   "id": "04e06795",
   "metadata": {
    "execution": {
     "iopub.execute_input": "2023-03-31T15:07:55.968784Z",
     "iopub.status.busy": "2023-03-31T15:07:55.968243Z",
     "iopub.status.idle": "2023-03-31T15:07:55.975375Z",
     "shell.execute_reply": "2023-03-31T15:07:55.974317Z"
    },
    "papermill": {
     "duration": 0.028023,
     "end_time": "2023-03-31T15:07:55.978162",
     "exception": false,
     "start_time": "2023-03-31T15:07:55.950139",
     "status": "completed"
    },
    "tags": []
   },
   "outputs": [
    {
     "name": "stdout",
     "output_type": "stream",
     "text": [
      "Cities.csv\n",
      "Conferences.csv\n",
      "MConferenceTourneyGames.csv\n",
      "MGameCities.csv\n",
      "MMasseyOrdinals_thru_Season2023_Day128.csv\n",
      "MNCAATourneyCompactResults.csv\n",
      "MNCAATourneyDetailedResults.csv\n",
      "MNCAATourneySeedRoundSlots.csv\n",
      "MNCAATourneySeeds.csv\n",
      "MNCAATourneySlots.csv\n",
      "MRegularSeasonCompactResults.csv\n",
      "MRegularSeasonDetailedResults.csv\n",
      "MSeasons.csv\n",
      "MSecondaryTourneyCompactResults.csv\n",
      "MSecondaryTourneyTeams.csv\n",
      "MTeamCoaches.csv\n",
      "MTeamConferences.csv\n",
      "MTeamSpellings.csv\n",
      "MTeams.csv\n",
      "SampleSubmission2023.csv\n",
      "WGameCities.csv\n",
      "WNCAATourneyCompactResults.csv\n",
      "WNCAATourneyDetailedResults.csv\n",
      "WNCAATourneySeeds.csv\n",
      "WNCAATourneySlots.csv\n",
      "WRegularSeasonCompactResults.csv\n",
      "WRegularSeasonDetailedResults.csv\n",
      "WSeasons.csv\n",
      "WTeamConferences.csv\n",
      "WTeamSpellings.csv\n",
      "WTeams.csv\n"
     ]
    }
   ],
   "source": [
    "DATA_PATH = '/kaggle/input/march-machine-learning-mania-2023/'\n",
    "\n",
    "for filename in sorted(os.listdir(DATA_PATH)):\n",
    "    print(filename)"
   ]
  },
  {
   "cell_type": "markdown",
   "id": "6b076c22",
   "metadata": {
    "papermill": {
     "duration": 0.016277,
     "end_time": "2023-03-31T15:07:56.011305",
     "exception": false,
     "start_time": "2023-03-31T15:07:55.995028",
     "status": "completed"
    },
    "tags": []
   },
   "source": [
    "# Data preparation"
   ]
  },
  {
   "cell_type": "markdown",
   "id": "5d439714",
   "metadata": {
    "papermill": {
     "duration": 0.016314,
     "end_time": "2023-03-31T15:07:56.044350",
     "exception": false,
     "start_time": "2023-03-31T15:07:56.028036",
     "status": "completed"
    },
    "tags": []
   },
   "source": [
    "## Seeds\n",
    "> This file identifies the seeds for all teams in each NCAA® tournament, for all seasons of historical data. Thus, there are between 64-68 rows for each year, depending on whether there were any play-in games and how many there were. In recent years the structure has settled at 68 total teams, with four \"play-in\" games leading to the final field of 64 teams entering Round 1 on Thursday of the first week (by definition, that is DayNum=136 each season). We will not know the seeds of the respective tournament teams, or even exactly which 68 teams it will be, until Selection Sunday on March 15, 2020 (DayNum=132).\n",
    "\n",
    "> The seed is a 3/4-character :\n",
    "- First character : Region (W, X, Y, or Z)\n",
    "- Next two digits : Seed within the region (01 to 16)\n",
    "- Last character (optional): Distinguishes teams between play-ins ( a or b)"
   ]
  },
  {
   "cell_type": "code",
   "execution_count": 3,
   "id": "d6afd356",
   "metadata": {
    "execution": {
     "iopub.execute_input": "2023-03-31T15:07:56.079275Z",
     "iopub.status.busy": "2023-03-31T15:07:56.078474Z",
     "iopub.status.idle": "2023-03-31T15:07:56.124407Z",
     "shell.execute_reply": "2023-03-31T15:07:56.123576Z"
    },
    "papermill": {
     "duration": 0.065733,
     "end_time": "2023-03-31T15:07:56.126514",
     "exception": false,
     "start_time": "2023-03-31T15:07:56.060781",
     "status": "completed"
    },
    "tags": []
   },
   "outputs": [
    {
     "data": {
      "text/html": [
       "<div>\n",
       "<style scoped>\n",
       "    .dataframe tbody tr th:only-of-type {\n",
       "        vertical-align: middle;\n",
       "    }\n",
       "\n",
       "    .dataframe tbody tr th {\n",
       "        vertical-align: top;\n",
       "    }\n",
       "\n",
       "    .dataframe thead th {\n",
       "        text-align: right;\n",
       "    }\n",
       "</style>\n",
       "<table border=\"1\" class=\"dataframe\">\n",
       "  <thead>\n",
       "    <tr style=\"text-align: right;\">\n",
       "      <th></th>\n",
       "      <th>Season</th>\n",
       "      <th>Seed</th>\n",
       "      <th>TeamID</th>\n",
       "    </tr>\n",
       "  </thead>\n",
       "  <tbody>\n",
       "    <tr>\n",
       "      <th>0</th>\n",
       "      <td>1985</td>\n",
       "      <td>W01</td>\n",
       "      <td>1207</td>\n",
       "    </tr>\n",
       "    <tr>\n",
       "      <th>1</th>\n",
       "      <td>1985</td>\n",
       "      <td>W02</td>\n",
       "      <td>1210</td>\n",
       "    </tr>\n",
       "    <tr>\n",
       "      <th>2</th>\n",
       "      <td>1985</td>\n",
       "      <td>W03</td>\n",
       "      <td>1228</td>\n",
       "    </tr>\n",
       "    <tr>\n",
       "      <th>3</th>\n",
       "      <td>1985</td>\n",
       "      <td>W04</td>\n",
       "      <td>1260</td>\n",
       "    </tr>\n",
       "    <tr>\n",
       "      <th>4</th>\n",
       "      <td>1985</td>\n",
       "      <td>W05</td>\n",
       "      <td>1374</td>\n",
       "    </tr>\n",
       "  </tbody>\n",
       "</table>\n",
       "</div>"
      ],
      "text/plain": [
       "   Season Seed  TeamID\n",
       "0    1985  W01    1207\n",
       "1    1985  W02    1210\n",
       "2    1985  W03    1228\n",
       "3    1985  W04    1260\n",
       "4    1985  W05    1374"
      ]
     },
     "execution_count": 3,
     "metadata": {},
     "output_type": "execute_result"
    }
   ],
   "source": [
    "df_seeds = pd.concat([\n",
    "    pd.read_csv(DATA_PATH + \"MNCAATourneySeeds.csv\"),\n",
    "    pd.read_csv(DATA_PATH + \"WNCAATourneySeeds.csv\"),\n",
    "], ignore_index=True)\n",
    "    \n",
    "df_seeds.head()"
   ]
  },
  {
   "cell_type": "markdown",
   "id": "9c46d0ba",
   "metadata": {
    "papermill": {
     "duration": 0.016373,
     "end_time": "2023-03-31T15:07:56.159703",
     "exception": false,
     "start_time": "2023-03-31T15:07:56.143330",
     "status": "completed"
    },
    "tags": []
   },
   "source": [
    "## Season results\n",
    "> This file identifies the game-by-game results for many seasons of historical data, starting with the 1985 season (the first year the NCAA® had a 64-team tournament). For each season, the file includes all games played from DayNum 0 through 132. It is important to realize that the \"Regular Season\" games are simply defined to be all games played on DayNum=132 or earlier (DayNum=132 is Selection Sunday, and there are always a few conference tournament finals actually played early in the day on Selection Sunday itself). Thus a game played on or before Selection Sunday will show up here whether it was a pre-season tournament, a non-conference game, a regular conference game, a conference tournament game, or whatever."
   ]
  },
  {
   "cell_type": "code",
   "execution_count": 4,
   "id": "d71aaf38",
   "metadata": {
    "execution": {
     "iopub.execute_input": "2023-03-31T15:07:56.196353Z",
     "iopub.status.busy": "2023-03-31T15:07:56.195598Z",
     "iopub.status.idle": "2023-03-31T15:07:56.569907Z",
     "shell.execute_reply": "2023-03-31T15:07:56.568646Z"
    },
    "papermill": {
     "duration": 0.395513,
     "end_time": "2023-03-31T15:07:56.572823",
     "exception": false,
     "start_time": "2023-03-31T15:07:56.177310",
     "status": "completed"
    },
    "tags": []
   },
   "outputs": [],
   "source": [
    "df_season_results = pd.concat([\n",
    "    pd.read_csv(DATA_PATH + \"MRegularSeasonCompactResults.csv\"),\n",
    "    pd.read_csv(DATA_PATH + \"WRegularSeasonCompactResults.csv\"),\n",
    "], ignore_index=True)\n",
    "\n",
    "df_season_results.drop(['NumOT', 'WLoc'], axis=1, inplace=True)"
   ]
  },
  {
   "cell_type": "code",
   "execution_count": 5,
   "id": "cd13042e",
   "metadata": {
    "execution": {
     "iopub.execute_input": "2023-03-31T15:07:56.608952Z",
     "iopub.status.busy": "2023-03-31T15:07:56.608507Z",
     "iopub.status.idle": "2023-03-31T15:07:56.619133Z",
     "shell.execute_reply": "2023-03-31T15:07:56.617884Z"
    },
    "papermill": {
     "duration": 0.031038,
     "end_time": "2023-03-31T15:07:56.621685",
     "exception": false,
     "start_time": "2023-03-31T15:07:56.590647",
     "status": "completed"
    },
    "tags": []
   },
   "outputs": [],
   "source": [
    "df_season_results['ScoreGap'] = df_season_results['WScore'] - df_season_results['LScore']"
   ]
  },
  {
   "cell_type": "code",
   "execution_count": 6,
   "id": "48039ec3",
   "metadata": {
    "execution": {
     "iopub.execute_input": "2023-03-31T15:07:56.658139Z",
     "iopub.status.busy": "2023-03-31T15:07:56.657088Z",
     "iopub.status.idle": "2023-03-31T15:07:56.669337Z",
     "shell.execute_reply": "2023-03-31T15:07:56.668250Z"
    },
    "papermill": {
     "duration": 0.032626,
     "end_time": "2023-03-31T15:07:56.671625",
     "exception": false,
     "start_time": "2023-03-31T15:07:56.638999",
     "status": "completed"
    },
    "tags": []
   },
   "outputs": [
    {
     "data": {
      "text/html": [
       "<div>\n",
       "<style scoped>\n",
       "    .dataframe tbody tr th:only-of-type {\n",
       "        vertical-align: middle;\n",
       "    }\n",
       "\n",
       "    .dataframe tbody tr th {\n",
       "        vertical-align: top;\n",
       "    }\n",
       "\n",
       "    .dataframe thead th {\n",
       "        text-align: right;\n",
       "    }\n",
       "</style>\n",
       "<table border=\"1\" class=\"dataframe\">\n",
       "  <thead>\n",
       "    <tr style=\"text-align: right;\">\n",
       "      <th></th>\n",
       "      <th>Season</th>\n",
       "      <th>DayNum</th>\n",
       "      <th>WTeamID</th>\n",
       "      <th>WScore</th>\n",
       "      <th>LTeamID</th>\n",
       "      <th>LScore</th>\n",
       "      <th>ScoreGap</th>\n",
       "    </tr>\n",
       "  </thead>\n",
       "  <tbody>\n",
       "    <tr>\n",
       "      <th>0</th>\n",
       "      <td>1985</td>\n",
       "      <td>20</td>\n",
       "      <td>1228</td>\n",
       "      <td>81</td>\n",
       "      <td>1328</td>\n",
       "      <td>64</td>\n",
       "      <td>17</td>\n",
       "    </tr>\n",
       "    <tr>\n",
       "      <th>1</th>\n",
       "      <td>1985</td>\n",
       "      <td>25</td>\n",
       "      <td>1106</td>\n",
       "      <td>77</td>\n",
       "      <td>1354</td>\n",
       "      <td>70</td>\n",
       "      <td>7</td>\n",
       "    </tr>\n",
       "    <tr>\n",
       "      <th>2</th>\n",
       "      <td>1985</td>\n",
       "      <td>25</td>\n",
       "      <td>1112</td>\n",
       "      <td>63</td>\n",
       "      <td>1223</td>\n",
       "      <td>56</td>\n",
       "      <td>7</td>\n",
       "    </tr>\n",
       "    <tr>\n",
       "      <th>3</th>\n",
       "      <td>1985</td>\n",
       "      <td>25</td>\n",
       "      <td>1165</td>\n",
       "      <td>70</td>\n",
       "      <td>1432</td>\n",
       "      <td>54</td>\n",
       "      <td>16</td>\n",
       "    </tr>\n",
       "    <tr>\n",
       "      <th>4</th>\n",
       "      <td>1985</td>\n",
       "      <td>25</td>\n",
       "      <td>1192</td>\n",
       "      <td>86</td>\n",
       "      <td>1447</td>\n",
       "      <td>74</td>\n",
       "      <td>12</td>\n",
       "    </tr>\n",
       "  </tbody>\n",
       "</table>\n",
       "</div>"
      ],
      "text/plain": [
       "   Season  DayNum  WTeamID  WScore  LTeamID  LScore  ScoreGap\n",
       "0    1985      20     1228      81     1328      64        17\n",
       "1    1985      25     1106      77     1354      70         7\n",
       "2    1985      25     1112      63     1223      56         7\n",
       "3    1985      25     1165      70     1432      54        16\n",
       "4    1985      25     1192      86     1447      74        12"
      ]
     },
     "execution_count": 6,
     "metadata": {},
     "output_type": "execute_result"
    }
   ],
   "source": [
    "df_season_results.head()"
   ]
  },
  {
   "cell_type": "markdown",
   "id": "40cf67b7",
   "metadata": {
    "papermill": {
     "duration": 0.016859,
     "end_time": "2023-03-31T15:07:56.705594",
     "exception": false,
     "start_time": "2023-03-31T15:07:56.688735",
     "status": "completed"
    },
    "tags": []
   },
   "source": [
    "### Features \n",
    "For each team at each season, I compute : \n",
    "- Number of wins\n",
    "- Number of losses\n",
    "- Average score gap of wins\n",
    "- Average score gap of losses\n",
    "\n",
    "And use the following features : \n",
    "- Win Ratio\n",
    "- Average score gap"
   ]
  },
  {
   "cell_type": "code",
   "execution_count": 7,
   "id": "ff172bff",
   "metadata": {
    "execution": {
     "iopub.execute_input": "2023-03-31T15:07:56.741732Z",
     "iopub.status.busy": "2023-03-31T15:07:56.741007Z",
     "iopub.status.idle": "2023-03-31T15:07:56.808543Z",
     "shell.execute_reply": "2023-03-31T15:07:56.807308Z"
    },
    "papermill": {
     "duration": 0.08858,
     "end_time": "2023-03-31T15:07:56.811165",
     "exception": false,
     "start_time": "2023-03-31T15:07:56.722585",
     "status": "completed"
    },
    "tags": []
   },
   "outputs": [],
   "source": [
    "num_win = df_season_results.groupby(['Season', 'WTeamID']).count()\n",
    "num_win = num_win.reset_index()[['Season', 'WTeamID', 'DayNum']].rename(columns={\"DayNum\": \"NumWins\", \"WTeamID\": \"TeamID\"})"
   ]
  },
  {
   "cell_type": "code",
   "execution_count": 8,
   "id": "a44693fd",
   "metadata": {
    "execution": {
     "iopub.execute_input": "2023-03-31T15:07:56.846827Z",
     "iopub.status.busy": "2023-03-31T15:07:56.846360Z",
     "iopub.status.idle": "2023-03-31T15:07:56.886333Z",
     "shell.execute_reply": "2023-03-31T15:07:56.885088Z"
    },
    "papermill": {
     "duration": 0.061078,
     "end_time": "2023-03-31T15:07:56.889196",
     "exception": false,
     "start_time": "2023-03-31T15:07:56.828118",
     "status": "completed"
    },
    "tags": []
   },
   "outputs": [],
   "source": [
    "num_loss = df_season_results.groupby(['Season', 'LTeamID']).count()\n",
    "num_loss = num_loss.reset_index()[['Season', 'LTeamID', 'DayNum']].rename(columns={\"DayNum\": \"NumLosses\", \"LTeamID\": \"TeamID\"})"
   ]
  },
  {
   "cell_type": "code",
   "execution_count": 9,
   "id": "f26bbcee",
   "metadata": {
    "execution": {
     "iopub.execute_input": "2023-03-31T15:07:56.926358Z",
     "iopub.status.busy": "2023-03-31T15:07:56.925953Z",
     "iopub.status.idle": "2023-03-31T15:07:56.972083Z",
     "shell.execute_reply": "2023-03-31T15:07:56.970839Z"
    },
    "papermill": {
     "duration": 0.068689,
     "end_time": "2023-03-31T15:07:56.974920",
     "exception": false,
     "start_time": "2023-03-31T15:07:56.906231",
     "status": "completed"
    },
    "tags": []
   },
   "outputs": [],
   "source": [
    "gap_win = df_season_results.groupby(['Season', 'WTeamID']).mean().reset_index()\n",
    "gap_win = gap_win[['Season', 'WTeamID', 'ScoreGap']].rename(columns={\"ScoreGap\": \"GapWins\", \"WTeamID\": \"TeamID\"})"
   ]
  },
  {
   "cell_type": "code",
   "execution_count": 10,
   "id": "97574750",
   "metadata": {
    "execution": {
     "iopub.execute_input": "2023-03-31T15:07:57.010571Z",
     "iopub.status.busy": "2023-03-31T15:07:57.010143Z",
     "iopub.status.idle": "2023-03-31T15:07:57.047518Z",
     "shell.execute_reply": "2023-03-31T15:07:57.046211Z"
    },
    "papermill": {
     "duration": 0.058575,
     "end_time": "2023-03-31T15:07:57.050587",
     "exception": false,
     "start_time": "2023-03-31T15:07:56.992012",
     "status": "completed"
    },
    "tags": []
   },
   "outputs": [],
   "source": [
    "gap_loss = df_season_results.groupby(['Season', 'LTeamID']).mean().reset_index()\n",
    "gap_loss = gap_loss[['Season', 'LTeamID', 'ScoreGap']].rename(columns={\"ScoreGap\": \"GapLosses\", \"LTeamID\": \"TeamID\"})"
   ]
  },
  {
   "cell_type": "markdown",
   "id": "c559eeac",
   "metadata": {
    "papermill": {
     "duration": 0.016678,
     "end_time": "2023-03-31T15:07:57.084193",
     "exception": false,
     "start_time": "2023-03-31T15:07:57.067515",
     "status": "completed"
    },
    "tags": []
   },
   "source": [
    "Merge"
   ]
  },
  {
   "cell_type": "code",
   "execution_count": 11,
   "id": "af3479d0",
   "metadata": {
    "execution": {
     "iopub.execute_input": "2023-03-31T15:07:57.120671Z",
     "iopub.status.busy": "2023-03-31T15:07:57.120212Z",
     "iopub.status.idle": "2023-03-31T15:07:57.187943Z",
     "shell.execute_reply": "2023-03-31T15:07:57.186622Z"
    },
    "papermill": {
     "duration": 0.089726,
     "end_time": "2023-03-31T15:07:57.190873",
     "exception": false,
     "start_time": "2023-03-31T15:07:57.101147",
     "status": "completed"
    },
    "tags": []
   },
   "outputs": [],
   "source": [
    "df_features_season_w = df_season_results.groupby(['Season', 'WTeamID']).count().reset_index()[['Season', 'WTeamID']].rename(columns={\"WTeamID\": \"TeamID\"})\n",
    "df_features_season_l = df_season_results.groupby(['Season', 'LTeamID']).count().reset_index()[['Season', 'LTeamID']].rename(columns={\"LTeamID\": \"TeamID\"})"
   ]
  },
  {
   "cell_type": "code",
   "execution_count": 12,
   "id": "8ea0b405",
   "metadata": {
    "execution": {
     "iopub.execute_input": "2023-03-31T15:07:57.228083Z",
     "iopub.status.busy": "2023-03-31T15:07:57.227665Z",
     "iopub.status.idle": "2023-03-31T15:07:57.249069Z",
     "shell.execute_reply": "2023-03-31T15:07:57.247859Z"
    },
    "papermill": {
     "duration": 0.043064,
     "end_time": "2023-03-31T15:07:57.251744",
     "exception": false,
     "start_time": "2023-03-31T15:07:57.208680",
     "status": "completed"
    },
    "tags": []
   },
   "outputs": [],
   "source": [
    "df_features_season = pd.concat([df_features_season_w, df_features_season_l], axis=0).drop_duplicates().sort_values(['Season', 'TeamID']).reset_index(drop=True)"
   ]
  },
  {
   "cell_type": "code",
   "execution_count": 13,
   "id": "7ceb8552",
   "metadata": {
    "execution": {
     "iopub.execute_input": "2023-03-31T15:07:57.288302Z",
     "iopub.status.busy": "2023-03-31T15:07:57.287887Z",
     "iopub.status.idle": "2023-03-31T15:07:57.331168Z",
     "shell.execute_reply": "2023-03-31T15:07:57.329667Z"
    },
    "papermill": {
     "duration": 0.064885,
     "end_time": "2023-03-31T15:07:57.333914",
     "exception": false,
     "start_time": "2023-03-31T15:07:57.269029",
     "status": "completed"
    },
    "tags": []
   },
   "outputs": [],
   "source": [
    "df_features_season = df_features_season.merge(num_win, on=['Season', 'TeamID'], how='left')\n",
    "df_features_season = df_features_season.merge(num_loss, on=['Season', 'TeamID'], how='left')\n",
    "df_features_season = df_features_season.merge(gap_win, on=['Season', 'TeamID'], how='left')\n",
    "df_features_season = df_features_season.merge(gap_loss, on=['Season', 'TeamID'], how='left')"
   ]
  },
  {
   "cell_type": "code",
   "execution_count": 14,
   "id": "3e063b08",
   "metadata": {
    "execution": {
     "iopub.execute_input": "2023-03-31T15:07:57.369653Z",
     "iopub.status.busy": "2023-03-31T15:07:57.369203Z",
     "iopub.status.idle": "2023-03-31T15:07:57.375718Z",
     "shell.execute_reply": "2023-03-31T15:07:57.374628Z"
    },
    "papermill": {
     "duration": 0.027146,
     "end_time": "2023-03-31T15:07:57.378107",
     "exception": false,
     "start_time": "2023-03-31T15:07:57.350961",
     "status": "completed"
    },
    "tags": []
   },
   "outputs": [],
   "source": [
    "df_features_season.fillna(0, inplace=True)  "
   ]
  },
  {
   "cell_type": "markdown",
   "id": "829944c2",
   "metadata": {
    "papermill": {
     "duration": 0.016618,
     "end_time": "2023-03-31T15:07:57.411684",
     "exception": false,
     "start_time": "2023-03-31T15:07:57.395066",
     "status": "completed"
    },
    "tags": []
   },
   "source": [
    "Compute features"
   ]
  },
  {
   "cell_type": "code",
   "execution_count": 15,
   "id": "07843d60",
   "metadata": {
    "execution": {
     "iopub.execute_input": "2023-03-31T15:07:57.447595Z",
     "iopub.status.busy": "2023-03-31T15:07:57.447162Z",
     "iopub.status.idle": "2023-03-31T15:07:57.457836Z",
     "shell.execute_reply": "2023-03-31T15:07:57.456611Z"
    },
    "papermill": {
     "duration": 0.032009,
     "end_time": "2023-03-31T15:07:57.460837",
     "exception": false,
     "start_time": "2023-03-31T15:07:57.428828",
     "status": "completed"
    },
    "tags": []
   },
   "outputs": [],
   "source": [
    "df_features_season['WinRatio'] = df_features_season['NumWins'] / (df_features_season['NumWins'] + df_features_season['NumLosses'])\n",
    "df_features_season['GapAvg'] = (\n",
    "    (df_features_season['NumWins'] * df_features_season['GapWins'] - \n",
    "    df_features_season['NumLosses'] * df_features_season['GapLosses'])\n",
    "    / (df_features_season['NumWins'] + df_features_season['NumLosses'])\n",
    ")"
   ]
  },
  {
   "cell_type": "code",
   "execution_count": 16,
   "id": "9b5c61e4",
   "metadata": {
    "execution": {
     "iopub.execute_input": "2023-03-31T15:07:57.497811Z",
     "iopub.status.busy": "2023-03-31T15:07:57.496764Z",
     "iopub.status.idle": "2023-03-31T15:07:57.504160Z",
     "shell.execute_reply": "2023-03-31T15:07:57.503329Z"
    },
    "papermill": {
     "duration": 0.028273,
     "end_time": "2023-03-31T15:07:57.506396",
     "exception": false,
     "start_time": "2023-03-31T15:07:57.478123",
     "status": "completed"
    },
    "tags": []
   },
   "outputs": [],
   "source": [
    "df_features_season.drop(['NumWins', 'NumLosses', 'GapWins', 'GapLosses'], axis=1, inplace=True)"
   ]
  },
  {
   "cell_type": "markdown",
   "id": "24cf630e",
   "metadata": {
    "papermill": {
     "duration": 0.016397,
     "end_time": "2023-03-31T15:07:57.539529",
     "exception": false,
     "start_time": "2023-03-31T15:07:57.523132",
     "status": "completed"
    },
    "tags": []
   },
   "source": [
    "## Tourney results\n",
    "\n",
    "> This file identifies the game-by-game NCAA® tournament results for all seasons of historical data. The data is formatted exactly like the MRegularSeasonCompactResults data. All games will show up as neutral site (so WLoc is always N). Note that this tournament game data also includes the play-in games (which always occurred on day 134/135) for those years that had play-in games. Thus each season you will see between 63 and 67 games listed, depending on how many play-in games there were."
   ]
  },
  {
   "cell_type": "code",
   "execution_count": 17,
   "id": "b0d956a5",
   "metadata": {
    "execution": {
     "iopub.execute_input": "2023-03-31T15:07:57.576263Z",
     "iopub.status.busy": "2023-03-31T15:07:57.575598Z",
     "iopub.status.idle": "2023-03-31T15:07:57.601218Z",
     "shell.execute_reply": "2023-03-31T15:07:57.600367Z"
    },
    "papermill": {
     "duration": 0.0475,
     "end_time": "2023-03-31T15:07:57.603762",
     "exception": false,
     "start_time": "2023-03-31T15:07:57.556262",
     "status": "completed"
    },
    "tags": []
   },
   "outputs": [],
   "source": [
    "df_tourney_results = pd.concat([\n",
    "    pd.read_csv(DATA_PATH + \"WNCAATourneyCompactResults.csv\"),\n",
    "    pd.read_csv(DATA_PATH + \"MNCAATourneyCompactResults.csv\"),\n",
    "], ignore_index=True)\n",
    "df_tourney_results.drop(['NumOT', 'WLoc'], axis=1, inplace=True)"
   ]
  },
  {
   "cell_type": "markdown",
   "id": "106d1a6a",
   "metadata": {
    "papermill": {
     "duration": 0.016716,
     "end_time": "2023-03-31T15:07:57.637809",
     "exception": false,
     "start_time": "2023-03-31T15:07:57.621093",
     "status": "completed"
    },
    "tags": []
   },
   "source": [
    "## FiveThirtyEight Ratings\n",
    "> Not available yet !"
   ]
  },
  {
   "cell_type": "code",
   "execution_count": 18,
   "id": "7c0805e0",
   "metadata": {
    "execution": {
     "iopub.execute_input": "2023-03-31T15:07:57.673908Z",
     "iopub.status.busy": "2023-03-31T15:07:57.673470Z",
     "iopub.status.idle": "2023-03-31T15:07:57.677809Z",
     "shell.execute_reply": "2023-03-31T15:07:57.676613Z"
    },
    "papermill": {
     "duration": 0.025534,
     "end_time": "2023-03-31T15:07:57.680248",
     "exception": false,
     "start_time": "2023-03-31T15:07:57.654714",
     "status": "completed"
    },
    "tags": []
   },
   "outputs": [],
   "source": [
    "# df_538 = pd.read_csv(\"../input/ncaa-men-538-team-ratings/538ratingsMen.csv\")\n",
    "# df_538.drop('TeamName', axis=1, inplace=True)\n",
    "# df_538.head()"
   ]
  },
  {
   "cell_type": "markdown",
   "id": "eebbda60",
   "metadata": {
    "papermill": {
     "duration": 0.017123,
     "end_time": "2023-03-31T15:07:57.714291",
     "exception": false,
     "start_time": "2023-03-31T15:07:57.697168",
     "status": "completed"
    },
    "tags": []
   },
   "source": [
    "# Feature Engineering"
   ]
  },
  {
   "cell_type": "markdown",
   "id": "69c2d625",
   "metadata": {
    "papermill": {
     "duration": 0.017528,
     "end_time": "2023-03-31T15:07:57.748963",
     "exception": false,
     "start_time": "2023-03-31T15:07:57.731435",
     "status": "completed"
    },
    "tags": []
   },
   "source": [
    "## Train data"
   ]
  },
  {
   "cell_type": "code",
   "execution_count": 19,
   "id": "74714401",
   "metadata": {
    "execution": {
     "iopub.execute_input": "2023-03-31T15:07:57.784755Z",
     "iopub.status.busy": "2023-03-31T15:07:57.784336Z",
     "iopub.status.idle": "2023-03-31T15:07:57.798472Z",
     "shell.execute_reply": "2023-03-31T15:07:57.797116Z"
    },
    "papermill": {
     "duration": 0.035096,
     "end_time": "2023-03-31T15:07:57.801045",
     "exception": false,
     "start_time": "2023-03-31T15:07:57.765949",
     "status": "completed"
    },
    "tags": []
   },
   "outputs": [
    {
     "data": {
      "text/html": [
       "<div>\n",
       "<style scoped>\n",
       "    .dataframe tbody tr th:only-of-type {\n",
       "        vertical-align: middle;\n",
       "    }\n",
       "\n",
       "    .dataframe tbody tr th {\n",
       "        vertical-align: top;\n",
       "    }\n",
       "\n",
       "    .dataframe thead th {\n",
       "        text-align: right;\n",
       "    }\n",
       "</style>\n",
       "<table border=\"1\" class=\"dataframe\">\n",
       "  <thead>\n",
       "    <tr style=\"text-align: right;\">\n",
       "      <th></th>\n",
       "      <th>Season</th>\n",
       "      <th>DayNum</th>\n",
       "      <th>WTeamID</th>\n",
       "      <th>WScore</th>\n",
       "      <th>LTeamID</th>\n",
       "      <th>LScore</th>\n",
       "    </tr>\n",
       "  </thead>\n",
       "  <tbody>\n",
       "    <tr>\n",
       "      <th>0</th>\n",
       "      <td>2016</td>\n",
       "      <td>137</td>\n",
       "      <td>3107</td>\n",
       "      <td>61</td>\n",
       "      <td>3196</td>\n",
       "      <td>59</td>\n",
       "    </tr>\n",
       "    <tr>\n",
       "      <th>1</th>\n",
       "      <td>2016</td>\n",
       "      <td>137</td>\n",
       "      <td>3113</td>\n",
       "      <td>74</td>\n",
       "      <td>3308</td>\n",
       "      <td>52</td>\n",
       "    </tr>\n",
       "    <tr>\n",
       "      <th>2</th>\n",
       "      <td>2016</td>\n",
       "      <td>137</td>\n",
       "      <td>3120</td>\n",
       "      <td>68</td>\n",
       "      <td>3385</td>\n",
       "      <td>57</td>\n",
       "    </tr>\n",
       "    <tr>\n",
       "      <th>3</th>\n",
       "      <td>2016</td>\n",
       "      <td>137</td>\n",
       "      <td>3124</td>\n",
       "      <td>89</td>\n",
       "      <td>3225</td>\n",
       "      <td>59</td>\n",
       "    </tr>\n",
       "    <tr>\n",
       "      <th>4</th>\n",
       "      <td>2016</td>\n",
       "      <td>137</td>\n",
       "      <td>3177</td>\n",
       "      <td>97</td>\n",
       "      <td>3241</td>\n",
       "      <td>67</td>\n",
       "    </tr>\n",
       "  </tbody>\n",
       "</table>\n",
       "</div>"
      ],
      "text/plain": [
       "   Season  DayNum  WTeamID  WScore  LTeamID  LScore\n",
       "0    2016     137     3107      61     3196      59\n",
       "1    2016     137     3113      74     3308      52\n",
       "2    2016     137     3120      68     3385      57\n",
       "3    2016     137     3124      89     3225      59\n",
       "4    2016     137     3177      97     3241      67"
      ]
     },
     "execution_count": 19,
     "metadata": {},
     "output_type": "execute_result"
    }
   ],
   "source": [
    "df = df_tourney_results.copy()\n",
    "df = df[df['Season'] >= 2016].reset_index(drop=True)\n",
    "\n",
    "df.head()"
   ]
  },
  {
   "cell_type": "markdown",
   "id": "c7765b36",
   "metadata": {
    "papermill": {
     "duration": 0.017468,
     "end_time": "2023-03-31T15:07:57.836057",
     "exception": false,
     "start_time": "2023-03-31T15:07:57.818589",
     "status": "completed"
    },
    "tags": []
   },
   "source": [
    "### Seeds\n",
    "- `SeedW` is the seed of the winning team\n",
    "- `SeedL` is the seed of the losing team"
   ]
  },
  {
   "cell_type": "code",
   "execution_count": 20,
   "id": "5ef0578f",
   "metadata": {
    "execution": {
     "iopub.execute_input": "2023-03-31T15:07:57.872892Z",
     "iopub.status.busy": "2023-03-31T15:07:57.872093Z",
     "iopub.status.idle": "2023-03-31T15:07:57.883858Z",
     "shell.execute_reply": "2023-03-31T15:07:57.882870Z"
    },
    "papermill": {
     "duration": 0.033413,
     "end_time": "2023-03-31T15:07:57.886746",
     "exception": false,
     "start_time": "2023-03-31T15:07:57.853333",
     "status": "completed"
    },
    "tags": []
   },
   "outputs": [],
   "source": [
    "df = pd.merge(\n",
    "    df, \n",
    "    df_seeds, \n",
    "    how='left', \n",
    "    left_on=['Season', 'WTeamID'], \n",
    "    right_on=['Season', 'TeamID']\n",
    ").drop('TeamID', axis=1).rename(columns={'Seed': 'SeedW'})"
   ]
  },
  {
   "cell_type": "code",
   "execution_count": 21,
   "id": "6084c846",
   "metadata": {
    "execution": {
     "iopub.execute_input": "2023-03-31T15:07:57.923677Z",
     "iopub.status.busy": "2023-03-31T15:07:57.922846Z",
     "iopub.status.idle": "2023-03-31T15:07:57.934106Z",
     "shell.execute_reply": "2023-03-31T15:07:57.933203Z"
    },
    "papermill": {
     "duration": 0.032587,
     "end_time": "2023-03-31T15:07:57.936656",
     "exception": false,
     "start_time": "2023-03-31T15:07:57.904069",
     "status": "completed"
    },
    "tags": []
   },
   "outputs": [],
   "source": [
    "df = pd.merge(\n",
    "    df, \n",
    "    df_seeds, \n",
    "    how='left', \n",
    "    left_on=['Season', 'LTeamID'], \n",
    "    right_on=['Season', 'TeamID']\n",
    ").drop('TeamID', axis=1).rename(columns={'Seed': 'SeedL'})"
   ]
  },
  {
   "cell_type": "code",
   "execution_count": 22,
   "id": "d3304e1c",
   "metadata": {
    "execution": {
     "iopub.execute_input": "2023-03-31T15:07:57.974476Z",
     "iopub.status.busy": "2023-03-31T15:07:57.973676Z",
     "iopub.status.idle": "2023-03-31T15:07:57.979189Z",
     "shell.execute_reply": "2023-03-31T15:07:57.978275Z"
    },
    "papermill": {
     "duration": 0.02765,
     "end_time": "2023-03-31T15:07:57.981711",
     "exception": false,
     "start_time": "2023-03-31T15:07:57.954061",
     "status": "completed"
    },
    "tags": []
   },
   "outputs": [],
   "source": [
    "def treat_seed(seed):\n",
    "    return int(re.sub(\"[^0-9]\", \"\", seed))"
   ]
  },
  {
   "cell_type": "code",
   "execution_count": 23,
   "id": "a1f89e0d",
   "metadata": {
    "execution": {
     "iopub.execute_input": "2023-03-31T15:07:58.018741Z",
     "iopub.status.busy": "2023-03-31T15:07:58.017987Z",
     "iopub.status.idle": "2023-03-31T15:07:58.028947Z",
     "shell.execute_reply": "2023-03-31T15:07:58.027850Z"
    },
    "papermill": {
     "duration": 0.032618,
     "end_time": "2023-03-31T15:07:58.031447",
     "exception": false,
     "start_time": "2023-03-31T15:07:57.998829",
     "status": "completed"
    },
    "tags": []
   },
   "outputs": [],
   "source": [
    "df['SeedW'] = df['SeedW'].apply(treat_seed)\n",
    "df['SeedL'] = df['SeedL'].apply(treat_seed)"
   ]
  },
  {
   "cell_type": "code",
   "execution_count": 24,
   "id": "411c0bf3",
   "metadata": {
    "execution": {
     "iopub.execute_input": "2023-03-31T15:07:58.068458Z",
     "iopub.status.busy": "2023-03-31T15:07:58.067726Z",
     "iopub.status.idle": "2023-03-31T15:07:58.079227Z",
     "shell.execute_reply": "2023-03-31T15:07:58.078292Z"
    },
    "papermill": {
     "duration": 0.03279,
     "end_time": "2023-03-31T15:07:58.081444",
     "exception": false,
     "start_time": "2023-03-31T15:07:58.048654",
     "status": "completed"
    },
    "tags": []
   },
   "outputs": [
    {
     "data": {
      "text/html": [
       "<div>\n",
       "<style scoped>\n",
       "    .dataframe tbody tr th:only-of-type {\n",
       "        vertical-align: middle;\n",
       "    }\n",
       "\n",
       "    .dataframe tbody tr th {\n",
       "        vertical-align: top;\n",
       "    }\n",
       "\n",
       "    .dataframe thead th {\n",
       "        text-align: right;\n",
       "    }\n",
       "</style>\n",
       "<table border=\"1\" class=\"dataframe\">\n",
       "  <thead>\n",
       "    <tr style=\"text-align: right;\">\n",
       "      <th></th>\n",
       "      <th>Season</th>\n",
       "      <th>DayNum</th>\n",
       "      <th>WTeamID</th>\n",
       "      <th>WScore</th>\n",
       "      <th>LTeamID</th>\n",
       "      <th>LScore</th>\n",
       "      <th>SeedW</th>\n",
       "      <th>SeedL</th>\n",
       "    </tr>\n",
       "  </thead>\n",
       "  <tbody>\n",
       "    <tr>\n",
       "      <th>0</th>\n",
       "      <td>2016</td>\n",
       "      <td>137</td>\n",
       "      <td>3107</td>\n",
       "      <td>61</td>\n",
       "      <td>3196</td>\n",
       "      <td>59</td>\n",
       "      <td>12</td>\n",
       "      <td>5</td>\n",
       "    </tr>\n",
       "    <tr>\n",
       "      <th>1</th>\n",
       "      <td>2016</td>\n",
       "      <td>137</td>\n",
       "      <td>3113</td>\n",
       "      <td>74</td>\n",
       "      <td>3308</td>\n",
       "      <td>52</td>\n",
       "      <td>2</td>\n",
       "      <td>15</td>\n",
       "    </tr>\n",
       "    <tr>\n",
       "      <th>2</th>\n",
       "      <td>2016</td>\n",
       "      <td>137</td>\n",
       "      <td>3120</td>\n",
       "      <td>68</td>\n",
       "      <td>3385</td>\n",
       "      <td>57</td>\n",
       "      <td>9</td>\n",
       "      <td>8</td>\n",
       "    </tr>\n",
       "    <tr>\n",
       "      <th>3</th>\n",
       "      <td>2016</td>\n",
       "      <td>137</td>\n",
       "      <td>3124</td>\n",
       "      <td>89</td>\n",
       "      <td>3225</td>\n",
       "      <td>59</td>\n",
       "      <td>1</td>\n",
       "      <td>16</td>\n",
       "    </tr>\n",
       "    <tr>\n",
       "      <th>4</th>\n",
       "      <td>2016</td>\n",
       "      <td>137</td>\n",
       "      <td>3177</td>\n",
       "      <td>97</td>\n",
       "      <td>3241</td>\n",
       "      <td>67</td>\n",
       "      <td>6</td>\n",
       "      <td>11</td>\n",
       "    </tr>\n",
       "  </tbody>\n",
       "</table>\n",
       "</div>"
      ],
      "text/plain": [
       "   Season  DayNum  WTeamID  WScore  LTeamID  LScore  SeedW  SeedL\n",
       "0    2016     137     3107      61     3196      59     12      5\n",
       "1    2016     137     3113      74     3308      52      2     15\n",
       "2    2016     137     3120      68     3385      57      9      8\n",
       "3    2016     137     3124      89     3225      59      1     16\n",
       "4    2016     137     3177      97     3241      67      6     11"
      ]
     },
     "execution_count": 24,
     "metadata": {},
     "output_type": "execute_result"
    }
   ],
   "source": [
    "df.head()"
   ]
  },
  {
   "cell_type": "markdown",
   "id": "edc253d0",
   "metadata": {
    "papermill": {
     "duration": 0.017029,
     "end_time": "2023-03-31T15:07:58.115844",
     "exception": false,
     "start_time": "2023-03-31T15:07:58.098815",
     "status": "completed"
    },
    "tags": []
   },
   "source": [
    "### Season Stats\n",
    "- `WinRatioW` is the win ratio of the winning team during the season\n",
    "- `WinRatioL` is the win ratio of the losing team during the season"
   ]
  },
  {
   "cell_type": "code",
   "execution_count": 25,
   "id": "b4df0b70",
   "metadata": {
    "execution": {
     "iopub.execute_input": "2023-03-31T15:07:58.152806Z",
     "iopub.status.busy": "2023-03-31T15:07:58.152087Z",
     "iopub.status.idle": "2023-03-31T15:07:58.165896Z",
     "shell.execute_reply": "2023-03-31T15:07:58.164028Z"
    },
    "papermill": {
     "duration": 0.035572,
     "end_time": "2023-03-31T15:07:58.168812",
     "exception": false,
     "start_time": "2023-03-31T15:07:58.133240",
     "status": "completed"
    },
    "tags": []
   },
   "outputs": [],
   "source": [
    "df = pd.merge(\n",
    "    df,\n",
    "    df_features_season,\n",
    "    how='left',\n",
    "    left_on=['Season', 'WTeamID'],\n",
    "    right_on=['Season', 'TeamID']\n",
    ").rename(columns={\n",
    "    'NumWins': 'NumWinsW',\n",
    "    'NumLosses': 'NumLossesW',\n",
    "    'GapWins': 'GapWinsW',\n",
    "    'GapLosses': 'GapLossesW',\n",
    "    'WinRatio': 'WinRatioW',\n",
    "    'GapAvg': 'GapAvgW',\n",
    "}).drop(columns='TeamID', axis=1)"
   ]
  },
  {
   "cell_type": "code",
   "execution_count": 26,
   "id": "6d9017a4",
   "metadata": {
    "execution": {
     "iopub.execute_input": "2023-03-31T15:07:58.206431Z",
     "iopub.status.busy": "2023-03-31T15:07:58.205984Z",
     "iopub.status.idle": "2023-03-31T15:07:58.219923Z",
     "shell.execute_reply": "2023-03-31T15:07:58.218917Z"
    },
    "papermill": {
     "duration": 0.035466,
     "end_time": "2023-03-31T15:07:58.222509",
     "exception": false,
     "start_time": "2023-03-31T15:07:58.187043",
     "status": "completed"
    },
    "tags": []
   },
   "outputs": [],
   "source": [
    "df = pd.merge(\n",
    "    df,\n",
    "    df_features_season,\n",
    "    how='left',\n",
    "    left_on=['Season', 'LTeamID'],\n",
    "    right_on=['Season', 'TeamID']\n",
    ").rename(columns={\n",
    "    'NumWins': 'NumWinsL',\n",
    "    'NumLosses': 'NumLossesL',\n",
    "    'GapWins': 'GapWinsL',\n",
    "    'GapLosses': 'GapLossesL',\n",
    "    'WinRatio': 'WinRatioL',\n",
    "    'GapAvg': 'GapAvgL',\n",
    "}).drop(columns='TeamID', axis=1)"
   ]
  },
  {
   "cell_type": "code",
   "execution_count": 27,
   "id": "1c622ee6",
   "metadata": {
    "execution": {
     "iopub.execute_input": "2023-03-31T15:07:58.261192Z",
     "iopub.status.busy": "2023-03-31T15:07:58.260553Z",
     "iopub.status.idle": "2023-03-31T15:07:58.275495Z",
     "shell.execute_reply": "2023-03-31T15:07:58.274323Z"
    },
    "papermill": {
     "duration": 0.037002,
     "end_time": "2023-03-31T15:07:58.277874",
     "exception": false,
     "start_time": "2023-03-31T15:07:58.240872",
     "status": "completed"
    },
    "tags": []
   },
   "outputs": [
    {
     "data": {
      "text/html": [
       "<div>\n",
       "<style scoped>\n",
       "    .dataframe tbody tr th:only-of-type {\n",
       "        vertical-align: middle;\n",
       "    }\n",
       "\n",
       "    .dataframe tbody tr th {\n",
       "        vertical-align: top;\n",
       "    }\n",
       "\n",
       "    .dataframe thead th {\n",
       "        text-align: right;\n",
       "    }\n",
       "</style>\n",
       "<table border=\"1\" class=\"dataframe\">\n",
       "  <thead>\n",
       "    <tr style=\"text-align: right;\">\n",
       "      <th></th>\n",
       "      <th>Season</th>\n",
       "      <th>DayNum</th>\n",
       "      <th>WTeamID</th>\n",
       "      <th>WScore</th>\n",
       "      <th>LTeamID</th>\n",
       "      <th>LScore</th>\n",
       "      <th>SeedW</th>\n",
       "      <th>SeedL</th>\n",
       "      <th>WinRatioW</th>\n",
       "      <th>GapAvgW</th>\n",
       "      <th>WinRatioL</th>\n",
       "      <th>GapAvgL</th>\n",
       "    </tr>\n",
       "  </thead>\n",
       "  <tbody>\n",
       "    <tr>\n",
       "      <th>0</th>\n",
       "      <td>2016</td>\n",
       "      <td>137</td>\n",
       "      <td>3107</td>\n",
       "      <td>61</td>\n",
       "      <td>3196</td>\n",
       "      <td>59</td>\n",
       "      <td>12</td>\n",
       "      <td>5</td>\n",
       "      <td>0.870968</td>\n",
       "      <td>18.677419</td>\n",
       "      <td>0.733333</td>\n",
       "      <td>8.700000</td>\n",
       "    </tr>\n",
       "    <tr>\n",
       "      <th>1</th>\n",
       "      <td>2016</td>\n",
       "      <td>137</td>\n",
       "      <td>3113</td>\n",
       "      <td>74</td>\n",
       "      <td>3308</td>\n",
       "      <td>52</td>\n",
       "      <td>2</td>\n",
       "      <td>15</td>\n",
       "      <td>0.806452</td>\n",
       "      <td>9.258065</td>\n",
       "      <td>0.857143</td>\n",
       "      <td>8.964286</td>\n",
       "    </tr>\n",
       "    <tr>\n",
       "      <th>2</th>\n",
       "      <td>2016</td>\n",
       "      <td>137</td>\n",
       "      <td>3120</td>\n",
       "      <td>68</td>\n",
       "      <td>3385</td>\n",
       "      <td>57</td>\n",
       "      <td>9</td>\n",
       "      <td>8</td>\n",
       "      <td>0.612903</td>\n",
       "      <td>3.032258</td>\n",
       "      <td>0.718750</td>\n",
       "      <td>6.812500</td>\n",
       "    </tr>\n",
       "    <tr>\n",
       "      <th>3</th>\n",
       "      <td>2016</td>\n",
       "      <td>137</td>\n",
       "      <td>3124</td>\n",
       "      <td>89</td>\n",
       "      <td>3225</td>\n",
       "      <td>59</td>\n",
       "      <td>1</td>\n",
       "      <td>16</td>\n",
       "      <td>0.970588</td>\n",
       "      <td>24.617647</td>\n",
       "      <td>0.709677</td>\n",
       "      <td>10.612903</td>\n",
       "    </tr>\n",
       "    <tr>\n",
       "      <th>4</th>\n",
       "      <td>2016</td>\n",
       "      <td>137</td>\n",
       "      <td>3177</td>\n",
       "      <td>97</td>\n",
       "      <td>3241</td>\n",
       "      <td>67</td>\n",
       "      <td>6</td>\n",
       "      <td>11</td>\n",
       "      <td>0.757576</td>\n",
       "      <td>16.272727</td>\n",
       "      <td>0.843750</td>\n",
       "      <td>15.406250</td>\n",
       "    </tr>\n",
       "  </tbody>\n",
       "</table>\n",
       "</div>"
      ],
      "text/plain": [
       "   Season  DayNum  WTeamID  WScore  LTeamID  LScore  SeedW  SeedL  WinRatioW  \\\n",
       "0    2016     137     3107      61     3196      59     12      5   0.870968   \n",
       "1    2016     137     3113      74     3308      52      2     15   0.806452   \n",
       "2    2016     137     3120      68     3385      57      9      8   0.612903   \n",
       "3    2016     137     3124      89     3225      59      1     16   0.970588   \n",
       "4    2016     137     3177      97     3241      67      6     11   0.757576   \n",
       "\n",
       "     GapAvgW  WinRatioL    GapAvgL  \n",
       "0  18.677419   0.733333   8.700000  \n",
       "1   9.258065   0.857143   8.964286  \n",
       "2   3.032258   0.718750   6.812500  \n",
       "3  24.617647   0.709677  10.612903  \n",
       "4  16.272727   0.843750  15.406250  "
      ]
     },
     "execution_count": 27,
     "metadata": {},
     "output_type": "execute_result"
    }
   ],
   "source": [
    "df.head()"
   ]
  },
  {
   "cell_type": "markdown",
   "id": "38dc3b25",
   "metadata": {
    "papermill": {
     "duration": 0.017392,
     "end_time": "2023-03-31T15:07:58.312992",
     "exception": false,
     "start_time": "2023-03-31T15:07:58.295600",
     "status": "completed"
    },
    "tags": []
   },
   "source": [
    "### FiveThirtyEight Ratings\n",
    "- `538ratingW` is the rating of the winning team during the season\n",
    "- `538ratingL` is the rating of the losing team during the season"
   ]
  },
  {
   "cell_type": "code",
   "execution_count": 28,
   "id": "9364efad",
   "metadata": {
    "execution": {
     "iopub.execute_input": "2023-03-31T15:07:58.350701Z",
     "iopub.status.busy": "2023-03-31T15:07:58.350259Z",
     "iopub.status.idle": "2023-03-31T15:07:58.354976Z",
     "shell.execute_reply": "2023-03-31T15:07:58.353621Z"
    },
    "papermill": {
     "duration": 0.025833,
     "end_time": "2023-03-31T15:07:58.357157",
     "exception": false,
     "start_time": "2023-03-31T15:07:58.331324",
     "status": "completed"
    },
    "tags": []
   },
   "outputs": [],
   "source": [
    "# df = pd.merge(\n",
    "#     df,\n",
    "#     df_538,\n",
    "#     how='left',\n",
    "#     left_on=['Season', 'WTeamID'],\n",
    "#     right_on=['Season', 'TeamID']\n",
    "# ).drop('TeamID', axis=1).rename(columns={'538rating': '538ratingW'})"
   ]
  },
  {
   "cell_type": "code",
   "execution_count": 29,
   "id": "f1c08141",
   "metadata": {
    "execution": {
     "iopub.execute_input": "2023-03-31T15:07:58.395179Z",
     "iopub.status.busy": "2023-03-31T15:07:58.394069Z",
     "iopub.status.idle": "2023-03-31T15:07:58.398465Z",
     "shell.execute_reply": "2023-03-31T15:07:58.397642Z"
    },
    "papermill": {
     "duration": 0.026091,
     "end_time": "2023-03-31T15:07:58.400950",
     "exception": false,
     "start_time": "2023-03-31T15:07:58.374859",
     "status": "completed"
    },
    "tags": []
   },
   "outputs": [],
   "source": [
    "# df = pd.merge(\n",
    "#     df, \n",
    "#     df_538, \n",
    "#     how='left', \n",
    "#     left_on=['Season', 'LTeamID'], \n",
    "#     right_on=['Season', 'TeamID']\n",
    "# ).drop('TeamID', axis=1).rename(columns={'538rating': '538ratingL'})"
   ]
  },
  {
   "cell_type": "code",
   "execution_count": 30,
   "id": "bc592f9e",
   "metadata": {
    "execution": {
     "iopub.execute_input": "2023-03-31T15:07:58.438101Z",
     "iopub.status.busy": "2023-03-31T15:07:58.437699Z",
     "iopub.status.idle": "2023-03-31T15:07:58.442014Z",
     "shell.execute_reply": "2023-03-31T15:07:58.440894Z"
    },
    "papermill": {
     "duration": 0.025609,
     "end_time": "2023-03-31T15:07:58.444297",
     "exception": false,
     "start_time": "2023-03-31T15:07:58.418688",
     "status": "completed"
    },
    "tags": []
   },
   "outputs": [],
   "source": [
    "# df.head()"
   ]
  },
  {
   "cell_type": "markdown",
   "id": "aaf3d834",
   "metadata": {
    "papermill": {
     "duration": 0.017889,
     "end_time": "2023-03-31T15:07:58.480575",
     "exception": false,
     "start_time": "2023-03-31T15:07:58.462686",
     "status": "completed"
    },
    "tags": []
   },
   "source": [
    "### Add symetrical\n",
    "- Right now our data only consists of won matches\n",
    "- We duplicate our data, get rid of the winner loser "
   ]
  },
  {
   "cell_type": "code",
   "execution_count": 31,
   "id": "ffa36812",
   "metadata": {
    "execution": {
     "iopub.execute_input": "2023-03-31T15:07:58.522311Z",
     "iopub.status.busy": "2023-03-31T15:07:58.521518Z",
     "iopub.status.idle": "2023-03-31T15:07:58.531334Z",
     "shell.execute_reply": "2023-03-31T15:07:58.529978Z"
    },
    "papermill": {
     "duration": 0.035964,
     "end_time": "2023-03-31T15:07:58.534039",
     "exception": false,
     "start_time": "2023-03-31T15:07:58.498075",
     "status": "completed"
    },
    "tags": []
   },
   "outputs": [],
   "source": [
    "def add_loosing_matches(df):\n",
    "    win_rename = {\n",
    "        \"WTeamID\": \"TeamIdA\", \n",
    "        \"WScore\" : \"ScoreA\", \n",
    "        \"LTeamID\" : \"TeamIdB\",\n",
    "        \"LScore\": \"ScoreB\",\n",
    "     }\n",
    "    win_rename.update({c : c[:-1] + \"A\" for c in df.columns if c.endswith('W')})\n",
    "    win_rename.update({c : c[:-1] + \"B\" for c in df.columns if c.endswith('L')})\n",
    "    \n",
    "    lose_rename = {\n",
    "        \"WTeamID\": \"TeamIdB\", \n",
    "        \"WScore\" : \"ScoreB\", \n",
    "        \"LTeamID\" : \"TeamIdA\",\n",
    "        \"LScore\": \"ScoreA\",\n",
    "    }\n",
    "    lose_rename.update({c : c[:-1] + \"B\" for c in df.columns if c.endswith('W')})\n",
    "    lose_rename.update({c : c[:-1] + \"A\" for c in df.columns if c.endswith('L')})\n",
    "    \n",
    "    win_df = df.copy()\n",
    "    lose_df = df.copy()\n",
    "    \n",
    "    win_df = win_df.rename(columns=win_rename)\n",
    "    lose_df = lose_df.rename(columns=lose_rename)\n",
    "    \n",
    "    return pd.concat([win_df, lose_df], axis=0, sort=False)"
   ]
  },
  {
   "cell_type": "code",
   "execution_count": 32,
   "id": "8f049524",
   "metadata": {
    "execution": {
     "iopub.execute_input": "2023-03-31T15:07:58.571605Z",
     "iopub.status.busy": "2023-03-31T15:07:58.571144Z",
     "iopub.status.idle": "2023-03-31T15:07:58.579990Z",
     "shell.execute_reply": "2023-03-31T15:07:58.578762Z"
    },
    "papermill": {
     "duration": 0.030741,
     "end_time": "2023-03-31T15:07:58.582663",
     "exception": false,
     "start_time": "2023-03-31T15:07:58.551922",
     "status": "completed"
    },
    "tags": []
   },
   "outputs": [],
   "source": [
    "df = add_loosing_matches(df)"
   ]
  },
  {
   "cell_type": "code",
   "execution_count": 33,
   "id": "030fef57",
   "metadata": {
    "execution": {
     "iopub.execute_input": "2023-03-31T15:07:58.621338Z",
     "iopub.status.busy": "2023-03-31T15:07:58.620471Z",
     "iopub.status.idle": "2023-03-31T15:07:58.636770Z",
     "shell.execute_reply": "2023-03-31T15:07:58.635538Z"
    },
    "papermill": {
     "duration": 0.038831,
     "end_time": "2023-03-31T15:07:58.639240",
     "exception": false,
     "start_time": "2023-03-31T15:07:58.600409",
     "status": "completed"
    },
    "tags": []
   },
   "outputs": [
    {
     "data": {
      "text/html": [
       "<div>\n",
       "<style scoped>\n",
       "    .dataframe tbody tr th:only-of-type {\n",
       "        vertical-align: middle;\n",
       "    }\n",
       "\n",
       "    .dataframe tbody tr th {\n",
       "        vertical-align: top;\n",
       "    }\n",
       "\n",
       "    .dataframe thead th {\n",
       "        text-align: right;\n",
       "    }\n",
       "</style>\n",
       "<table border=\"1\" class=\"dataframe\">\n",
       "  <thead>\n",
       "    <tr style=\"text-align: right;\">\n",
       "      <th></th>\n",
       "      <th>Season</th>\n",
       "      <th>DayNum</th>\n",
       "      <th>TeamIdA</th>\n",
       "      <th>ScoreA</th>\n",
       "      <th>TeamIdB</th>\n",
       "      <th>ScoreB</th>\n",
       "      <th>SeedA</th>\n",
       "      <th>SeedB</th>\n",
       "      <th>WinRatioA</th>\n",
       "      <th>GapAvgA</th>\n",
       "      <th>WinRatioB</th>\n",
       "      <th>GapAvgB</th>\n",
       "    </tr>\n",
       "  </thead>\n",
       "  <tbody>\n",
       "    <tr>\n",
       "      <th>0</th>\n",
       "      <td>2016</td>\n",
       "      <td>137</td>\n",
       "      <td>3107</td>\n",
       "      <td>61</td>\n",
       "      <td>3196</td>\n",
       "      <td>59</td>\n",
       "      <td>12</td>\n",
       "      <td>5</td>\n",
       "      <td>0.870968</td>\n",
       "      <td>18.677419</td>\n",
       "      <td>0.733333</td>\n",
       "      <td>8.700000</td>\n",
       "    </tr>\n",
       "    <tr>\n",
       "      <th>1</th>\n",
       "      <td>2016</td>\n",
       "      <td>137</td>\n",
       "      <td>3113</td>\n",
       "      <td>74</td>\n",
       "      <td>3308</td>\n",
       "      <td>52</td>\n",
       "      <td>2</td>\n",
       "      <td>15</td>\n",
       "      <td>0.806452</td>\n",
       "      <td>9.258065</td>\n",
       "      <td>0.857143</td>\n",
       "      <td>8.964286</td>\n",
       "    </tr>\n",
       "    <tr>\n",
       "      <th>2</th>\n",
       "      <td>2016</td>\n",
       "      <td>137</td>\n",
       "      <td>3120</td>\n",
       "      <td>68</td>\n",
       "      <td>3385</td>\n",
       "      <td>57</td>\n",
       "      <td>9</td>\n",
       "      <td>8</td>\n",
       "      <td>0.612903</td>\n",
       "      <td>3.032258</td>\n",
       "      <td>0.718750</td>\n",
       "      <td>6.812500</td>\n",
       "    </tr>\n",
       "    <tr>\n",
       "      <th>3</th>\n",
       "      <td>2016</td>\n",
       "      <td>137</td>\n",
       "      <td>3124</td>\n",
       "      <td>89</td>\n",
       "      <td>3225</td>\n",
       "      <td>59</td>\n",
       "      <td>1</td>\n",
       "      <td>16</td>\n",
       "      <td>0.970588</td>\n",
       "      <td>24.617647</td>\n",
       "      <td>0.709677</td>\n",
       "      <td>10.612903</td>\n",
       "    </tr>\n",
       "    <tr>\n",
       "      <th>4</th>\n",
       "      <td>2016</td>\n",
       "      <td>137</td>\n",
       "      <td>3177</td>\n",
       "      <td>97</td>\n",
       "      <td>3241</td>\n",
       "      <td>67</td>\n",
       "      <td>6</td>\n",
       "      <td>11</td>\n",
       "      <td>0.757576</td>\n",
       "      <td>16.272727</td>\n",
       "      <td>0.843750</td>\n",
       "      <td>15.406250</td>\n",
       "    </tr>\n",
       "  </tbody>\n",
       "</table>\n",
       "</div>"
      ],
      "text/plain": [
       "   Season  DayNum  TeamIdA  ScoreA  TeamIdB  ScoreB  SeedA  SeedB  WinRatioA  \\\n",
       "0    2016     137     3107      61     3196      59     12      5   0.870968   \n",
       "1    2016     137     3113      74     3308      52      2     15   0.806452   \n",
       "2    2016     137     3120      68     3385      57      9      8   0.612903   \n",
       "3    2016     137     3124      89     3225      59      1     16   0.970588   \n",
       "4    2016     137     3177      97     3241      67      6     11   0.757576   \n",
       "\n",
       "     GapAvgA  WinRatioB    GapAvgB  \n",
       "0  18.677419   0.733333   8.700000  \n",
       "1   9.258065   0.857143   8.964286  \n",
       "2   3.032258   0.718750   6.812500  \n",
       "3  24.617647   0.709677  10.612903  \n",
       "4  16.272727   0.843750  15.406250  "
      ]
     },
     "execution_count": 33,
     "metadata": {},
     "output_type": "execute_result"
    }
   ],
   "source": [
    "df.head()"
   ]
  },
  {
   "cell_type": "markdown",
   "id": "b75afc8a",
   "metadata": {
    "papermill": {
     "duration": 0.017887,
     "end_time": "2023-03-31T15:07:58.675635",
     "exception": false,
     "start_time": "2023-03-31T15:07:58.657748",
     "status": "completed"
    },
    "tags": []
   },
   "source": [
    "### Differences\n",
    "- We compute the difference between the team for each feature.\n",
    "- This helps further assessing how better (or worse) team A is from team B"
   ]
  },
  {
   "cell_type": "code",
   "execution_count": 34,
   "id": "9e8f45a8",
   "metadata": {
    "execution": {
     "iopub.execute_input": "2023-03-31T15:07:58.714552Z",
     "iopub.status.busy": "2023-03-31T15:07:58.713803Z",
     "iopub.status.idle": "2023-03-31T15:07:58.722431Z",
     "shell.execute_reply": "2023-03-31T15:07:58.721639Z"
    },
    "papermill": {
     "duration": 0.030692,
     "end_time": "2023-03-31T15:07:58.724841",
     "exception": false,
     "start_time": "2023-03-31T15:07:58.694149",
     "status": "completed"
    },
    "tags": []
   },
   "outputs": [],
   "source": [
    "cols_to_diff = [\n",
    "    'Seed', 'WinRatio', 'GapAvg', # '538rating'\n",
    "]\n",
    "\n",
    "for col in cols_to_diff:\n",
    "    df[col + 'Diff'] = df[col + 'A'] - df[col + 'B']"
   ]
  },
  {
   "cell_type": "markdown",
   "id": "88a3c508",
   "metadata": {
    "papermill": {
     "duration": 0.017996,
     "end_time": "2023-03-31T15:07:58.760929",
     "exception": false,
     "start_time": "2023-03-31T15:07:58.742933",
     "status": "completed"
    },
    "tags": []
   },
   "source": [
    "## Test Data"
   ]
  },
  {
   "cell_type": "markdown",
   "id": "ad691578",
   "metadata": {
    "papermill": {
     "duration": 0.017485,
     "end_time": "2023-03-31T15:07:58.796247",
     "exception": false,
     "start_time": "2023-03-31T15:07:58.778762",
     "status": "completed"
    },
    "tags": []
   },
   "source": [
    "### Preparing"
   ]
  },
  {
   "cell_type": "code",
   "execution_count": 35,
   "id": "ceb04e1e",
   "metadata": {
    "execution": {
     "iopub.execute_input": "2023-03-31T15:07:58.834752Z",
     "iopub.status.busy": "2023-03-31T15:07:58.834275Z",
     "iopub.status.idle": "2023-03-31T15:07:58.951855Z",
     "shell.execute_reply": "2023-03-31T15:07:58.950696Z"
    },
    "papermill": {
     "duration": 0.140481,
     "end_time": "2023-03-31T15:07:58.954799",
     "exception": false,
     "start_time": "2023-03-31T15:07:58.814318",
     "status": "completed"
    },
    "tags": []
   },
   "outputs": [],
   "source": [
    "df_test = pd.read_csv(DATA_PATH + \"SampleSubmission2023.csv\")"
   ]
  },
  {
   "cell_type": "code",
   "execution_count": 36,
   "id": "236377b3",
   "metadata": {
    "execution": {
     "iopub.execute_input": "2023-03-31T15:07:58.992428Z",
     "iopub.status.busy": "2023-03-31T15:07:58.991986Z",
     "iopub.status.idle": "2023-03-31T15:07:59.313301Z",
     "shell.execute_reply": "2023-03-31T15:07:59.312163Z"
    },
    "papermill": {
     "duration": 0.343267,
     "end_time": "2023-03-31T15:07:59.316019",
     "exception": false,
     "start_time": "2023-03-31T15:07:58.972752",
     "status": "completed"
    },
    "tags": []
   },
   "outputs": [],
   "source": [
    "df_test['Season'] = df_test['ID'].apply(lambda x: int(x.split('_')[0]))\n",
    "df_test['TeamIdA'] = df_test['ID'].apply(lambda x: int(x.split('_')[1]))\n",
    "df_test['TeamIdB'] = df_test['ID'].apply(lambda x: int(x.split('_')[2]))"
   ]
  },
  {
   "cell_type": "code",
   "execution_count": 37,
   "id": "0e502df1",
   "metadata": {
    "execution": {
     "iopub.execute_input": "2023-03-31T15:07:59.353760Z",
     "iopub.status.busy": "2023-03-31T15:07:59.353310Z",
     "iopub.status.idle": "2023-03-31T15:07:59.365658Z",
     "shell.execute_reply": "2023-03-31T15:07:59.364569Z"
    },
    "papermill": {
     "duration": 0.033909,
     "end_time": "2023-03-31T15:07:59.367885",
     "exception": false,
     "start_time": "2023-03-31T15:07:59.333976",
     "status": "completed"
    },
    "tags": []
   },
   "outputs": [
    {
     "data": {
      "text/html": [
       "<div>\n",
       "<style scoped>\n",
       "    .dataframe tbody tr th:only-of-type {\n",
       "        vertical-align: middle;\n",
       "    }\n",
       "\n",
       "    .dataframe tbody tr th {\n",
       "        vertical-align: top;\n",
       "    }\n",
       "\n",
       "    .dataframe thead th {\n",
       "        text-align: right;\n",
       "    }\n",
       "</style>\n",
       "<table border=\"1\" class=\"dataframe\">\n",
       "  <thead>\n",
       "    <tr style=\"text-align: right;\">\n",
       "      <th></th>\n",
       "      <th>ID</th>\n",
       "      <th>Pred</th>\n",
       "      <th>Season</th>\n",
       "      <th>TeamIdA</th>\n",
       "      <th>TeamIdB</th>\n",
       "    </tr>\n",
       "  </thead>\n",
       "  <tbody>\n",
       "    <tr>\n",
       "      <th>0</th>\n",
       "      <td>2023_1101_1102</td>\n",
       "      <td>0.5</td>\n",
       "      <td>2023</td>\n",
       "      <td>1101</td>\n",
       "      <td>1102</td>\n",
       "    </tr>\n",
       "    <tr>\n",
       "      <th>1</th>\n",
       "      <td>2023_1101_1103</td>\n",
       "      <td>0.5</td>\n",
       "      <td>2023</td>\n",
       "      <td>1101</td>\n",
       "      <td>1103</td>\n",
       "    </tr>\n",
       "    <tr>\n",
       "      <th>2</th>\n",
       "      <td>2023_1101_1104</td>\n",
       "      <td>0.5</td>\n",
       "      <td>2023</td>\n",
       "      <td>1101</td>\n",
       "      <td>1104</td>\n",
       "    </tr>\n",
       "    <tr>\n",
       "      <th>3</th>\n",
       "      <td>2023_1101_1105</td>\n",
       "      <td>0.5</td>\n",
       "      <td>2023</td>\n",
       "      <td>1101</td>\n",
       "      <td>1105</td>\n",
       "    </tr>\n",
       "    <tr>\n",
       "      <th>4</th>\n",
       "      <td>2023_1101_1106</td>\n",
       "      <td>0.5</td>\n",
       "      <td>2023</td>\n",
       "      <td>1101</td>\n",
       "      <td>1106</td>\n",
       "    </tr>\n",
       "  </tbody>\n",
       "</table>\n",
       "</div>"
      ],
      "text/plain": [
       "               ID  Pred  Season  TeamIdA  TeamIdB\n",
       "0  2023_1101_1102   0.5    2023     1101     1102\n",
       "1  2023_1101_1103   0.5    2023     1101     1103\n",
       "2  2023_1101_1104   0.5    2023     1101     1104\n",
       "3  2023_1101_1105   0.5    2023     1101     1105\n",
       "4  2023_1101_1106   0.5    2023     1101     1106"
      ]
     },
     "execution_count": 37,
     "metadata": {},
     "output_type": "execute_result"
    }
   ],
   "source": [
    "df_test.head()"
   ]
  },
  {
   "cell_type": "markdown",
   "id": "730a1ab6",
   "metadata": {
    "papermill": {
     "duration": 0.017964,
     "end_time": "2023-03-31T15:07:59.404475",
     "exception": false,
     "start_time": "2023-03-31T15:07:59.386511",
     "status": "completed"
    },
    "tags": []
   },
   "source": [
    "### Seeds\n",
    "- Seeds are not released yet, so I fill missing values with \"W01\""
   ]
  },
  {
   "cell_type": "code",
   "execution_count": 38,
   "id": "b27c2eea",
   "metadata": {
    "execution": {
     "iopub.execute_input": "2023-03-31T15:07:59.442237Z",
     "iopub.status.busy": "2023-03-31T15:07:59.441802Z",
     "iopub.status.idle": "2023-03-31T15:07:59.505951Z",
     "shell.execute_reply": "2023-03-31T15:07:59.504760Z"
    },
    "papermill": {
     "duration": 0.086167,
     "end_time": "2023-03-31T15:07:59.508675",
     "exception": false,
     "start_time": "2023-03-31T15:07:59.422508",
     "status": "completed"
    },
    "tags": []
   },
   "outputs": [],
   "source": [
    "df_test = pd.merge(\n",
    "    df_test,\n",
    "    df_seeds,\n",
    "    how='left',\n",
    "    left_on=['Season', 'TeamIdA'],\n",
    "    right_on=['Season', 'TeamID']\n",
    ").drop('TeamID', axis=1).rename(columns={'Seed': 'SeedA'}).fillna('W01')"
   ]
  },
  {
   "cell_type": "code",
   "execution_count": 39,
   "id": "6fdff253",
   "metadata": {
    "execution": {
     "iopub.execute_input": "2023-03-31T15:07:59.548212Z",
     "iopub.status.busy": "2023-03-31T15:07:59.547767Z",
     "iopub.status.idle": "2023-03-31T15:07:59.627747Z",
     "shell.execute_reply": "2023-03-31T15:07:59.626546Z"
    },
    "papermill": {
     "duration": 0.102544,
     "end_time": "2023-03-31T15:07:59.630374",
     "exception": false,
     "start_time": "2023-03-31T15:07:59.527830",
     "status": "completed"
    },
    "tags": []
   },
   "outputs": [],
   "source": [
    "df_test = pd.merge(\n",
    "    df_test, \n",
    "    df_seeds, \n",
    "    how='left', \n",
    "    left_on=['Season', 'TeamIdB'], \n",
    "    right_on=['Season', 'TeamID']\n",
    ").drop('TeamID', axis=1).rename(columns={'Seed': 'SeedB'}).fillna('W01')"
   ]
  },
  {
   "cell_type": "code",
   "execution_count": 40,
   "id": "34f30ee6",
   "metadata": {
    "execution": {
     "iopub.execute_input": "2023-03-31T15:07:59.668312Z",
     "iopub.status.busy": "2023-03-31T15:07:59.667872Z",
     "iopub.status.idle": "2023-03-31T15:08:00.158315Z",
     "shell.execute_reply": "2023-03-31T15:08:00.157033Z"
    },
    "papermill": {
     "duration": 0.512829,
     "end_time": "2023-03-31T15:08:00.161270",
     "exception": false,
     "start_time": "2023-03-31T15:07:59.648441",
     "status": "completed"
    },
    "tags": []
   },
   "outputs": [],
   "source": [
    "df_test['SeedA'] = df_test['SeedA'].apply(treat_seed)\n",
    "df_test['SeedB'] = df_test['SeedB'].apply(treat_seed)"
   ]
  },
  {
   "cell_type": "markdown",
   "id": "7b116aff",
   "metadata": {
    "papermill": {
     "duration": 0.018149,
     "end_time": "2023-03-31T15:08:00.197325",
     "exception": false,
     "start_time": "2023-03-31T15:08:00.179176",
     "status": "completed"
    },
    "tags": []
   },
   "source": [
    "### Season Stats"
   ]
  },
  {
   "cell_type": "code",
   "execution_count": 41,
   "id": "1d23de1e",
   "metadata": {
    "execution": {
     "iopub.execute_input": "2023-03-31T15:08:00.236060Z",
     "iopub.status.busy": "2023-03-31T15:08:00.235315Z",
     "iopub.status.idle": "2023-03-31T15:08:00.285175Z",
     "shell.execute_reply": "2023-03-31T15:08:00.284220Z"
    },
    "papermill": {
     "duration": 0.071815,
     "end_time": "2023-03-31T15:08:00.287699",
     "exception": false,
     "start_time": "2023-03-31T15:08:00.215884",
     "status": "completed"
    },
    "tags": []
   },
   "outputs": [],
   "source": [
    "df_test = pd.merge(\n",
    "    df_test,\n",
    "    df_features_season,\n",
    "    how='left',\n",
    "    left_on=['Season', 'TeamIdA'],\n",
    "    right_on=['Season', 'TeamID']\n",
    ").rename(columns={\n",
    "    'NumWins': 'NumWinsA',\n",
    "    'NumLosses': 'NumLossesA',\n",
    "    'GapWins': 'GapWinsA',\n",
    "    'GapLosses': 'GapLossesA',\n",
    "    'WinRatio': 'WinRatioA',\n",
    "    'GapAvg': 'GapAvgA',\n",
    "}).drop(columns='TeamID', axis=1)"
   ]
  },
  {
   "cell_type": "code",
   "execution_count": 42,
   "id": "3a61df14",
   "metadata": {
    "execution": {
     "iopub.execute_input": "2023-03-31T15:08:00.325419Z",
     "iopub.status.busy": "2023-03-31T15:08:00.324802Z",
     "iopub.status.idle": "2023-03-31T15:08:00.377826Z",
     "shell.execute_reply": "2023-03-31T15:08:00.376385Z"
    },
    "papermill": {
     "duration": 0.075303,
     "end_time": "2023-03-31T15:08:00.380717",
     "exception": false,
     "start_time": "2023-03-31T15:08:00.305414",
     "status": "completed"
    },
    "tags": []
   },
   "outputs": [],
   "source": [
    "df_test = pd.merge(\n",
    "    df_test,\n",
    "    df_features_season,\n",
    "    how='left',\n",
    "    left_on=['Season', 'TeamIdB'],\n",
    "    right_on=['Season', 'TeamID']\n",
    ").rename(columns={\n",
    "    'NumWins': 'NumWinsB',\n",
    "    'NumLosses': 'NumLossesB',\n",
    "    'GapWins': 'GapWinsB',\n",
    "    'GapLosses': 'GapLossesB',\n",
    "    'WinRatio': 'WinRatioB',\n",
    "    'GapAvg': 'GapAvgB',\n",
    "}).drop(columns='TeamID', axis=1)"
   ]
  },
  {
   "cell_type": "markdown",
   "id": "c9bccd2e",
   "metadata": {
    "papermill": {
     "duration": 0.017423,
     "end_time": "2023-03-31T15:08:00.416007",
     "exception": false,
     "start_time": "2023-03-31T15:08:00.398584",
     "status": "completed"
    },
    "tags": []
   },
   "source": [
    "### Ratings"
   ]
  },
  {
   "cell_type": "code",
   "execution_count": 43,
   "id": "a4db033a",
   "metadata": {
    "execution": {
     "iopub.execute_input": "2023-03-31T15:08:00.454141Z",
     "iopub.status.busy": "2023-03-31T15:08:00.453734Z",
     "iopub.status.idle": "2023-03-31T15:08:00.458666Z",
     "shell.execute_reply": "2023-03-31T15:08:00.457351Z"
    },
    "papermill": {
     "duration": 0.026706,
     "end_time": "2023-03-31T15:08:00.461022",
     "exception": false,
     "start_time": "2023-03-31T15:08:00.434316",
     "status": "completed"
    },
    "tags": []
   },
   "outputs": [],
   "source": [
    "# df_test = pd.merge(\n",
    "#     df_test,\n",
    "#     df_538,\n",
    "#     how='left',\n",
    "#     left_on=['Season', 'TeamIdA'],\n",
    "#     right_on=['Season', 'TeamID']\n",
    "# ).drop('TeamID', axis=1).rename(columns={'538rating': '538ratingA'})"
   ]
  },
  {
   "cell_type": "code",
   "execution_count": 44,
   "id": "74d92f6a",
   "metadata": {
    "execution": {
     "iopub.execute_input": "2023-03-31T15:08:00.499702Z",
     "iopub.status.busy": "2023-03-31T15:08:00.499253Z",
     "iopub.status.idle": "2023-03-31T15:08:00.504598Z",
     "shell.execute_reply": "2023-03-31T15:08:00.503410Z"
    },
    "papermill": {
     "duration": 0.027307,
     "end_time": "2023-03-31T15:08:00.506941",
     "exception": false,
     "start_time": "2023-03-31T15:08:00.479634",
     "status": "completed"
    },
    "tags": []
   },
   "outputs": [],
   "source": [
    "# df_test = pd.merge(\n",
    "#     df_test,\n",
    "#     df_538,\n",
    "#     how='left',\n",
    "#     left_on=['Season', 'TeamIdB'],\n",
    "#     right_on=['Season', 'TeamID']\n",
    "# ).drop('TeamID', axis=1).rename(columns={'538rating': '538ratingB'})"
   ]
  },
  {
   "cell_type": "markdown",
   "id": "62333f8a",
   "metadata": {
    "papermill": {
     "duration": 0.017733,
     "end_time": "2023-03-31T15:08:00.542899",
     "exception": false,
     "start_time": "2023-03-31T15:08:00.525166",
     "status": "completed"
    },
    "tags": []
   },
   "source": [
    "### Differences"
   ]
  },
  {
   "cell_type": "code",
   "execution_count": 45,
   "id": "9fca33bf",
   "metadata": {
    "execution": {
     "iopub.execute_input": "2023-03-31T15:08:00.581240Z",
     "iopub.status.busy": "2023-03-31T15:08:00.580302Z",
     "iopub.status.idle": "2023-03-31T15:08:00.590158Z",
     "shell.execute_reply": "2023-03-31T15:08:00.588986Z"
    },
    "papermill": {
     "duration": 0.032147,
     "end_time": "2023-03-31T15:08:00.592942",
     "exception": false,
     "start_time": "2023-03-31T15:08:00.560795",
     "status": "completed"
    },
    "tags": []
   },
   "outputs": [],
   "source": [
    "for col in cols_to_diff:\n",
    "    df_test[col + 'Diff'] = df_test[col + 'A'] - df_test[col + 'B']"
   ]
  },
  {
   "cell_type": "markdown",
   "id": "1fe710c2",
   "metadata": {
    "papermill": {
     "duration": 0.018321,
     "end_time": "2023-03-31T15:08:00.630185",
     "exception": false,
     "start_time": "2023-03-31T15:08:00.611864",
     "status": "completed"
    },
    "tags": []
   },
   "source": [
    "## Target"
   ]
  },
  {
   "cell_type": "code",
   "execution_count": 46,
   "id": "7432875b",
   "metadata": {
    "execution": {
     "iopub.execute_input": "2023-03-31T15:08:00.668386Z",
     "iopub.status.busy": "2023-03-31T15:08:00.667521Z",
     "iopub.status.idle": "2023-03-31T15:08:00.675976Z",
     "shell.execute_reply": "2023-03-31T15:08:00.674712Z"
    },
    "papermill": {
     "duration": 0.030378,
     "end_time": "2023-03-31T15:08:00.678601",
     "exception": false,
     "start_time": "2023-03-31T15:08:00.648223",
     "status": "completed"
    },
    "tags": []
   },
   "outputs": [],
   "source": [
    "df['ScoreDiff'] = df['ScoreA'] - df['ScoreB']\n",
    "df['WinA'] = (df['ScoreDiff'] > 0).astype(int)"
   ]
  },
  {
   "cell_type": "markdown",
   "id": "4932c666",
   "metadata": {
    "papermill": {
     "duration": 0.017682,
     "end_time": "2023-03-31T15:08:00.714537",
     "exception": false,
     "start_time": "2023-03-31T15:08:00.696855",
     "status": "completed"
    },
    "tags": []
   },
   "source": [
    "# Modeling"
   ]
  },
  {
   "cell_type": "code",
   "execution_count": 47,
   "id": "fbb7a6bc",
   "metadata": {
    "execution": {
     "iopub.execute_input": "2023-03-31T15:08:00.751977Z",
     "iopub.status.busy": "2023-03-31T15:08:00.751522Z",
     "iopub.status.idle": "2023-03-31T15:08:00.757005Z",
     "shell.execute_reply": "2023-03-31T15:08:00.755837Z"
    },
    "papermill": {
     "duration": 0.026923,
     "end_time": "2023-03-31T15:08:00.759192",
     "exception": false,
     "start_time": "2023-03-31T15:08:00.732269",
     "status": "completed"
    },
    "tags": []
   },
   "outputs": [],
   "source": [
    "features = [\n",
    "    \"SeedA\", \"SeedB\", 'WinRatioA', 'GapAvgA', 'WinRatioB', 'GapAvgB', 'SeedDiff', 'WinRatioDiff', 'GapAvgDiff'\n",
    "]"
   ]
  },
  {
   "cell_type": "code",
   "execution_count": 48,
   "id": "9af69ced",
   "metadata": {
    "execution": {
     "iopub.execute_input": "2023-03-31T15:08:00.796645Z",
     "iopub.status.busy": "2023-03-31T15:08:00.796227Z",
     "iopub.status.idle": "2023-03-31T15:08:00.800418Z",
     "shell.execute_reply": "2023-03-31T15:08:00.799628Z"
    },
    "papermill": {
     "duration": 0.025135,
     "end_time": "2023-03-31T15:08:00.802423",
     "exception": false,
     "start_time": "2023-03-31T15:08:00.777288",
     "status": "completed"
    },
    "tags": []
   },
   "outputs": [],
   "source": [
    "# features = [\n",
    "#     'SeedDiff',\n",
    "# #     '538ratingDiff',\n",
    "#     'WinRatioDiff', \n",
    "#     'GapAvgDiff', \n",
    "# ]"
   ]
  },
  {
   "cell_type": "code",
   "execution_count": 49,
   "id": "5bed3206",
   "metadata": {
    "execution": {
     "iopub.execute_input": "2023-03-31T15:08:00.840353Z",
     "iopub.status.busy": "2023-03-31T15:08:00.839396Z",
     "iopub.status.idle": "2023-03-31T15:08:00.846418Z",
     "shell.execute_reply": "2023-03-31T15:08:00.845332Z"
    },
    "papermill": {
     "duration": 0.02855,
     "end_time": "2023-03-31T15:08:00.848734",
     "exception": false,
     "start_time": "2023-03-31T15:08:00.820184",
     "status": "completed"
    },
    "tags": []
   },
   "outputs": [],
   "source": [
    "def rescale(features, df_train, df_val, df_test=None):\n",
    "    min_ = df_train[features].min()\n",
    "    max_ = df_train[features].max()\n",
    "    \n",
    "    df_train[features] = (df_train[features] - min_) / (max_ - min_)\n",
    "    df_val[features] = (df_val[features] - min_) / (max_ - min_)\n",
    "    \n",
    "    if df_test is not None:\n",
    "        df_test[features] = (df_test[features] - min_) / (max_ - min_)\n",
    "        \n",
    "    return df_train, df_val, df_test"
   ]
  },
  {
   "cell_type": "markdown",
   "id": "47a4a919",
   "metadata": {
    "papermill": {
     "duration": 0.017378,
     "end_time": "2023-03-31T15:08:00.883759",
     "exception": false,
     "start_time": "2023-03-31T15:08:00.866381",
     "status": "completed"
    },
    "tags": []
   },
   "source": [
    "### Cross Validation\n",
    "- Validate on season `n`, for `n` in the 3 last seasons. \n",
    "- Train on earlier seasons. First available season is 2016 because of the FiveThirtyEight ratings.\n",
    "- Pipeline support classification (predict the team that wins) and regression (predict the score gap), but classification worked better on CV."
   ]
  },
  {
   "cell_type": "code",
   "execution_count": 50,
   "id": "15d83e66",
   "metadata": {
    "execution": {
     "iopub.execute_input": "2023-03-31T15:08:00.920711Z",
     "iopub.status.busy": "2023-03-31T15:08:00.920254Z",
     "iopub.status.idle": "2023-03-31T15:08:01.781313Z",
     "shell.execute_reply": "2023-03-31T15:08:01.780067Z"
    },
    "papermill": {
     "duration": 0.882861,
     "end_time": "2023-03-31T15:08:01.784193",
     "exception": false,
     "start_time": "2023-03-31T15:08:00.901332",
     "status": "completed"
    },
    "tags": []
   },
   "outputs": [
    {
     "data": {
      "text/html": [
       "<style type='text/css'>\n",
       ".datatable table.frame { margin-bottom: 0; }\n",
       ".datatable table.frame thead { border-bottom: none; }\n",
       ".datatable table.frame tr.coltypes td {  color: #FFFFFF;  line-height: 6px;  padding: 0 0.5em;}\n",
       ".datatable .bool    { background: #DDDD99; }\n",
       ".datatable .object  { background: #565656; }\n",
       ".datatable .int     { background: #5D9E5D; }\n",
       ".datatable .float   { background: #4040CC; }\n",
       ".datatable .str     { background: #CC4040; }\n",
       ".datatable .time    { background: #40CC40; }\n",
       ".datatable .row_index {  background: var(--jp-border-color3);  border-right: 1px solid var(--jp-border-color0);  color: var(--jp-ui-font-color3);  font-size: 9px;}\n",
       ".datatable .frame tbody td { text-align: left; }\n",
       ".datatable .frame tr.coltypes .row_index {  background: var(--jp-border-color0);}\n",
       ".datatable th:nth-child(2) { padding-left: 12px; }\n",
       ".datatable .hellipsis {  color: var(--jp-cell-editor-border-color);}\n",
       ".datatable .vellipsis {  background: var(--jp-layout-color0);  color: var(--jp-cell-editor-border-color);}\n",
       ".datatable .na {  color: var(--jp-cell-editor-border-color);  font-size: 80%;}\n",
       ".datatable .sp {  opacity: 0.25;}\n",
       ".datatable .footer { font-size: 9px; }\n",
       ".datatable .frame_dimensions {  background: var(--jp-border-color3);  border-top: 1px solid var(--jp-border-color0);  color: var(--jp-ui-font-color3);  display: inline-block;  opacity: 0.6;  padding: 1px 10px 1px 5px;}\n",
       "</style>\n"
      ],
      "text/plain": [
       "<IPython.core.display.HTML object>"
      ]
     },
     "metadata": {},
     "output_type": "display_data"
    }
   ],
   "source": [
    "import lightgbm as lgb\n"
   ]
  },
  {
   "cell_type": "code",
   "execution_count": 51,
   "id": "a1f42193",
   "metadata": {
    "execution": {
     "iopub.execute_input": "2023-03-31T15:08:01.823854Z",
     "iopub.status.busy": "2023-03-31T15:08:01.822885Z",
     "iopub.status.idle": "2023-03-31T15:08:01.839106Z",
     "shell.execute_reply": "2023-03-31T15:08:01.838009Z"
    },
    "papermill": {
     "duration": 0.038327,
     "end_time": "2023-03-31T15:08:01.841879",
     "exception": false,
     "start_time": "2023-03-31T15:08:01.803552",
     "status": "completed"
    },
    "tags": []
   },
   "outputs": [],
   "source": [
    "def kfold(df, df_test_=None, plot=False, verbose=0, mode=\"reg\"):\n",
    "    seasons = df['Season'].unique()\n",
    "    cvs = []\n",
    "    pred_tests = []\n",
    "    target = \"ScoreDiff\" if mode == \"reg\" else \"WinA\"\n",
    "    \n",
    "    for season in seasons[1:]:\n",
    "        if verbose:\n",
    "            print(f'\\nValidating on season {season}')\n",
    "        \n",
    "        df_train = df[df['Season'] < season].reset_index(drop=True).copy()\n",
    "        df_val = df[df['Season'] == season].reset_index(drop=True).copy()\n",
    "        df_test = df_test_.copy()\n",
    "        \n",
    "        df_train, df_val, df_test = rescale(features, df_train, df_val, df_test)\n",
    "        \n",
    "        if mode == \"reg\":\n",
    "#             model = LinearRegression()\n",
    "            model = ElasticNet(alpha=1, l1_ratio=0.5)\n",
    "        elif mode == \"lgbm\":\n",
    "            model = lgb.LGBMClassifier()#num_leaves=31, objective='binary')\n",
    "        else:\n",
    "            model = LogisticRegression(C=1)\n",
    "\n",
    "        model.fit(df_train[features], df_train[target])\n",
    "        \n",
    "        if mode == \"reg\":\n",
    "            pred = model.predict(df_val[features])\n",
    "        elif mode == \"lgbm\":\n",
    "            pred = model.predict(df_val[features])\n",
    "        else:\n",
    "            pred = model.predict_proba(df_val[features])[:, 1]\n",
    "        \n",
    "        if df_test is not None:\n",
    "            if mode == \"reg\":\n",
    "                pred_test = model.predict(df_test[features])\n",
    "                \n",
    "#                 print( pred_test.max() - pred_test.min())\n",
    "                pred_test = (pred_test - pred_test.min()) / (pred_test.max() - pred_test.min())\n",
    "            else:\n",
    "                pred_test = model.predict_proba(df_test[features])[:, 1]\n",
    "                \n",
    "            pred_tests.append(pred_test)\n",
    "            \n",
    "        if plot:\n",
    "            plt.figure(figsize=(15, 6))\n",
    "            plt.subplot(1, 2, 1)\n",
    "            plt.scatter(pred, df_val['ScoreDiff'].values, s=5)\n",
    "            plt.title('Prediction vs Score Diff')\n",
    "            plt.grid(True)\n",
    "            plt.subplot(1, 2, 2)\n",
    "            sns.histplot(pred, bins=20)\n",
    "            plt.title('Predictions probability repartition')\n",
    "            plt.show()\n",
    "        \n",
    "        pred = (pred - pred.min()) / (pred.max() - pred.min())\n",
    "        pred = np.clip(pred, 0, 1)\n",
    "\n",
    "        score = ((df_val['WinA'].values - pred) ** 2).mean()\n",
    "        cvs.append(score)\n",
    "\n",
    "        if verbose:\n",
    "            print(f'\\t -> Scored {score:.3f}')\n",
    "        \n",
    "    print(f'\\n Local CV is {np.mean(cvs):.3f}')\n",
    "    \n",
    "    return pred_tests"
   ]
  },
  {
   "cell_type": "code",
   "execution_count": 52,
   "id": "9015f712",
   "metadata": {
    "execution": {
     "iopub.execute_input": "2023-03-31T15:08:01.881147Z",
     "iopub.status.busy": "2023-03-31T15:08:01.880715Z",
     "iopub.status.idle": "2023-03-31T15:08:05.156166Z",
     "shell.execute_reply": "2023-03-31T15:08:05.154806Z"
    },
    "papermill": {
     "duration": 3.29876,
     "end_time": "2023-03-31T15:08:05.159244",
     "exception": false,
     "start_time": "2023-03-31T15:08:01.860484",
     "status": "completed"
    },
    "tags": []
   },
   "outputs": [
    {
     "name": "stdout",
     "output_type": "stream",
     "text": [
      "\n",
      "Validating on season 2017\n",
      "\t -> Scored 0.288\n",
      "\n",
      "Validating on season 2018\n",
      "\t -> Scored 0.346\n",
      "\n",
      "Validating on season 2019\n",
      "\t -> Scored 0.304\n",
      "\n",
      "Validating on season 2021\n",
      "\t -> Scored 0.326\n",
      "\n",
      "Validating on season 2022\n",
      "\t -> Scored 0.336\n",
      "\n",
      " Local CV is 0.320\n"
     ]
    }
   ],
   "source": [
    "pred_tests = kfold(df, df_test, plot=False, verbose=1, mode=\"lgbm\")"
   ]
  },
  {
   "cell_type": "markdown",
   "id": "bc81fb2e",
   "metadata": {
    "papermill": {
     "duration": 0.017998,
     "end_time": "2023-03-31T15:08:05.196273",
     "exception": false,
     "start_time": "2023-03-31T15:08:05.178275",
     "status": "completed"
    },
    "tags": []
   },
   "source": [
    "## Submission"
   ]
  },
  {
   "cell_type": "code",
   "execution_count": 53,
   "id": "4f31dabe",
   "metadata": {
    "execution": {
     "iopub.execute_input": "2023-03-31T15:08:05.236935Z",
     "iopub.status.busy": "2023-03-31T15:08:05.236109Z",
     "iopub.status.idle": "2023-03-31T15:08:06.018547Z",
     "shell.execute_reply": "2023-03-31T15:08:06.017638Z"
    },
    "papermill": {
     "duration": 0.805572,
     "end_time": "2023-03-31T15:08:06.021527",
     "exception": false,
     "start_time": "2023-03-31T15:08:05.215955",
     "status": "completed"
    },
    "tags": []
   },
   "outputs": [
    {
     "data": {
      "image/png": "[encoded data removed]",
      "text/plain": [
       "<Figure size 500x500 with 1 Axes>"
      ]
     },
     "metadata": {},
     "output_type": "display_data"
    }
   ],
   "source": [
    "pred_test = np.mean(pred_tests, 0)\n",
    "df_test['pred'] = pred_test\n",
    "\n",
    "_ = sns.displot(pred_test)"
   ]
  },
  {
   "cell_type": "code",
   "execution_count": 54,
   "id": "8992fbbb",
   "metadata": {
    "execution": {
     "iopub.execute_input": "2023-03-31T15:08:06.065344Z",
     "iopub.status.busy": "2023-03-31T15:08:06.064869Z",
     "iopub.status.idle": "2023-03-31T15:08:06.658100Z",
     "shell.execute_reply": "2023-03-31T15:08:06.656657Z"
    },
    "papermill": {
     "duration": 0.616372,
     "end_time": "2023-03-31T15:08:06.661022",
     "exception": false,
     "start_time": "2023-03-31T15:08:06.044650",
     "status": "completed"
    },
    "tags": []
   },
   "outputs": [],
   "source": [
    "final_sub = df_test[['ID', 'pred']].copy()\n",
    "final_sub.to_csv('submission.csv', index=False)"
   ]
  },
  {
   "cell_type": "code",
   "execution_count": 55,
   "id": "5701a780",
   "metadata": {
    "execution": {
     "iopub.execute_input": "2023-03-31T15:08:06.702205Z",
     "iopub.status.busy": "2023-03-31T15:08:06.701668Z",
     "iopub.status.idle": "2023-03-31T15:08:06.714673Z",
     "shell.execute_reply": "2023-03-31T15:08:06.713609Z"
    },
    "papermill": {
     "duration": 0.036716,
     "end_time": "2023-03-31T15:08:06.716796",
     "exception": false,
     "start_time": "2023-03-31T15:08:06.680080",
     "status": "completed"
    },
    "tags": []
   },
   "outputs": [
    {
     "data": {
      "text/html": [
       "<div>\n",
       "<style scoped>\n",
       "    .dataframe tbody tr th:only-of-type {\n",
       "        vertical-align: middle;\n",
       "    }\n",
       "\n",
       "    .dataframe tbody tr th {\n",
       "        vertical-align: top;\n",
       "    }\n",
       "\n",
       "    .dataframe thead th {\n",
       "        text-align: right;\n",
       "    }\n",
       "</style>\n",
       "<table border=\"1\" class=\"dataframe\">\n",
       "  <thead>\n",
       "    <tr style=\"text-align: right;\">\n",
       "      <th></th>\n",
       "      <th>ID</th>\n",
       "      <th>pred</th>\n",
       "    </tr>\n",
       "  </thead>\n",
       "  <tbody>\n",
       "    <tr>\n",
       "      <th>0</th>\n",
       "      <td>2023_1101_1102</td>\n",
       "      <td>0.393729</td>\n",
       "    </tr>\n",
       "    <tr>\n",
       "      <th>1</th>\n",
       "      <td>2023_1101_1103</td>\n",
       "      <td>0.386850</td>\n",
       "    </tr>\n",
       "    <tr>\n",
       "      <th>2</th>\n",
       "      <td>2023_1101_1104</td>\n",
       "      <td>0.130932</td>\n",
       "    </tr>\n",
       "    <tr>\n",
       "      <th>3</th>\n",
       "      <td>2023_1101_1105</td>\n",
       "      <td>0.400849</td>\n",
       "    </tr>\n",
       "    <tr>\n",
       "      <th>4</th>\n",
       "      <td>2023_1101_1106</td>\n",
       "      <td>0.551386</td>\n",
       "    </tr>\n",
       "  </tbody>\n",
       "</table>\n",
       "</div>"
      ],
      "text/plain": [
       "               ID      pred\n",
       "0  2023_1101_1102  0.393729\n",
       "1  2023_1101_1103  0.386850\n",
       "2  2023_1101_1104  0.130932\n",
       "3  2023_1101_1105  0.400849\n",
       "4  2023_1101_1106  0.551386"
      ]
     },
     "execution_count": 55,
     "metadata": {},
     "output_type": "execute_result"
    }
   ],
   "source": [
    "final_sub.head()"
   ]
  },
  {
   "cell_type": "markdown",
   "id": "f1194245",
   "metadata": {
    "papermill": {
     "duration": 0.019166,
     "end_time": "2023-03-31T15:08:06.755423",
     "exception": false,
     "start_time": "2023-03-31T15:08:06.736257",
     "status": "completed"
    },
    "tags": []
   },
   "source": [
    "Done ! "
   ]
  }
 ],
 "metadata": {
  "kernelspec": {
   "display_name": "Python 3",
   "language": "python",
   "name": "python3"
  },
  "language_info": {
   "codemirror_mode": {
    "name": "ipython",
    "version": 3
   },
   "file_extension": ".py",
   "mimetype": "text/x-python",
   "name": "python",
   "nbconvert_exporter": "python",
   "pygments_lexer": "ipython3",
   "version": "3.7.12"
  },
  "papermill": {
   "default_parameters": {},
   "duration": 23.214922,
   "end_time": "2023-03-31T15:08:07.697486",
   "environment_variables": {},
   "exception": null,
   "input_path": "__notebook__.ipynb",
   "output_path": "__notebook__.ipynb",
   "parameters": {},
   "start_time": "2023-03-31T15:07:44.482564",
   "version": "2.3.4"
  }
 },
 "nbformat": 4,
 "nbformat_minor": 5
}
