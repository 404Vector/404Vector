{
 "cells": [
  {
   "cell_type": "markdown",
   "id": "fbe68d9e",
   "metadata": {
    "papermill": {
     "duration": 0.017821,
     "end_time": "2023-03-11T07:53:30.447323",
     "exception": false,
     "start_time": "2023-03-11T07:53:30.429502",
     "status": "completed"
    },
    "tags": []
   },
   "source": [
    "# Adapting the 2nd Place Solution of the 2021 NCAAW Competition\n",
    "\n",
    "- Solution write-up is available here : https://www.kaggle.com/c/ncaaw-march-mania-2021/discussion/230705\n",
    "- 2nd place code : https://www.kaggle.com/theoviel/2nd-place-ncaaw-2021?scriptVersionId=58780991\n",
    "- It was adapted from this notebook : https://www.kaggle.com/theoviel/ncaa-starter-the-simpler-the-better \n",
    "\n",
    "**Changes :**\n",
    "- Build one model for both Men and Women\n",
    "- Update metric to MSE"
   ]
  },
  {
   "cell_type": "code",
   "execution_count": 1,
   "id": "9fda4d15",
   "metadata": {
    "_cell_guid": "b1076dfc-b9ad-4769-8c92-a6c4dae69d19",
    "_uuid": "8f2839f25d086af736a60e9eeb907d3b93b6e0e5",
    "execution": {
     "iopub.execute_input": "2023-03-11T07:53:30.482049Z",
     "iopub.status.busy": "2023-03-11T07:53:30.481244Z",
     "iopub.status.idle": "2023-03-11T07:53:31.711669Z",
     "shell.execute_reply": "2023-03-11T07:53:31.710522Z"
    },
    "papermill": {
     "duration": 1.250987,
     "end_time": "2023-03-11T07:53:31.714526",
     "exception": false,
     "start_time": "2023-03-11T07:53:30.463539",
     "status": "completed"
    },
    "tags": []
   },
   "outputs": [],
   "source": [
    "import os\n",
    "import re\n",
    "import sklearn\n",
    "import numpy as np \n",
    "import pandas as pd\n",
    "import seaborn as sns\n",
    "import matplotlib.pyplot as plt\n",
    "\n",
    "from collections import Counter\n",
    "from sklearn.metrics import *\n",
    "from sklearn.linear_model import *\n",
    "from sklearn.model_selection import *\n",
    "\n",
    "pd.set_option('display.max_columns', None)"
   ]
  },
  {
   "cell_type": "code",
   "execution_count": 2,
   "id": "b5d1a994",
   "metadata": {
    "execution": {
     "iopub.execute_input": "2023-03-11T07:53:31.749973Z",
     "iopub.status.busy": "2023-03-11T07:53:31.749541Z",
     "iopub.status.idle": "2023-03-11T07:53:31.756312Z",
     "shell.execute_reply": "2023-03-11T07:53:31.754770Z"
    },
    "papermill": {
     "duration": 0.026908,
     "end_time": "2023-03-11T07:53:31.758629",
     "exception": false,
     "start_time": "2023-03-11T07:53:31.731721",
     "status": "completed"
    },
    "tags": []
   },
   "outputs": [
    {
     "name": "stdout",
     "output_type": "stream",
     "text": [
      "Cities.csv\n",
      "Conferences.csv\n",
      "MConferenceTourneyGames.csv\n",
      "MGameCities.csv\n",
      "MMasseyOrdinals.csv\n",
      "MNCAATourneyCompactResults.csv\n",
      "MNCAATourneyDetailedResults.csv\n",
      "MNCAATourneySeedRoundSlots.csv\n",
      "MNCAATourneySeeds.csv\n",
      "MNCAATourneySlots.csv\n",
      "MRegularSeasonCompactResults.csv\n",
      "MRegularSeasonDetailedResults.csv\n",
      "MSeasons.csv\n",
      "MSecondaryTourneyCompactResults.csv\n",
      "MSecondaryTourneyTeams.csv\n",
      "MTeamCoaches.csv\n",
      "MTeamConferences.csv\n",
      "MTeamSpellings.csv\n",
      "MTeams.csv\n",
      "SampleSubmission2023.csv\n",
      "WGameCities.csv\n",
      "WNCAATourneyCompactResults.csv\n",
      "WNCAATourneyDetailedResults.csv\n",
      "WNCAATourneySeeds.csv\n",
      "WNCAATourneySlots.csv\n",
      "WRegularSeasonCompactResults.csv\n",
      "WRegularSeasonDetailedResults.csv\n",
      "WSeasons.csv\n",
      "WTeamConferences.csv\n",
      "WTeamSpellings.csv\n",
      "WTeams.csv\n"
     ]
    }
   ],
   "source": [
    "DATA_PATH = '/kaggle/input/march-machine-learning-mania-2023/'\n",
    "\n",
    "for filename in sorted(os.listdir(DATA_PATH)):\n",
    "    print(filename)"
   ]
  },
  {
   "cell_type": "markdown",
   "id": "71d4124d",
   "metadata": {
    "papermill": {
     "duration": 0.015632,
     "end_time": "2023-03-11T07:53:31.790683",
     "exception": false,
     "start_time": "2023-03-11T07:53:31.775051",
     "status": "completed"
    },
    "tags": []
   },
   "source": [
    "# Data preparation"
   ]
  },
  {
   "cell_type": "markdown",
   "id": "5845d15b",
   "metadata": {
    "papermill": {
     "duration": 0.015391,
     "end_time": "2023-03-11T07:53:31.822078",
     "exception": false,
     "start_time": "2023-03-11T07:53:31.806687",
     "status": "completed"
    },
    "tags": []
   },
   "source": [
    "## Seeds\n",
    "> This file identifies the seeds for all teams in each NCAA® tournament, for all seasons of historical data. Thus, there are between 64-68 rows for each year, depending on whether there were any play-in games and how many there were. In recent years the structure has settled at 68 total teams, with four \"play-in\" games leading to the final field of 64 teams entering Round 1 on Thursday of the first week (by definition, that is DayNum=136 each season). We will not know the seeds of the respective tournament teams, or even exactly which 68 teams it will be, until Selection Sunday on March 15, 2020 (DayNum=132).\n",
    "\n",
    "> The seed is a 3/4-character :\n",
    "- First character : Region (W, X, Y, or Z)\n",
    "- Next two digits : Seed within the region (01 to 16)\n",
    "- Last character (optional): Distinguishes teams between play-ins ( a or b)"
   ]
  },
  {
   "cell_type": "code",
   "execution_count": 3,
   "id": "fb615506",
   "metadata": {
    "execution": {
     "iopub.execute_input": "2023-03-11T07:53:31.856711Z",
     "iopub.status.busy": "2023-03-11T07:53:31.855505Z",
     "iopub.status.idle": "2023-03-11T07:53:31.896458Z",
     "shell.execute_reply": "2023-03-11T07:53:31.895361Z"
    },
    "papermill": {
     "duration": 0.060765,
     "end_time": "2023-03-11T07:53:31.898770",
     "exception": false,
     "start_time": "2023-03-11T07:53:31.838005",
     "status": "completed"
    },
    "tags": []
   },
   "outputs": [
    {
     "data": {
      "text/html": [
       "<div>\n",
       "<style scoped>\n",
       "    .dataframe tbody tr th:only-of-type {\n",
       "        vertical-align: middle;\n",
       "    }\n",
       "\n",
       "    .dataframe tbody tr th {\n",
       "        vertical-align: top;\n",
       "    }\n",
       "\n",
       "    .dataframe thead th {\n",
       "        text-align: right;\n",
       "    }\n",
       "</style>\n",
       "<table border=\"1\" class=\"dataframe\">\n",
       "  <thead>\n",
       "    <tr style=\"text-align: right;\">\n",
       "      <th></th>\n",
       "      <th>Season</th>\n",
       "      <th>Seed</th>\n",
       "      <th>TeamID</th>\n",
       "    </tr>\n",
       "  </thead>\n",
       "  <tbody>\n",
       "    <tr>\n",
       "      <th>0</th>\n",
       "      <td>1985</td>\n",
       "      <td>W01</td>\n",
       "      <td>1207</td>\n",
       "    </tr>\n",
       "    <tr>\n",
       "      <th>1</th>\n",
       "      <td>1985</td>\n",
       "      <td>W02</td>\n",
       "      <td>1210</td>\n",
       "    </tr>\n",
       "    <tr>\n",
       "      <th>2</th>\n",
       "      <td>1985</td>\n",
       "      <td>W03</td>\n",
       "      <td>1228</td>\n",
       "    </tr>\n",
       "    <tr>\n",
       "      <th>3</th>\n",
       "      <td>1985</td>\n",
       "      <td>W04</td>\n",
       "      <td>1260</td>\n",
       "    </tr>\n",
       "    <tr>\n",
       "      <th>4</th>\n",
       "      <td>1985</td>\n",
       "      <td>W05</td>\n",
       "      <td>1374</td>\n",
       "    </tr>\n",
       "  </tbody>\n",
       "</table>\n",
       "</div>"
      ],
      "text/plain": [
       "   Season Seed  TeamID\n",
       "0    1985  W01    1207\n",
       "1    1985  W02    1210\n",
       "2    1985  W03    1228\n",
       "3    1985  W04    1260\n",
       "4    1985  W05    1374"
      ]
     },
     "execution_count": 3,
     "metadata": {},
     "output_type": "execute_result"
    }
   ],
   "source": [
    "df_seeds = pd.concat([\n",
    "    pd.read_csv(DATA_PATH + \"MNCAATourneySeeds.csv\"),\n",
    "    pd.read_csv(DATA_PATH + \"WNCAATourneySeeds.csv\"),\n",
    "], ignore_index=True)\n",
    "    \n",
    "df_seeds.head()"
   ]
  },
  {
   "cell_type": "markdown",
   "id": "2e10be7f",
   "metadata": {
    "papermill": {
     "duration": 0.015631,
     "end_time": "2023-03-11T07:53:31.930641",
     "exception": false,
     "start_time": "2023-03-11T07:53:31.915010",
     "status": "completed"
    },
    "tags": []
   },
   "source": [
    "## Season results\n",
    "> This file identifies the game-by-game results for many seasons of historical data, starting with the 1985 season (the first year the NCAA® had a 64-team tournament). For each season, the file includes all games played from DayNum 0 through 132. It is important to realize that the \"Regular Season\" games are simply defined to be all games played on DayNum=132 or earlier (DayNum=132 is Selection Sunday, and there are always a few conference tournament finals actually played early in the day on Selection Sunday itself). Thus a game played on or before Selection Sunday will show up here whether it was a pre-season tournament, a non-conference game, a regular conference game, a conference tournament game, or whatever."
   ]
  },
  {
   "cell_type": "code",
   "execution_count": 4,
   "id": "0d6dae15",
   "metadata": {
    "execution": {
     "iopub.execute_input": "2023-03-11T07:53:31.965781Z",
     "iopub.status.busy": "2023-03-11T07:53:31.965358Z",
     "iopub.status.idle": "2023-03-11T07:53:32.318283Z",
     "shell.execute_reply": "2023-03-11T07:53:32.317059Z"
    },
    "papermill": {
     "duration": 0.374011,
     "end_time": "2023-03-11T07:53:32.321149",
     "exception": false,
     "start_time": "2023-03-11T07:53:31.947138",
     "status": "completed"
    },
    "tags": []
   },
   "outputs": [],
   "source": [
    "df_season_results = pd.concat([\n",
    "    pd.read_csv(DATA_PATH + \"MRegularSeasonCompactResults.csv\"),\n",
    "    pd.read_csv(DATA_PATH + \"WRegularSeasonCompactResults.csv\"),\n",
    "], ignore_index=True)\n",
    "\n",
    "df_season_results.drop(['NumOT', 'WLoc'], axis=1, inplace=True)"
   ]
  },
  {
   "cell_type": "code",
   "execution_count": 5,
   "id": "a02f48c3",
   "metadata": {
    "execution": {
     "iopub.execute_input": "2023-03-11T07:53:32.355022Z",
     "iopub.status.busy": "2023-03-11T07:53:32.354610Z",
     "iopub.status.idle": "2023-03-11T07:53:32.365497Z",
     "shell.execute_reply": "2023-03-11T07:53:32.364406Z"
    },
    "papermill": {
     "duration": 0.030437,
     "end_time": "2023-03-11T07:53:32.367741",
     "exception": false,
     "start_time": "2023-03-11T07:53:32.337304",
     "status": "completed"
    },
    "tags": []
   },
   "outputs": [],
   "source": [
    "df_season_results['ScoreGap'] = df_season_results['WScore'] - df_season_results['LScore']"
   ]
  },
  {
   "cell_type": "code",
   "execution_count": 6,
   "id": "a78a9814",
   "metadata": {
    "execution": {
     "iopub.execute_input": "2023-03-11T07:53:32.403051Z",
     "iopub.status.busy": "2023-03-11T07:53:32.402348Z",
     "iopub.status.idle": "2023-03-11T07:53:32.414203Z",
     "shell.execute_reply": "2023-03-11T07:53:32.413146Z"
    },
    "papermill": {
     "duration": 0.031702,
     "end_time": "2023-03-11T07:53:32.416480",
     "exception": false,
     "start_time": "2023-03-11T07:53:32.384778",
     "status": "completed"
    },
    "tags": []
   },
   "outputs": [
    {
     "data": {
      "text/html": [
       "<div>\n",
       "<style scoped>\n",
       "    .dataframe tbody tr th:only-of-type {\n",
       "        vertical-align: middle;\n",
       "    }\n",
       "\n",
       "    .dataframe tbody tr th {\n",
       "        vertical-align: top;\n",
       "    }\n",
       "\n",
       "    .dataframe thead th {\n",
       "        text-align: right;\n",
       "    }\n",
       "</style>\n",
       "<table border=\"1\" class=\"dataframe\">\n",
       "  <thead>\n",
       "    <tr style=\"text-align: right;\">\n",
       "      <th></th>\n",
       "      <th>Season</th>\n",
       "      <th>DayNum</th>\n",
       "      <th>WTeamID</th>\n",
       "      <th>WScore</th>\n",
       "      <th>LTeamID</th>\n",
       "      <th>LScore</th>\n",
       "      <th>ScoreGap</th>\n",
       "    </tr>\n",
       "  </thead>\n",
       "  <tbody>\n",
       "    <tr>\n",
       "      <th>0</th>\n",
       "      <td>1985</td>\n",
       "      <td>20</td>\n",
       "      <td>1228</td>\n",
       "      <td>81</td>\n",
       "      <td>1328</td>\n",
       "      <td>64</td>\n",
       "      <td>17</td>\n",
       "    </tr>\n",
       "    <tr>\n",
       "      <th>1</th>\n",
       "      <td>1985</td>\n",
       "      <td>25</td>\n",
       "      <td>1106</td>\n",
       "      <td>77</td>\n",
       "      <td>1354</td>\n",
       "      <td>70</td>\n",
       "      <td>7</td>\n",
       "    </tr>\n",
       "    <tr>\n",
       "      <th>2</th>\n",
       "      <td>1985</td>\n",
       "      <td>25</td>\n",
       "      <td>1112</td>\n",
       "      <td>63</td>\n",
       "      <td>1223</td>\n",
       "      <td>56</td>\n",
       "      <td>7</td>\n",
       "    </tr>\n",
       "    <tr>\n",
       "      <th>3</th>\n",
       "      <td>1985</td>\n",
       "      <td>25</td>\n",
       "      <td>1165</td>\n",
       "      <td>70</td>\n",
       "      <td>1432</td>\n",
       "      <td>54</td>\n",
       "      <td>16</td>\n",
       "    </tr>\n",
       "    <tr>\n",
       "      <th>4</th>\n",
       "      <td>1985</td>\n",
       "      <td>25</td>\n",
       "      <td>1192</td>\n",
       "      <td>86</td>\n",
       "      <td>1447</td>\n",
       "      <td>74</td>\n",
       "      <td>12</td>\n",
       "    </tr>\n",
       "  </tbody>\n",
       "</table>\n",
       "</div>"
      ],
      "text/plain": [
       "   Season  DayNum  WTeamID  WScore  LTeamID  LScore  ScoreGap\n",
       "0    1985      20     1228      81     1328      64        17\n",
       "1    1985      25     1106      77     1354      70         7\n",
       "2    1985      25     1112      63     1223      56         7\n",
       "3    1985      25     1165      70     1432      54        16\n",
       "4    1985      25     1192      86     1447      74        12"
      ]
     },
     "execution_count": 6,
     "metadata": {},
     "output_type": "execute_result"
    }
   ],
   "source": [
    "df_season_results.head()"
   ]
  },
  {
   "cell_type": "markdown",
   "id": "f6414089",
   "metadata": {
    "papermill": {
     "duration": 0.016115,
     "end_time": "2023-03-11T07:53:32.449004",
     "exception": false,
     "start_time": "2023-03-11T07:53:32.432889",
     "status": "completed"
    },
    "tags": []
   },
   "source": [
    "### Features \n",
    "For each team at each season, I compute : \n",
    "- Number of wins\n",
    "- Number of losses\n",
    "- Average score gap of wins\n",
    "- Average score gap of losses\n",
    "\n",
    "And use the following features : \n",
    "- Win Ratio\n",
    "- Average score gap"
   ]
  },
  {
   "cell_type": "code",
   "execution_count": 7,
   "id": "8f2f9bd7",
   "metadata": {
    "execution": {
     "iopub.execute_input": "2023-03-11T07:53:32.484087Z",
     "iopub.status.busy": "2023-03-11T07:53:32.483680Z",
     "iopub.status.idle": "2023-03-11T07:53:32.548245Z",
     "shell.execute_reply": "2023-03-11T07:53:32.547181Z"
    },
    "papermill": {
     "duration": 0.085611,
     "end_time": "2023-03-11T07:53:32.550984",
     "exception": false,
     "start_time": "2023-03-11T07:53:32.465373",
     "status": "completed"
    },
    "tags": []
   },
   "outputs": [],
   "source": [
    "num_win = df_season_results.groupby(['Season', 'WTeamID']).count()\n",
    "num_win = num_win.reset_index()[['Season', 'WTeamID', 'DayNum']].rename(columns={\"DayNum\": \"NumWins\", \"WTeamID\": \"TeamID\"})"
   ]
  },
  {
   "cell_type": "code",
   "execution_count": 8,
   "id": "d3c08cd2",
   "metadata": {
    "execution": {
     "iopub.execute_input": "2023-03-11T07:53:32.585772Z",
     "iopub.status.busy": "2023-03-11T07:53:32.585328Z",
     "iopub.status.idle": "2023-03-11T07:53:32.623256Z",
     "shell.execute_reply": "2023-03-11T07:53:32.622114Z"
    },
    "papermill": {
     "duration": 0.058422,
     "end_time": "2023-03-11T07:53:32.625856",
     "exception": false,
     "start_time": "2023-03-11T07:53:32.567434",
     "status": "completed"
    },
    "tags": []
   },
   "outputs": [],
   "source": [
    "num_loss = df_season_results.groupby(['Season', 'LTeamID']).count()\n",
    "num_loss = num_loss.reset_index()[['Season', 'LTeamID', 'DayNum']].rename(columns={\"DayNum\": \"NumLosses\", \"LTeamID\": \"TeamID\"})"
   ]
  },
  {
   "cell_type": "code",
   "execution_count": 9,
   "id": "e687c994",
   "metadata": {
    "execution": {
     "iopub.execute_input": "2023-03-11T07:53:32.662544Z",
     "iopub.status.busy": "2023-03-11T07:53:32.662103Z",
     "iopub.status.idle": "2023-03-11T07:53:32.705098Z",
     "shell.execute_reply": "2023-03-11T07:53:32.704107Z"
    },
    "papermill": {
     "duration": 0.063507,
     "end_time": "2023-03-11T07:53:32.707773",
     "exception": false,
     "start_time": "2023-03-11T07:53:32.644266",
     "status": "completed"
    },
    "tags": []
   },
   "outputs": [],
   "source": [
    "gap_win = df_season_results.groupby(['Season', 'WTeamID']).mean().reset_index()\n",
    "gap_win = gap_win[['Season', 'WTeamID', 'ScoreGap']].rename(columns={\"ScoreGap\": \"GapWins\", \"WTeamID\": \"TeamID\"})"
   ]
  },
  {
   "cell_type": "code",
   "execution_count": 10,
   "id": "d255a5d9",
   "metadata": {
    "execution": {
     "iopub.execute_input": "2023-03-11T07:53:32.743773Z",
     "iopub.status.busy": "2023-03-11T07:53:32.743338Z",
     "iopub.status.idle": "2023-03-11T07:53:32.779719Z",
     "shell.execute_reply": "2023-03-11T07:53:32.778601Z"
    },
    "papermill": {
     "duration": 0.057497,
     "end_time": "2023-03-11T07:53:32.782282",
     "exception": false,
     "start_time": "2023-03-11T07:53:32.724785",
     "status": "completed"
    },
    "tags": []
   },
   "outputs": [],
   "source": [
    "gap_loss = df_season_results.groupby(['Season', 'LTeamID']).mean().reset_index()\n",
    "gap_loss = gap_loss[['Season', 'LTeamID', 'ScoreGap']].rename(columns={\"ScoreGap\": \"GapLosses\", \"LTeamID\": \"TeamID\"})"
   ]
  },
  {
   "cell_type": "markdown",
   "id": "d0df92ba",
   "metadata": {
    "papermill": {
     "duration": 0.016025,
     "end_time": "2023-03-11T07:53:32.815180",
     "exception": false,
     "start_time": "2023-03-11T07:53:32.799155",
     "status": "completed"
    },
    "tags": []
   },
   "source": [
    "Merge"
   ]
  },
  {
   "cell_type": "code",
   "execution_count": 11,
   "id": "6a5629f7",
   "metadata": {
    "execution": {
     "iopub.execute_input": "2023-03-11T07:53:32.849815Z",
     "iopub.status.busy": "2023-03-11T07:53:32.849375Z",
     "iopub.status.idle": "2023-03-11T07:53:32.915003Z",
     "shell.execute_reply": "2023-03-11T07:53:32.913879Z"
    },
    "papermill": {
     "duration": 0.085983,
     "end_time": "2023-03-11T07:53:32.917568",
     "exception": false,
     "start_time": "2023-03-11T07:53:32.831585",
     "status": "completed"
    },
    "tags": []
   },
   "outputs": [],
   "source": [
    "df_features_season_w = df_season_results.groupby(['Season', 'WTeamID']).count().reset_index()[['Season', 'WTeamID']].rename(columns={\"WTeamID\": \"TeamID\"})\n",
    "df_features_season_l = df_season_results.groupby(['Season', 'LTeamID']).count().reset_index()[['Season', 'LTeamID']].rename(columns={\"LTeamID\": \"TeamID\"})"
   ]
  },
  {
   "cell_type": "code",
   "execution_count": 12,
   "id": "6ee05793",
   "metadata": {
    "execution": {
     "iopub.execute_input": "2023-03-11T07:53:32.952369Z",
     "iopub.status.busy": "2023-03-11T07:53:32.951964Z",
     "iopub.status.idle": "2023-03-11T07:53:32.971732Z",
     "shell.execute_reply": "2023-03-11T07:53:32.970595Z"
    },
    "papermill": {
     "duration": 0.040151,
     "end_time": "2023-03-11T07:53:32.974348",
     "exception": false,
     "start_time": "2023-03-11T07:53:32.934197",
     "status": "completed"
    },
    "tags": []
   },
   "outputs": [],
   "source": [
    "df_features_season = pd.concat([df_features_season_w, df_features_season_l], axis=0).drop_duplicates().sort_values(['Season', 'TeamID']).reset_index(drop=True)"
   ]
  },
  {
   "cell_type": "code",
   "execution_count": 13,
   "id": "58e9e2b5",
   "metadata": {
    "execution": {
     "iopub.execute_input": "2023-03-11T07:53:33.009178Z",
     "iopub.status.busy": "2023-03-11T07:53:33.008769Z",
     "iopub.status.idle": "2023-03-11T07:53:33.048955Z",
     "shell.execute_reply": "2023-03-11T07:53:33.047908Z"
    },
    "papermill": {
     "duration": 0.060601,
     "end_time": "2023-03-11T07:53:33.051483",
     "exception": false,
     "start_time": "2023-03-11T07:53:32.990882",
     "status": "completed"
    },
    "tags": []
   },
   "outputs": [],
   "source": [
    "df_features_season = df_features_season.merge(num_win, on=['Season', 'TeamID'], how='left')\n",
    "df_features_season = df_features_season.merge(num_loss, on=['Season', 'TeamID'], how='left')\n",
    "df_features_season = df_features_season.merge(gap_win, on=['Season', 'TeamID'], how='left')\n",
    "df_features_season = df_features_season.merge(gap_loss, on=['Season', 'TeamID'], how='left')"
   ]
  },
  {
   "cell_type": "code",
   "execution_count": 14,
   "id": "bc6bd4dd",
   "metadata": {
    "execution": {
     "iopub.execute_input": "2023-03-11T07:53:33.086303Z",
     "iopub.status.busy": "2023-03-11T07:53:33.085579Z",
     "iopub.status.idle": "2023-03-11T07:53:33.091640Z",
     "shell.execute_reply": "2023-03-11T07:53:33.090705Z"
    },
    "papermill": {
     "duration": 0.025962,
     "end_time": "2023-03-11T07:53:33.093862",
     "exception": false,
     "start_time": "2023-03-11T07:53:33.067900",
     "status": "completed"
    },
    "tags": []
   },
   "outputs": [],
   "source": [
    "df_features_season.fillna(0, inplace=True)  "
   ]
  },
  {
   "cell_type": "markdown",
   "id": "8812a157",
   "metadata": {
    "papermill": {
     "duration": 0.016293,
     "end_time": "2023-03-11T07:53:33.126829",
     "exception": false,
     "start_time": "2023-03-11T07:53:33.110536",
     "status": "completed"
    },
    "tags": []
   },
   "source": [
    "Compute features"
   ]
  },
  {
   "cell_type": "code",
   "execution_count": 15,
   "id": "d24d8482",
   "metadata": {
    "execution": {
     "iopub.execute_input": "2023-03-11T07:53:33.161806Z",
     "iopub.status.busy": "2023-03-11T07:53:33.160944Z",
     "iopub.status.idle": "2023-03-11T07:53:33.170304Z",
     "shell.execute_reply": "2023-03-11T07:53:33.169253Z"
    },
    "papermill": {
     "duration": 0.029658,
     "end_time": "2023-03-11T07:53:33.172896",
     "exception": false,
     "start_time": "2023-03-11T07:53:33.143238",
     "status": "completed"
    },
    "tags": []
   },
   "outputs": [],
   "source": [
    "df_features_season['WinRatio'] = df_features_season['NumWins'] / (df_features_season['NumWins'] + df_features_season['NumLosses'])\n",
    "df_features_season['GapAvg'] = (\n",
    "    (df_features_season['NumWins'] * df_features_season['GapWins'] - \n",
    "    df_features_season['NumLosses'] * df_features_season['GapLosses'])\n",
    "    / (df_features_season['NumWins'] + df_features_season['NumLosses'])\n",
    ")"
   ]
  },
  {
   "cell_type": "code",
   "execution_count": 16,
   "id": "41650044",
   "metadata": {
    "execution": {
     "iopub.execute_input": "2023-03-11T07:53:33.207681Z",
     "iopub.status.busy": "2023-03-11T07:53:33.207251Z",
     "iopub.status.idle": "2023-03-11T07:53:33.214492Z",
     "shell.execute_reply": "2023-03-11T07:53:33.213311Z"
    },
    "papermill": {
     "duration": 0.027365,
     "end_time": "2023-03-11T07:53:33.216717",
     "exception": false,
     "start_time": "2023-03-11T07:53:33.189352",
     "status": "completed"
    },
    "tags": []
   },
   "outputs": [],
   "source": [
    "df_features_season.drop(['NumWins', 'NumLosses', 'GapWins', 'GapLosses'], axis=1, inplace=True)"
   ]
  },
  {
   "cell_type": "markdown",
   "id": "036cda01",
   "metadata": {
    "papermill": {
     "duration": 0.016198,
     "end_time": "2023-03-11T07:53:33.249365",
     "exception": false,
     "start_time": "2023-03-11T07:53:33.233167",
     "status": "completed"
    },
    "tags": []
   },
   "source": [
    "## Tourney results\n",
    "\n",
    "> This file identifies the game-by-game NCAA® tournament results for all seasons of historical data. The data is formatted exactly like the MRegularSeasonCompactResults data. All games will show up as neutral site (so WLoc is always N). Note that this tournament game data also includes the play-in games (which always occurred on day 134/135) for those years that had play-in games. Thus each season you will see between 63 and 67 games listed, depending on how many play-in games there were."
   ]
  },
  {
   "cell_type": "code",
   "execution_count": 17,
   "id": "6a3df219",
   "metadata": {
    "execution": {
     "iopub.execute_input": "2023-03-11T07:53:33.284281Z",
     "iopub.status.busy": "2023-03-11T07:53:33.283881Z",
     "iopub.status.idle": "2023-03-11T07:53:33.305943Z",
     "shell.execute_reply": "2023-03-11T07:53:33.304875Z"
    },
    "papermill": {
     "duration": 0.042759,
     "end_time": "2023-03-11T07:53:33.308695",
     "exception": false,
     "start_time": "2023-03-11T07:53:33.265936",
     "status": "completed"
    },
    "tags": []
   },
   "outputs": [],
   "source": [
    "df_tourney_results = pd.concat([\n",
    "    pd.read_csv(DATA_PATH + \"WNCAATourneyCompactResults.csv\"),\n",
    "    pd.read_csv(DATA_PATH + \"MNCAATourneyCompactResults.csv\"),\n",
    "], ignore_index=True)\n",
    "df_tourney_results.drop(['NumOT', 'WLoc'], axis=1, inplace=True)"
   ]
  },
  {
   "cell_type": "markdown",
   "id": "85c29376",
   "metadata": {
    "papermill": {
     "duration": 0.016142,
     "end_time": "2023-03-11T07:53:33.341841",
     "exception": false,
     "start_time": "2023-03-11T07:53:33.325699",
     "status": "completed"
    },
    "tags": []
   },
   "source": [
    "## FiveThirtyEight Ratings\n",
    "> Not available yet !"
   ]
  },
  {
   "cell_type": "code",
   "execution_count": 18,
   "id": "b944276e",
   "metadata": {
    "execution": {
     "iopub.execute_input": "2023-03-11T07:53:33.377159Z",
     "iopub.status.busy": "2023-03-11T07:53:33.376359Z",
     "iopub.status.idle": "2023-03-11T07:53:33.380895Z",
     "shell.execute_reply": "2023-03-11T07:53:33.379744Z"
    },
    "papermill": {
     "duration": 0.024323,
     "end_time": "2023-03-11T07:53:33.382957",
     "exception": false,
     "start_time": "2023-03-11T07:53:33.358634",
     "status": "completed"
    },
    "tags": []
   },
   "outputs": [],
   "source": [
    "# df_538 = pd.read_csv(\"../input/ncaa-men-538-team-ratings/538ratingsMen.csv\")\n",
    "# df_538.drop('TeamName', axis=1, inplace=True)\n",
    "# df_538.head()"
   ]
  },
  {
   "cell_type": "markdown",
   "id": "f64d32cb",
   "metadata": {
    "papermill": {
     "duration": 0.016007,
     "end_time": "2023-03-11T07:53:33.415388",
     "exception": false,
     "start_time": "2023-03-11T07:53:33.399381",
     "status": "completed"
    },
    "tags": []
   },
   "source": [
    "# Feature Engineering"
   ]
  },
  {
   "cell_type": "markdown",
   "id": "5110a124",
   "metadata": {
    "papermill": {
     "duration": 0.016291,
     "end_time": "2023-03-11T07:53:33.448147",
     "exception": false,
     "start_time": "2023-03-11T07:53:33.431856",
     "status": "completed"
    },
    "tags": []
   },
   "source": [
    "## Train data"
   ]
  },
  {
   "cell_type": "code",
   "execution_count": 19,
   "id": "a2bca388",
   "metadata": {
    "execution": {
     "iopub.execute_input": "2023-03-11T07:53:33.482918Z",
     "iopub.status.busy": "2023-03-11T07:53:33.482183Z",
     "iopub.status.idle": "2023-03-11T07:53:33.493988Z",
     "shell.execute_reply": "2023-03-11T07:53:33.492890Z"
    },
    "papermill": {
     "duration": 0.031882,
     "end_time": "2023-03-11T07:53:33.496375",
     "exception": false,
     "start_time": "2023-03-11T07:53:33.464493",
     "status": "completed"
    },
    "tags": []
   },
   "outputs": [
    {
     "data": {
      "text/html": [
       "<div>\n",
       "<style scoped>\n",
       "    .dataframe tbody tr th:only-of-type {\n",
       "        vertical-align: middle;\n",
       "    }\n",
       "\n",
       "    .dataframe tbody tr th {\n",
       "        vertical-align: top;\n",
       "    }\n",
       "\n",
       "    .dataframe thead th {\n",
       "        text-align: right;\n",
       "    }\n",
       "</style>\n",
       "<table border=\"1\" class=\"dataframe\">\n",
       "  <thead>\n",
       "    <tr style=\"text-align: right;\">\n",
       "      <th></th>\n",
       "      <th>Season</th>\n",
       "      <th>DayNum</th>\n",
       "      <th>WTeamID</th>\n",
       "      <th>WScore</th>\n",
       "      <th>LTeamID</th>\n",
       "      <th>LScore</th>\n",
       "    </tr>\n",
       "  </thead>\n",
       "  <tbody>\n",
       "    <tr>\n",
       "      <th>0</th>\n",
       "      <td>2016</td>\n",
       "      <td>137</td>\n",
       "      <td>3107</td>\n",
       "      <td>61</td>\n",
       "      <td>3196</td>\n",
       "      <td>59</td>\n",
       "    </tr>\n",
       "    <tr>\n",
       "      <th>1</th>\n",
       "      <td>2016</td>\n",
       "      <td>137</td>\n",
       "      <td>3113</td>\n",
       "      <td>74</td>\n",
       "      <td>3308</td>\n",
       "      <td>52</td>\n",
       "    </tr>\n",
       "    <tr>\n",
       "      <th>2</th>\n",
       "      <td>2016</td>\n",
       "      <td>137</td>\n",
       "      <td>3120</td>\n",
       "      <td>68</td>\n",
       "      <td>3385</td>\n",
       "      <td>57</td>\n",
       "    </tr>\n",
       "    <tr>\n",
       "      <th>3</th>\n",
       "      <td>2016</td>\n",
       "      <td>137</td>\n",
       "      <td>3124</td>\n",
       "      <td>89</td>\n",
       "      <td>3225</td>\n",
       "      <td>59</td>\n",
       "    </tr>\n",
       "    <tr>\n",
       "      <th>4</th>\n",
       "      <td>2016</td>\n",
       "      <td>137</td>\n",
       "      <td>3177</td>\n",
       "      <td>97</td>\n",
       "      <td>3241</td>\n",
       "      <td>67</td>\n",
       "    </tr>\n",
       "  </tbody>\n",
       "</table>\n",
       "</div>"
      ],
      "text/plain": [
       "   Season  DayNum  WTeamID  WScore  LTeamID  LScore\n",
       "0    2016     137     3107      61     3196      59\n",
       "1    2016     137     3113      74     3308      52\n",
       "2    2016     137     3120      68     3385      57\n",
       "3    2016     137     3124      89     3225      59\n",
       "4    2016     137     3177      97     3241      67"
      ]
     },
     "execution_count": 19,
     "metadata": {},
     "output_type": "execute_result"
    }
   ],
   "source": [
    "df = df_tourney_results.copy()\n",
    "df = df[df['Season'] >= 2016].reset_index(drop=True)\n",
    "\n",
    "df.head()"
   ]
  },
  {
   "cell_type": "markdown",
   "id": "b07b23b0",
   "metadata": {
    "papermill": {
     "duration": 0.016313,
     "end_time": "2023-03-11T07:53:33.529492",
     "exception": false,
     "start_time": "2023-03-11T07:53:33.513179",
     "status": "completed"
    },
    "tags": []
   },
   "source": [
    "### Seeds\n",
    "- `SeedW` is the seed of the winning team\n",
    "- `SeedL` is the seed of the losing team"
   ]
  },
  {
   "cell_type": "code",
   "execution_count": 20,
   "id": "8e63248a",
   "metadata": {
    "execution": {
     "iopub.execute_input": "2023-03-11T07:53:33.565958Z",
     "iopub.status.busy": "2023-03-11T07:53:33.565388Z",
     "iopub.status.idle": "2023-03-11T07:53:33.576608Z",
     "shell.execute_reply": "2023-03-11T07:53:33.575538Z"
    },
    "papermill": {
     "duration": 0.031913,
     "end_time": "2023-03-11T07:53:33.579111",
     "exception": false,
     "start_time": "2023-03-11T07:53:33.547198",
     "status": "completed"
    },
    "tags": []
   },
   "outputs": [],
   "source": [
    "df = pd.merge(\n",
    "    df, \n",
    "    df_seeds, \n",
    "    how='left', \n",
    "    left_on=['Season', 'WTeamID'], \n",
    "    right_on=['Season', 'TeamID']\n",
    ").drop('TeamID', axis=1).rename(columns={'Seed': 'SeedW'})"
   ]
  },
  {
   "cell_type": "code",
   "execution_count": 21,
   "id": "7b1f58e2",
   "metadata": {
    "execution": {
     "iopub.execute_input": "2023-03-11T07:53:33.613949Z",
     "iopub.status.busy": "2023-03-11T07:53:33.613525Z",
     "iopub.status.idle": "2023-03-11T07:53:33.624539Z",
     "shell.execute_reply": "2023-03-11T07:53:33.623434Z"
    },
    "papermill": {
     "duration": 0.031442,
     "end_time": "2023-03-11T07:53:33.627196",
     "exception": false,
     "start_time": "2023-03-11T07:53:33.595754",
     "status": "completed"
    },
    "tags": []
   },
   "outputs": [],
   "source": [
    "df = pd.merge(\n",
    "    df, \n",
    "    df_seeds, \n",
    "    how='left', \n",
    "    left_on=['Season', 'LTeamID'], \n",
    "    right_on=['Season', 'TeamID']\n",
    ").drop('TeamID', axis=1).rename(columns={'Seed': 'SeedL'})"
   ]
  },
  {
   "cell_type": "code",
   "execution_count": 22,
   "id": "a404f47c",
   "metadata": {
    "execution": {
     "iopub.execute_input": "2023-03-11T07:53:33.663174Z",
     "iopub.status.busy": "2023-03-11T07:53:33.662769Z",
     "iopub.status.idle": "2023-03-11T07:53:33.667667Z",
     "shell.execute_reply": "2023-03-11T07:53:33.666549Z"
    },
    "papermill": {
     "duration": 0.025144,
     "end_time": "2023-03-11T07:53:33.669862",
     "exception": false,
     "start_time": "2023-03-11T07:53:33.644718",
     "status": "completed"
    },
    "tags": []
   },
   "outputs": [],
   "source": [
    "def treat_seed(seed):\n",
    "    return int(re.sub(\"[^0-9]\", \"\", seed))"
   ]
  },
  {
   "cell_type": "code",
   "execution_count": 23,
   "id": "39f9273d",
   "metadata": {
    "execution": {
     "iopub.execute_input": "2023-03-11T07:53:33.705263Z",
     "iopub.status.busy": "2023-03-11T07:53:33.704766Z",
     "iopub.status.idle": "2023-03-11T07:53:33.715364Z",
     "shell.execute_reply": "2023-03-11T07:53:33.714270Z"
    },
    "papermill": {
     "duration": 0.030867,
     "end_time": "2023-03-11T07:53:33.717638",
     "exception": false,
     "start_time": "2023-03-11T07:53:33.686771",
     "status": "completed"
    },
    "tags": []
   },
   "outputs": [],
   "source": [
    "df['SeedW'] = df['SeedW'].apply(treat_seed)\n",
    "df['SeedL'] = df['SeedL'].apply(treat_seed)"
   ]
  },
  {
   "cell_type": "code",
   "execution_count": 24,
   "id": "dce6374a",
   "metadata": {
    "execution": {
     "iopub.execute_input": "2023-03-11T07:53:33.753344Z",
     "iopub.status.busy": "2023-03-11T07:53:33.752539Z",
     "iopub.status.idle": "2023-03-11T07:53:33.765205Z",
     "shell.execute_reply": "2023-03-11T07:53:33.764376Z"
    },
    "papermill": {
     "duration": 0.032752,
     "end_time": "2023-03-11T07:53:33.767278",
     "exception": false,
     "start_time": "2023-03-11T07:53:33.734526",
     "status": "completed"
    },
    "tags": []
   },
   "outputs": [
    {
     "data": {
      "text/html": [
       "<div>\n",
       "<style scoped>\n",
       "    .dataframe tbody tr th:only-of-type {\n",
       "        vertical-align: middle;\n",
       "    }\n",
       "\n",
       "    .dataframe tbody tr th {\n",
       "        vertical-align: top;\n",
       "    }\n",
       "\n",
       "    .dataframe thead th {\n",
       "        text-align: right;\n",
       "    }\n",
       "</style>\n",
       "<table border=\"1\" class=\"dataframe\">\n",
       "  <thead>\n",
       "    <tr style=\"text-align: right;\">\n",
       "      <th></th>\n",
       "      <th>Season</th>\n",
       "      <th>DayNum</th>\n",
       "      <th>WTeamID</th>\n",
       "      <th>WScore</th>\n",
       "      <th>LTeamID</th>\n",
       "      <th>LScore</th>\n",
       "      <th>SeedW</th>\n",
       "      <th>SeedL</th>\n",
       "    </tr>\n",
       "  </thead>\n",
       "  <tbody>\n",
       "    <tr>\n",
       "      <th>0</th>\n",
       "      <td>2016</td>\n",
       "      <td>137</td>\n",
       "      <td>3107</td>\n",
       "      <td>61</td>\n",
       "      <td>3196</td>\n",
       "      <td>59</td>\n",
       "      <td>12</td>\n",
       "      <td>5</td>\n",
       "    </tr>\n",
       "    <tr>\n",
       "      <th>1</th>\n",
       "      <td>2016</td>\n",
       "      <td>137</td>\n",
       "      <td>3113</td>\n",
       "      <td>74</td>\n",
       "      <td>3308</td>\n",
       "      <td>52</td>\n",
       "      <td>2</td>\n",
       "      <td>15</td>\n",
       "    </tr>\n",
       "    <tr>\n",
       "      <th>2</th>\n",
       "      <td>2016</td>\n",
       "      <td>137</td>\n",
       "      <td>3120</td>\n",
       "      <td>68</td>\n",
       "      <td>3385</td>\n",
       "      <td>57</td>\n",
       "      <td>9</td>\n",
       "      <td>8</td>\n",
       "    </tr>\n",
       "    <tr>\n",
       "      <th>3</th>\n",
       "      <td>2016</td>\n",
       "      <td>137</td>\n",
       "      <td>3124</td>\n",
       "      <td>89</td>\n",
       "      <td>3225</td>\n",
       "      <td>59</td>\n",
       "      <td>1</td>\n",
       "      <td>16</td>\n",
       "    </tr>\n",
       "    <tr>\n",
       "      <th>4</th>\n",
       "      <td>2016</td>\n",
       "      <td>137</td>\n",
       "      <td>3177</td>\n",
       "      <td>97</td>\n",
       "      <td>3241</td>\n",
       "      <td>67</td>\n",
       "      <td>6</td>\n",
       "      <td>11</td>\n",
       "    </tr>\n",
       "  </tbody>\n",
       "</table>\n",
       "</div>"
      ],
      "text/plain": [
       "   Season  DayNum  WTeamID  WScore  LTeamID  LScore  SeedW  SeedL\n",
       "0    2016     137     3107      61     3196      59     12      5\n",
       "1    2016     137     3113      74     3308      52      2     15\n",
       "2    2016     137     3120      68     3385      57      9      8\n",
       "3    2016     137     3124      89     3225      59      1     16\n",
       "4    2016     137     3177      97     3241      67      6     11"
      ]
     },
     "execution_count": 24,
     "metadata": {},
     "output_type": "execute_result"
    }
   ],
   "source": [
    "df.head()"
   ]
  },
  {
   "cell_type": "markdown",
   "id": "a837a7b0",
   "metadata": {
    "papermill": {
     "duration": 0.016795,
     "end_time": "2023-03-11T07:53:33.800982",
     "exception": false,
     "start_time": "2023-03-11T07:53:33.784187",
     "status": "completed"
    },
    "tags": []
   },
   "source": [
    "### Season Stats\n",
    "- `WinRatioW` is the win ratio of the winning team during the season\n",
    "- `WinRatioL` is the win ratio of the losing team during the season"
   ]
  },
  {
   "cell_type": "code",
   "execution_count": 25,
   "id": "ba78eb11",
   "metadata": {
    "execution": {
     "iopub.execute_input": "2023-03-11T07:53:33.838812Z",
     "iopub.status.busy": "2023-03-11T07:53:33.838354Z",
     "iopub.status.idle": "2023-03-11T07:53:33.851783Z",
     "shell.execute_reply": "2023-03-11T07:53:33.850626Z"
    },
    "papermill": {
     "duration": 0.034345,
     "end_time": "2023-03-11T07:53:33.854335",
     "exception": false,
     "start_time": "2023-03-11T07:53:33.819990",
     "status": "completed"
    },
    "tags": []
   },
   "outputs": [],
   "source": [
    "df = pd.merge(\n",
    "    df,\n",
    "    df_features_season,\n",
    "    how='left',\n",
    "    left_on=['Season', 'WTeamID'],\n",
    "    right_on=['Season', 'TeamID']\n",
    ").rename(columns={\n",
    "    'NumWins': 'NumWinsW',\n",
    "    'NumLosses': 'NumLossesW',\n",
    "    'GapWins': 'GapWinsW',\n",
    "    'GapLosses': 'GapLossesW',\n",
    "    'WinRatio': 'WinRatioW',\n",
    "    'GapAvg': 'GapAvgW',\n",
    "}).drop(columns='TeamID', axis=1)"
   ]
  },
  {
   "cell_type": "code",
   "execution_count": 26,
   "id": "6452edf9",
   "metadata": {
    "execution": {
     "iopub.execute_input": "2023-03-11T07:53:33.889836Z",
     "iopub.status.busy": "2023-03-11T07:53:33.889373Z",
     "iopub.status.idle": "2023-03-11T07:53:33.902498Z",
     "shell.execute_reply": "2023-03-11T07:53:33.901253Z"
    },
    "papermill": {
     "duration": 0.033572,
     "end_time": "2023-03-11T07:53:33.904879",
     "exception": false,
     "start_time": "2023-03-11T07:53:33.871307",
     "status": "completed"
    },
    "tags": []
   },
   "outputs": [],
   "source": [
    "df = pd.merge(\n",
    "    df,\n",
    "    df_features_season,\n",
    "    how='left',\n",
    "    left_on=['Season', 'LTeamID'],\n",
    "    right_on=['Season', 'TeamID']\n",
    ").rename(columns={\n",
    "    'NumWins': 'NumWinsL',\n",
    "    'NumLosses': 'NumLossesL',\n",
    "    'GapWins': 'GapWinsL',\n",
    "    'GapLosses': 'GapLossesL',\n",
    "    'WinRatio': 'WinRatioL',\n",
    "    'GapAvg': 'GapAvgL',\n",
    "}).drop(columns='TeamID', axis=1)"
   ]
  },
  {
   "cell_type": "code",
   "execution_count": 27,
   "id": "8fca4353",
   "metadata": {
    "execution": {
     "iopub.execute_input": "2023-03-11T07:53:33.940495Z",
     "iopub.status.busy": "2023-03-11T07:53:33.940117Z",
     "iopub.status.idle": "2023-03-11T07:53:33.955834Z",
     "shell.execute_reply": "2023-03-11T07:53:33.954724Z"
    },
    "papermill": {
     "duration": 0.036266,
     "end_time": "2023-03-11T07:53:33.958091",
     "exception": false,
     "start_time": "2023-03-11T07:53:33.921825",
     "status": "completed"
    },
    "tags": []
   },
   "outputs": [
    {
     "data": {
      "text/html": [
       "<div>\n",
       "<style scoped>\n",
       "    .dataframe tbody tr th:only-of-type {\n",
       "        vertical-align: middle;\n",
       "    }\n",
       "\n",
       "    .dataframe tbody tr th {\n",
       "        vertical-align: top;\n",
       "    }\n",
       "\n",
       "    .dataframe thead th {\n",
       "        text-align: right;\n",
       "    }\n",
       "</style>\n",
       "<table border=\"1\" class=\"dataframe\">\n",
       "  <thead>\n",
       "    <tr style=\"text-align: right;\">\n",
       "      <th></th>\n",
       "      <th>Season</th>\n",
       "      <th>DayNum</th>\n",
       "      <th>WTeamID</th>\n",
       "      <th>WScore</th>\n",
       "      <th>LTeamID</th>\n",
       "      <th>LScore</th>\n",
       "      <th>SeedW</th>\n",
       "      <th>SeedL</th>\n",
       "      <th>WinRatioW</th>\n",
       "      <th>GapAvgW</th>\n",
       "      <th>WinRatioL</th>\n",
       "      <th>GapAvgL</th>\n",
       "    </tr>\n",
       "  </thead>\n",
       "  <tbody>\n",
       "    <tr>\n",
       "      <th>0</th>\n",
       "      <td>2016</td>\n",
       "      <td>137</td>\n",
       "      <td>3107</td>\n",
       "      <td>61</td>\n",
       "      <td>3196</td>\n",
       "      <td>59</td>\n",
       "      <td>12</td>\n",
       "      <td>5</td>\n",
       "      <td>0.870968</td>\n",
       "      <td>18.677419</td>\n",
       "      <td>0.733333</td>\n",
       "      <td>8.700000</td>\n",
       "    </tr>\n",
       "    <tr>\n",
       "      <th>1</th>\n",
       "      <td>2016</td>\n",
       "      <td>137</td>\n",
       "      <td>3113</td>\n",
       "      <td>74</td>\n",
       "      <td>3308</td>\n",
       "      <td>52</td>\n",
       "      <td>2</td>\n",
       "      <td>15</td>\n",
       "      <td>0.806452</td>\n",
       "      <td>9.258065</td>\n",
       "      <td>0.857143</td>\n",
       "      <td>8.964286</td>\n",
       "    </tr>\n",
       "    <tr>\n",
       "      <th>2</th>\n",
       "      <td>2016</td>\n",
       "      <td>137</td>\n",
       "      <td>3120</td>\n",
       "      <td>68</td>\n",
       "      <td>3385</td>\n",
       "      <td>57</td>\n",
       "      <td>9</td>\n",
       "      <td>8</td>\n",
       "      <td>0.612903</td>\n",
       "      <td>3.032258</td>\n",
       "      <td>0.718750</td>\n",
       "      <td>6.812500</td>\n",
       "    </tr>\n",
       "    <tr>\n",
       "      <th>3</th>\n",
       "      <td>2016</td>\n",
       "      <td>137</td>\n",
       "      <td>3124</td>\n",
       "      <td>89</td>\n",
       "      <td>3225</td>\n",
       "      <td>59</td>\n",
       "      <td>1</td>\n",
       "      <td>16</td>\n",
       "      <td>0.970588</td>\n",
       "      <td>24.617647</td>\n",
       "      <td>0.709677</td>\n",
       "      <td>10.612903</td>\n",
       "    </tr>\n",
       "    <tr>\n",
       "      <th>4</th>\n",
       "      <td>2016</td>\n",
       "      <td>137</td>\n",
       "      <td>3177</td>\n",
       "      <td>97</td>\n",
       "      <td>3241</td>\n",
       "      <td>67</td>\n",
       "      <td>6</td>\n",
       "      <td>11</td>\n",
       "      <td>0.757576</td>\n",
       "      <td>16.272727</td>\n",
       "      <td>0.843750</td>\n",
       "      <td>15.406250</td>\n",
       "    </tr>\n",
       "  </tbody>\n",
       "</table>\n",
       "</div>"
      ],
      "text/plain": [
       "   Season  DayNum  WTeamID  WScore  LTeamID  LScore  SeedW  SeedL  WinRatioW  \\\n",
       "0    2016     137     3107      61     3196      59     12      5   0.870968   \n",
       "1    2016     137     3113      74     3308      52      2     15   0.806452   \n",
       "2    2016     137     3120      68     3385      57      9      8   0.612903   \n",
       "3    2016     137     3124      89     3225      59      1     16   0.970588   \n",
       "4    2016     137     3177      97     3241      67      6     11   0.757576   \n",
       "\n",
       "     GapAvgW  WinRatioL    GapAvgL  \n",
       "0  18.677419   0.733333   8.700000  \n",
       "1   9.258065   0.857143   8.964286  \n",
       "2   3.032258   0.718750   6.812500  \n",
       "3  24.617647   0.709677  10.612903  \n",
       "4  16.272727   0.843750  15.406250  "
      ]
     },
     "execution_count": 27,
     "metadata": {},
     "output_type": "execute_result"
    }
   ],
   "source": [
    "df.head()"
   ]
  },
  {
   "cell_type": "markdown",
   "id": "e6a47ef0",
   "metadata": {
    "papermill": {
     "duration": 0.016826,
     "end_time": "2023-03-11T07:53:33.992113",
     "exception": false,
     "start_time": "2023-03-11T07:53:33.975287",
     "status": "completed"
    },
    "tags": []
   },
   "source": [
    "### FiveThirtyEight Ratings\n",
    "- `538ratingW` is the rating of the winning team during the season\n",
    "- `538ratingL` is the rating of the losing team during the season"
   ]
  },
  {
   "cell_type": "code",
   "execution_count": 28,
   "id": "7861ad32",
   "metadata": {
    "execution": {
     "iopub.execute_input": "2023-03-11T07:53:34.028422Z",
     "iopub.status.busy": "2023-03-11T07:53:34.028058Z",
     "iopub.status.idle": "2023-03-11T07:53:34.032426Z",
     "shell.execute_reply": "2023-03-11T07:53:34.031317Z"
    },
    "papermill": {
     "duration": 0.02524,
     "end_time": "2023-03-11T07:53:34.034784",
     "exception": false,
     "start_time": "2023-03-11T07:53:34.009544",
     "status": "completed"
    },
    "tags": []
   },
   "outputs": [],
   "source": [
    "# df = pd.merge(\n",
    "#     df,\n",
    "#     df_538,\n",
    "#     how='left',\n",
    "#     left_on=['Season', 'WTeamID'],\n",
    "#     right_on=['Season', 'TeamID']\n",
    "# ).drop('TeamID', axis=1).rename(columns={'538rating': '538ratingW'})"
   ]
  },
  {
   "cell_type": "code",
   "execution_count": 29,
   "id": "81172835",
   "metadata": {
    "execution": {
     "iopub.execute_input": "2023-03-11T07:53:34.070940Z",
     "iopub.status.busy": "2023-03-11T07:53:34.070547Z",
     "iopub.status.idle": "2023-03-11T07:53:34.075113Z",
     "shell.execute_reply": "2023-03-11T07:53:34.074106Z"
    },
    "papermill": {
     "duration": 0.025459,
     "end_time": "2023-03-11T07:53:34.077284",
     "exception": false,
     "start_time": "2023-03-11T07:53:34.051825",
     "status": "completed"
    },
    "tags": []
   },
   "outputs": [],
   "source": [
    "# df = pd.merge(\n",
    "#     df, \n",
    "#     df_538, \n",
    "#     how='left', \n",
    "#     left_on=['Season', 'LTeamID'], \n",
    "#     right_on=['Season', 'TeamID']\n",
    "# ).drop('TeamID', axis=1).rename(columns={'538rating': '538ratingL'})"
   ]
  },
  {
   "cell_type": "code",
   "execution_count": 30,
   "id": "cc9ef4a4",
   "metadata": {
    "execution": {
     "iopub.execute_input": "2023-03-11T07:53:34.114176Z",
     "iopub.status.busy": "2023-03-11T07:53:34.113775Z",
     "iopub.status.idle": "2023-03-11T07:53:34.118428Z",
     "shell.execute_reply": "2023-03-11T07:53:34.117211Z"
    },
    "papermill": {
     "duration": 0.026358,
     "end_time": "2023-03-11T07:53:34.120701",
     "exception": false,
     "start_time": "2023-03-11T07:53:34.094343",
     "status": "completed"
    },
    "tags": []
   },
   "outputs": [],
   "source": [
    "# df.head()"
   ]
  },
  {
   "cell_type": "markdown",
   "id": "66e8d3b7",
   "metadata": {
    "papermill": {
     "duration": 0.016652,
     "end_time": "2023-03-11T07:53:34.154466",
     "exception": false,
     "start_time": "2023-03-11T07:53:34.137814",
     "status": "completed"
    },
    "tags": []
   },
   "source": [
    "### Add symetrical\n",
    "- Right now our data only consists of won matches\n",
    "- We duplicate our data, get rid of the winner loser "
   ]
  },
  {
   "cell_type": "code",
   "execution_count": 31,
   "id": "c534f8d9",
   "metadata": {
    "execution": {
     "iopub.execute_input": "2023-03-11T07:53:34.190538Z",
     "iopub.status.busy": "2023-03-11T07:53:34.190147Z",
     "iopub.status.idle": "2023-03-11T07:53:34.199973Z",
     "shell.execute_reply": "2023-03-11T07:53:34.198745Z"
    },
    "papermill": {
     "duration": 0.030717,
     "end_time": "2023-03-11T07:53:34.202491",
     "exception": false,
     "start_time": "2023-03-11T07:53:34.171774",
     "status": "completed"
    },
    "tags": []
   },
   "outputs": [],
   "source": [
    "def add_loosing_matches(df):\n",
    "    win_rename = {\n",
    "        \"WTeamID\": \"TeamIdA\", \n",
    "        \"WScore\" : \"ScoreA\", \n",
    "        \"LTeamID\" : \"TeamIdB\",\n",
    "        \"LScore\": \"ScoreB\",\n",
    "     }\n",
    "    win_rename.update({c : c[:-1] + \"A\" for c in df.columns if c.endswith('W')})\n",
    "    win_rename.update({c : c[:-1] + \"B\" for c in df.columns if c.endswith('L')})\n",
    "    \n",
    "    lose_rename = {\n",
    "        \"WTeamID\": \"TeamIdB\", \n",
    "        \"WScore\" : \"ScoreB\", \n",
    "        \"LTeamID\" : \"TeamIdA\",\n",
    "        \"LScore\": \"ScoreA\",\n",
    "    }\n",
    "    lose_rename.update({c : c[:-1] + \"B\" for c in df.columns if c.endswith('W')})\n",
    "    lose_rename.update({c : c[:-1] + \"A\" for c in df.columns if c.endswith('L')})\n",
    "    \n",
    "    win_df = df.copy()\n",
    "    lose_df = df.copy()\n",
    "    \n",
    "    win_df = win_df.rename(columns=win_rename)\n",
    "    lose_df = lose_df.rename(columns=lose_rename)\n",
    "    \n",
    "    return pd.concat([win_df, lose_df], axis=0, sort=False)"
   ]
  },
  {
   "cell_type": "code",
   "execution_count": 32,
   "id": "d9eef94d",
   "metadata": {
    "execution": {
     "iopub.execute_input": "2023-03-11T07:53:34.238342Z",
     "iopub.status.busy": "2023-03-11T07:53:34.237958Z",
     "iopub.status.idle": "2023-03-11T07:53:34.245783Z",
     "shell.execute_reply": "2023-03-11T07:53:34.244959Z"
    },
    "papermill": {
     "duration": 0.02827,
     "end_time": "2023-03-11T07:53:34.247873",
     "exception": false,
     "start_time": "2023-03-11T07:53:34.219603",
     "status": "completed"
    },
    "tags": []
   },
   "outputs": [],
   "source": [
    "df = add_loosing_matches(df)"
   ]
  },
  {
   "cell_type": "code",
   "execution_count": 33,
   "id": "5d3c4939",
   "metadata": {
    "execution": {
     "iopub.execute_input": "2023-03-11T07:53:34.284574Z",
     "iopub.status.busy": "2023-03-11T07:53:34.284180Z",
     "iopub.status.idle": "2023-03-11T07:53:34.298203Z",
     "shell.execute_reply": "2023-03-11T07:53:34.297308Z"
    },
    "papermill": {
     "duration": 0.035027,
     "end_time": "2023-03-11T07:53:34.300362",
     "exception": false,
     "start_time": "2023-03-11T07:53:34.265335",
     "status": "completed"
    },
    "tags": []
   },
   "outputs": [
    {
     "data": {
      "text/html": [
       "<div>\n",
       "<style scoped>\n",
       "    .dataframe tbody tr th:only-of-type {\n",
       "        vertical-align: middle;\n",
       "    }\n",
       "\n",
       "    .dataframe tbody tr th {\n",
       "        vertical-align: top;\n",
       "    }\n",
       "\n",
       "    .dataframe thead th {\n",
       "        text-align: right;\n",
       "    }\n",
       "</style>\n",
       "<table border=\"1\" class=\"dataframe\">\n",
       "  <thead>\n",
       "    <tr style=\"text-align: right;\">\n",
       "      <th></th>\n",
       "      <th>Season</th>\n",
       "      <th>DayNum</th>\n",
       "      <th>TeamIdA</th>\n",
       "      <th>ScoreA</th>\n",
       "      <th>TeamIdB</th>\n",
       "      <th>ScoreB</th>\n",
       "      <th>SeedA</th>\n",
       "      <th>SeedB</th>\n",
       "      <th>WinRatioA</th>\n",
       "      <th>GapAvgA</th>\n",
       "      <th>WinRatioB</th>\n",
       "      <th>GapAvgB</th>\n",
       "    </tr>\n",
       "  </thead>\n",
       "  <tbody>\n",
       "    <tr>\n",
       "      <th>0</th>\n",
       "      <td>2016</td>\n",
       "      <td>137</td>\n",
       "      <td>3107</td>\n",
       "      <td>61</td>\n",
       "      <td>3196</td>\n",
       "      <td>59</td>\n",
       "      <td>12</td>\n",
       "      <td>5</td>\n",
       "      <td>0.870968</td>\n",
       "      <td>18.677419</td>\n",
       "      <td>0.733333</td>\n",
       "      <td>8.700000</td>\n",
       "    </tr>\n",
       "    <tr>\n",
       "      <th>1</th>\n",
       "      <td>2016</td>\n",
       "      <td>137</td>\n",
       "      <td>3113</td>\n",
       "      <td>74</td>\n",
       "      <td>3308</td>\n",
       "      <td>52</td>\n",
       "      <td>2</td>\n",
       "      <td>15</td>\n",
       "      <td>0.806452</td>\n",
       "      <td>9.258065</td>\n",
       "      <td>0.857143</td>\n",
       "      <td>8.964286</td>\n",
       "    </tr>\n",
       "    <tr>\n",
       "      <th>2</th>\n",
       "      <td>2016</td>\n",
       "      <td>137</td>\n",
       "      <td>3120</td>\n",
       "      <td>68</td>\n",
       "      <td>3385</td>\n",
       "      <td>57</td>\n",
       "      <td>9</td>\n",
       "      <td>8</td>\n",
       "      <td>0.612903</td>\n",
       "      <td>3.032258</td>\n",
       "      <td>0.718750</td>\n",
       "      <td>6.812500</td>\n",
       "    </tr>\n",
       "    <tr>\n",
       "      <th>3</th>\n",
       "      <td>2016</td>\n",
       "      <td>137</td>\n",
       "      <td>3124</td>\n",
       "      <td>89</td>\n",
       "      <td>3225</td>\n",
       "      <td>59</td>\n",
       "      <td>1</td>\n",
       "      <td>16</td>\n",
       "      <td>0.970588</td>\n",
       "      <td>24.617647</td>\n",
       "      <td>0.709677</td>\n",
       "      <td>10.612903</td>\n",
       "    </tr>\n",
       "    <tr>\n",
       "      <th>4</th>\n",
       "      <td>2016</td>\n",
       "      <td>137</td>\n",
       "      <td>3177</td>\n",
       "      <td>97</td>\n",
       "      <td>3241</td>\n",
       "      <td>67</td>\n",
       "      <td>6</td>\n",
       "      <td>11</td>\n",
       "      <td>0.757576</td>\n",
       "      <td>16.272727</td>\n",
       "      <td>0.843750</td>\n",
       "      <td>15.406250</td>\n",
       "    </tr>\n",
       "  </tbody>\n",
       "</table>\n",
       "</div>"
      ],
      "text/plain": [
       "   Season  DayNum  TeamIdA  ScoreA  TeamIdB  ScoreB  SeedA  SeedB  WinRatioA  \\\n",
       "0    2016     137     3107      61     3196      59     12      5   0.870968   \n",
       "1    2016     137     3113      74     3308      52      2     15   0.806452   \n",
       "2    2016     137     3120      68     3385      57      9      8   0.612903   \n",
       "3    2016     137     3124      89     3225      59      1     16   0.970588   \n",
       "4    2016     137     3177      97     3241      67      6     11   0.757576   \n",
       "\n",
       "     GapAvgA  WinRatioB    GapAvgB  \n",
       "0  18.677419   0.733333   8.700000  \n",
       "1   9.258065   0.857143   8.964286  \n",
       "2   3.032258   0.718750   6.812500  \n",
       "3  24.617647   0.709677  10.612903  \n",
       "4  16.272727   0.843750  15.406250  "
      ]
     },
     "execution_count": 33,
     "metadata": {},
     "output_type": "execute_result"
    }
   ],
   "source": [
    "df.head()"
   ]
  },
  {
   "cell_type": "markdown",
   "id": "62ae052a",
   "metadata": {
    "papermill": {
     "duration": 0.016979,
     "end_time": "2023-03-11T07:53:34.334863",
     "exception": false,
     "start_time": "2023-03-11T07:53:34.317884",
     "status": "completed"
    },
    "tags": []
   },
   "source": [
    "### Differences\n",
    "- We compute the difference between the team for each feature.\n",
    "- This helps further assessing how better (or worse) team A is from team B"
   ]
  },
  {
   "cell_type": "code",
   "execution_count": 34,
   "id": "4700e39a",
   "metadata": {
    "execution": {
     "iopub.execute_input": "2023-03-11T07:53:34.372270Z",
     "iopub.status.busy": "2023-03-11T07:53:34.370556Z",
     "iopub.status.idle": "2023-03-11T07:53:34.378988Z",
     "shell.execute_reply": "2023-03-11T07:53:34.378109Z"
    },
    "papermill": {
     "duration": 0.029079,
     "end_time": "2023-03-11T07:53:34.381194",
     "exception": false,
     "start_time": "2023-03-11T07:53:34.352115",
     "status": "completed"
    },
    "tags": []
   },
   "outputs": [],
   "source": [
    "cols_to_diff = [\n",
    "    'Seed', 'WinRatio', 'GapAvg', # '538rating'\n",
    "]\n",
    "\n",
    "for col in cols_to_diff:\n",
    "    df[col + 'Diff'] = df[col + 'A'] - df[col + 'B']"
   ]
  },
  {
   "cell_type": "markdown",
   "id": "6d47556b",
   "metadata": {
    "papermill": {
     "duration": 0.016861,
     "end_time": "2023-03-11T07:53:34.415371",
     "exception": false,
     "start_time": "2023-03-11T07:53:34.398510",
     "status": "completed"
    },
    "tags": []
   },
   "source": [
    "## Test Data"
   ]
  },
  {
   "cell_type": "markdown",
   "id": "2ebe632b",
   "metadata": {
    "papermill": {
     "duration": 0.017083,
     "end_time": "2023-03-11T07:53:34.449815",
     "exception": false,
     "start_time": "2023-03-11T07:53:34.432732",
     "status": "completed"
    },
    "tags": []
   },
   "source": [
    "### Preparing"
   ]
  },
  {
   "cell_type": "code",
   "execution_count": 35,
   "id": "89ebb55d",
   "metadata": {
    "execution": {
     "iopub.execute_input": "2023-03-11T07:53:34.486805Z",
     "iopub.status.busy": "2023-03-11T07:53:34.486080Z",
     "iopub.status.idle": "2023-03-11T07:53:34.595644Z",
     "shell.execute_reply": "2023-03-11T07:53:34.594431Z"
    },
    "papermill": {
     "duration": 0.131433,
     "end_time": "2023-03-11T07:53:34.598390",
     "exception": false,
     "start_time": "2023-03-11T07:53:34.466957",
     "status": "completed"
    },
    "tags": []
   },
   "outputs": [],
   "source": [
    "df_test = pd.read_csv(DATA_PATH + \"SampleSubmission2023.csv\")"
   ]
  },
  {
   "cell_type": "code",
   "execution_count": 36,
   "id": "4059a6bb",
   "metadata": {
    "execution": {
     "iopub.execute_input": "2023-03-11T07:53:34.636411Z",
     "iopub.status.busy": "2023-03-11T07:53:34.635213Z",
     "iopub.status.idle": "2023-03-11T07:53:34.941242Z",
     "shell.execute_reply": "2023-03-11T07:53:34.940331Z"
    },
    "papermill": {
     "duration": 0.327401,
     "end_time": "2023-03-11T07:53:34.943863",
     "exception": false,
     "start_time": "2023-03-11T07:53:34.616462",
     "status": "completed"
    },
    "tags": []
   },
   "outputs": [],
   "source": [
    "df_test['Season'] = df_test['ID'].apply(lambda x: int(x.split('_')[0]))\n",
    "df_test['TeamIdA'] = df_test['ID'].apply(lambda x: int(x.split('_')[1]))\n",
    "df_test['TeamIdB'] = df_test['ID'].apply(lambda x: int(x.split('_')[2]))"
   ]
  },
  {
   "cell_type": "code",
   "execution_count": 37,
   "id": "f69049af",
   "metadata": {
    "execution": {
     "iopub.execute_input": "2023-03-11T07:53:34.980044Z",
     "iopub.status.busy": "2023-03-11T07:53:34.979616Z",
     "iopub.status.idle": "2023-03-11T07:53:34.990593Z",
     "shell.execute_reply": "2023-03-11T07:53:34.989852Z"
    },
    "papermill": {
     "duration": 0.031262,
     "end_time": "2023-03-11T07:53:34.992478",
     "exception": false,
     "start_time": "2023-03-11T07:53:34.961216",
     "status": "completed"
    },
    "tags": []
   },
   "outputs": [
    {
     "data": {
      "text/html": [
       "<div>\n",
       "<style scoped>\n",
       "    .dataframe tbody tr th:only-of-type {\n",
       "        vertical-align: middle;\n",
       "    }\n",
       "\n",
       "    .dataframe tbody tr th {\n",
       "        vertical-align: top;\n",
       "    }\n",
       "\n",
       "    .dataframe thead th {\n",
       "        text-align: right;\n",
       "    }\n",
       "</style>\n",
       "<table border=\"1\" class=\"dataframe\">\n",
       "  <thead>\n",
       "    <tr style=\"text-align: right;\">\n",
       "      <th></th>\n",
       "      <th>ID</th>\n",
       "      <th>Pred</th>\n",
       "      <th>Season</th>\n",
       "      <th>TeamIdA</th>\n",
       "      <th>TeamIdB</th>\n",
       "    </tr>\n",
       "  </thead>\n",
       "  <tbody>\n",
       "    <tr>\n",
       "      <th>0</th>\n",
       "      <td>2023_1101_1102</td>\n",
       "      <td>0.5</td>\n",
       "      <td>2023</td>\n",
       "      <td>1101</td>\n",
       "      <td>1102</td>\n",
       "    </tr>\n",
       "    <tr>\n",
       "      <th>1</th>\n",
       "      <td>2023_1101_1103</td>\n",
       "      <td>0.5</td>\n",
       "      <td>2023</td>\n",
       "      <td>1101</td>\n",
       "      <td>1103</td>\n",
       "    </tr>\n",
       "    <tr>\n",
       "      <th>2</th>\n",
       "      <td>2023_1101_1104</td>\n",
       "      <td>0.5</td>\n",
       "      <td>2023</td>\n",
       "      <td>1101</td>\n",
       "      <td>1104</td>\n",
       "    </tr>\n",
       "    <tr>\n",
       "      <th>3</th>\n",
       "      <td>2023_1101_1105</td>\n",
       "      <td>0.5</td>\n",
       "      <td>2023</td>\n",
       "      <td>1101</td>\n",
       "      <td>1105</td>\n",
       "    </tr>\n",
       "    <tr>\n",
       "      <th>4</th>\n",
       "      <td>2023_1101_1106</td>\n",
       "      <td>0.5</td>\n",
       "      <td>2023</td>\n",
       "      <td>1101</td>\n",
       "      <td>1106</td>\n",
       "    </tr>\n",
       "  </tbody>\n",
       "</table>\n",
       "</div>"
      ],
      "text/plain": [
       "               ID  Pred  Season  TeamIdA  TeamIdB\n",
       "0  2023_1101_1102   0.5    2023     1101     1102\n",
       "1  2023_1101_1103   0.5    2023     1101     1103\n",
       "2  2023_1101_1104   0.5    2023     1101     1104\n",
       "3  2023_1101_1105   0.5    2023     1101     1105\n",
       "4  2023_1101_1106   0.5    2023     1101     1106"
      ]
     },
     "execution_count": 37,
     "metadata": {},
     "output_type": "execute_result"
    }
   ],
   "source": [
    "df_test.head()"
   ]
  },
  {
   "cell_type": "markdown",
   "id": "2eaa34ff",
   "metadata": {
    "papermill": {
     "duration": 0.017383,
     "end_time": "2023-03-11T07:53:35.027593",
     "exception": false,
     "start_time": "2023-03-11T07:53:35.010210",
     "status": "completed"
    },
    "tags": []
   },
   "source": [
    "### Seeds\n",
    "- Seeds are not released yet, so I fill missing values with \"W01\""
   ]
  },
  {
   "cell_type": "code",
   "execution_count": 38,
   "id": "13340c2f",
   "metadata": {
    "execution": {
     "iopub.execute_input": "2023-03-11T07:53:35.064938Z",
     "iopub.status.busy": "2023-03-11T07:53:35.064514Z",
     "iopub.status.idle": "2023-03-11T07:53:35.125617Z",
     "shell.execute_reply": "2023-03-11T07:53:35.124450Z"
    },
    "papermill": {
     "duration": 0.083038,
     "end_time": "2023-03-11T07:53:35.128496",
     "exception": false,
     "start_time": "2023-03-11T07:53:35.045458",
     "status": "completed"
    },
    "tags": []
   },
   "outputs": [],
   "source": [
    "df_test = pd.merge(\n",
    "    df_test,\n",
    "    df_seeds,\n",
    "    how='left',\n",
    "    left_on=['Season', 'TeamIdA'],\n",
    "    right_on=['Season', 'TeamID']\n",
    ").drop('TeamID', axis=1).rename(columns={'Seed': 'SeedA'}).fillna('W01')"
   ]
  },
  {
   "cell_type": "code",
   "execution_count": 39,
   "id": "b8fc0151",
   "metadata": {
    "execution": {
     "iopub.execute_input": "2023-03-11T07:53:35.165411Z",
     "iopub.status.busy": "2023-03-11T07:53:35.165013Z",
     "iopub.status.idle": "2023-03-11T07:53:35.241481Z",
     "shell.execute_reply": "2023-03-11T07:53:35.240319Z"
    },
    "papermill": {
     "duration": 0.097808,
     "end_time": "2023-03-11T07:53:35.244142",
     "exception": false,
     "start_time": "2023-03-11T07:53:35.146334",
     "status": "completed"
    },
    "tags": []
   },
   "outputs": [],
   "source": [
    "df_test = pd.merge(\n",
    "    df_test, \n",
    "    df_seeds, \n",
    "    how='left', \n",
    "    left_on=['Season', 'TeamIdB'], \n",
    "    right_on=['Season', 'TeamID']\n",
    ").drop('TeamID', axis=1).rename(columns={'Seed': 'SeedB'}).fillna('W01')"
   ]
  },
  {
   "cell_type": "code",
   "execution_count": 40,
   "id": "9bf6a75c",
   "metadata": {
    "execution": {
     "iopub.execute_input": "2023-03-11T07:53:35.283134Z",
     "iopub.status.busy": "2023-03-11T07:53:35.282358Z",
     "iopub.status.idle": "2023-03-11T07:53:35.771695Z",
     "shell.execute_reply": "2023-03-11T07:53:35.770835Z"
    },
    "papermill": {
     "duration": 0.511866,
     "end_time": "2023-03-11T07:53:35.774216",
     "exception": false,
     "start_time": "2023-03-11T07:53:35.262350",
     "status": "completed"
    },
    "tags": []
   },
   "outputs": [],
   "source": [
    "df_test['SeedA'] = df_test['SeedA'].apply(treat_seed)\n",
    "df_test['SeedB'] = df_test['SeedB'].apply(treat_seed)"
   ]
  },
  {
   "cell_type": "markdown",
   "id": "3747308b",
   "metadata": {
    "papermill": {
     "duration": 0.017485,
     "end_time": "2023-03-11T07:53:35.809884",
     "exception": false,
     "start_time": "2023-03-11T07:53:35.792399",
     "status": "completed"
    },
    "tags": []
   },
   "source": [
    "### Season Stats"
   ]
  },
  {
   "cell_type": "code",
   "execution_count": 41,
   "id": "20abdf24",
   "metadata": {
    "execution": {
     "iopub.execute_input": "2023-03-11T07:53:35.847192Z",
     "iopub.status.busy": "2023-03-11T07:53:35.846211Z",
     "iopub.status.idle": "2023-03-11T07:53:35.899682Z",
     "shell.execute_reply": "2023-03-11T07:53:35.898586Z"
    },
    "papermill": {
     "duration": 0.074798,
     "end_time": "2023-03-11T07:53:35.902173",
     "exception": false,
     "start_time": "2023-03-11T07:53:35.827375",
     "status": "completed"
    },
    "tags": []
   },
   "outputs": [],
   "source": [
    "df_test = pd.merge(\n",
    "    df_test,\n",
    "    df_features_season,\n",
    "    how='left',\n",
    "    left_on=['Season', 'TeamIdA'],\n",
    "    right_on=['Season', 'TeamID']\n",
    ").rename(columns={\n",
    "    'NumWins': 'NumWinsA',\n",
    "    'NumLosses': 'NumLossesA',\n",
    "    'GapWins': 'GapWinsA',\n",
    "    'GapLosses': 'GapLossesA',\n",
    "    'WinRatio': 'WinRatioA',\n",
    "    'GapAvg': 'GapAvgA',\n",
    "}).drop(columns='TeamID', axis=1)"
   ]
  },
  {
   "cell_type": "code",
   "execution_count": 42,
   "id": "ddb54201",
   "metadata": {
    "execution": {
     "iopub.execute_input": "2023-03-11T07:53:35.939494Z",
     "iopub.status.busy": "2023-03-11T07:53:35.938492Z",
     "iopub.status.idle": "2023-03-11T07:53:35.989864Z",
     "shell.execute_reply": "2023-03-11T07:53:35.988897Z"
    },
    "papermill": {
     "duration": 0.07243,
     "end_time": "2023-03-11T07:53:35.992268",
     "exception": false,
     "start_time": "2023-03-11T07:53:35.919838",
     "status": "completed"
    },
    "tags": []
   },
   "outputs": [],
   "source": [
    "df_test = pd.merge(\n",
    "    df_test,\n",
    "    df_features_season,\n",
    "    how='left',\n",
    "    left_on=['Season', 'TeamIdB'],\n",
    "    right_on=['Season', 'TeamID']\n",
    ").rename(columns={\n",
    "    'NumWins': 'NumWinsB',\n",
    "    'NumLosses': 'NumLossesB',\n",
    "    'GapWins': 'GapWinsB',\n",
    "    'GapLosses': 'GapLossesB',\n",
    "    'WinRatio': 'WinRatioB',\n",
    "    'GapAvg': 'GapAvgB',\n",
    "}).drop(columns='TeamID', axis=1)"
   ]
  },
  {
   "cell_type": "markdown",
   "id": "b49c7209",
   "metadata": {
    "papermill": {
     "duration": 0.018028,
     "end_time": "2023-03-11T07:53:36.028200",
     "exception": false,
     "start_time": "2023-03-11T07:53:36.010172",
     "status": "completed"
    },
    "tags": []
   },
   "source": [
    "### Ratings"
   ]
  },
  {
   "cell_type": "code",
   "execution_count": 43,
   "id": "6f573060",
   "metadata": {
    "execution": {
     "iopub.execute_input": "2023-03-11T07:53:36.066481Z",
     "iopub.status.busy": "2023-03-11T07:53:36.065336Z",
     "iopub.status.idle": "2023-03-11T07:53:36.069775Z",
     "shell.execute_reply": "2023-03-11T07:53:36.068944Z"
    },
    "papermill": {
     "duration": 0.02585,
     "end_time": "2023-03-11T07:53:36.072085",
     "exception": false,
     "start_time": "2023-03-11T07:53:36.046235",
     "status": "completed"
    },
    "tags": []
   },
   "outputs": [],
   "source": [
    "# df_test = pd.merge(\n",
    "#     df_test,\n",
    "#     df_538,\n",
    "#     how='left',\n",
    "#     left_on=['Season', 'TeamIdA'],\n",
    "#     right_on=['Season', 'TeamID']\n",
    "# ).drop('TeamID', axis=1).rename(columns={'538rating': '538ratingA'})"
   ]
  },
  {
   "cell_type": "code",
   "execution_count": 44,
   "id": "763b2b1d",
   "metadata": {
    "execution": {
     "iopub.execute_input": "2023-03-11T07:53:36.110799Z",
     "iopub.status.busy": "2023-03-11T07:53:36.109957Z",
     "iopub.status.idle": "2023-03-11T07:53:36.114185Z",
     "shell.execute_reply": "2023-03-11T07:53:36.113338Z"
    },
    "papermill": {
     "duration": 0.025704,
     "end_time": "2023-03-11T07:53:36.116121",
     "exception": false,
     "start_time": "2023-03-11T07:53:36.090417",
     "status": "completed"
    },
    "tags": []
   },
   "outputs": [],
   "source": [
    "# df_test = pd.merge(\n",
    "#     df_test,\n",
    "#     df_538,\n",
    "#     how='left',\n",
    "#     left_on=['Season', 'TeamIdB'],\n",
    "#     right_on=['Season', 'TeamID']\n",
    "# ).drop('TeamID', axis=1).rename(columns={'538rating': '538ratingB'})"
   ]
  },
  {
   "cell_type": "markdown",
   "id": "913467c2",
   "metadata": {
    "papermill": {
     "duration": 0.016987,
     "end_time": "2023-03-11T07:53:36.150425",
     "exception": false,
     "start_time": "2023-03-11T07:53:36.133438",
     "status": "completed"
    },
    "tags": []
   },
   "source": [
    "### Differences"
   ]
  },
  {
   "cell_type": "code",
   "execution_count": 45,
   "id": "b58f4a1a",
   "metadata": {
    "execution": {
     "iopub.execute_input": "2023-03-11T07:53:36.187276Z",
     "iopub.status.busy": "2023-03-11T07:53:36.186588Z",
     "iopub.status.idle": "2023-03-11T07:53:36.195394Z",
     "shell.execute_reply": "2023-03-11T07:53:36.194174Z"
    },
    "papermill": {
     "duration": 0.029888,
     "end_time": "2023-03-11T07:53:36.197759",
     "exception": false,
     "start_time": "2023-03-11T07:53:36.167871",
     "status": "completed"
    },
    "tags": []
   },
   "outputs": [],
   "source": [
    "for col in cols_to_diff:\n",
    "    df_test[col + 'Diff'] = df_test[col + 'A'] - df_test[col + 'B']"
   ]
  },
  {
   "cell_type": "markdown",
   "id": "4d501d55",
   "metadata": {
    "papermill": {
     "duration": 0.017212,
     "end_time": "2023-03-11T07:53:36.232735",
     "exception": false,
     "start_time": "2023-03-11T07:53:36.215523",
     "status": "completed"
    },
    "tags": []
   },
   "source": [
    "## Target"
   ]
  },
  {
   "cell_type": "code",
   "execution_count": 46,
   "id": "c3fd9b54",
   "metadata": {
    "execution": {
     "iopub.execute_input": "2023-03-11T07:53:36.269528Z",
     "iopub.status.busy": "2023-03-11T07:53:36.269098Z",
     "iopub.status.idle": "2023-03-11T07:53:36.276894Z",
     "shell.execute_reply": "2023-03-11T07:53:36.275811Z"
    },
    "papermill": {
     "duration": 0.028964,
     "end_time": "2023-03-11T07:53:36.279142",
     "exception": false,
     "start_time": "2023-03-11T07:53:36.250178",
     "status": "completed"
    },
    "tags": []
   },
   "outputs": [],
   "source": [
    "df['ScoreDiff'] = df['ScoreA'] - df['ScoreB']\n",
    "df['WinA'] = (df['ScoreDiff'] > 0).astype(int)"
   ]
  },
  {
   "cell_type": "markdown",
   "id": "11272eaf",
   "metadata": {
    "papermill": {
     "duration": 0.017796,
     "end_time": "2023-03-11T07:53:36.315055",
     "exception": false,
     "start_time": "2023-03-11T07:53:36.297259",
     "status": "completed"
    },
    "tags": []
   },
   "source": [
    "# Modeling"
   ]
  },
  {
   "cell_type": "code",
   "execution_count": 47,
   "id": "b9f3d815",
   "metadata": {
    "execution": {
     "iopub.execute_input": "2023-03-11T07:53:36.352542Z",
     "iopub.status.busy": "2023-03-11T07:53:36.351401Z",
     "iopub.status.idle": "2023-03-11T07:53:36.356177Z",
     "shell.execute_reply": "2023-03-11T07:53:36.355410Z"
    },
    "papermill": {
     "duration": 0.025557,
     "end_time": "2023-03-11T07:53:36.358194",
     "exception": false,
     "start_time": "2023-03-11T07:53:36.332637",
     "status": "completed"
    },
    "tags": []
   },
   "outputs": [],
   "source": [
    "features = [\n",
    "    \"SeedA\", \"SeedB\", 'WinRatioA', 'GapAvgA', 'WinRatioB', 'GapAvgB', 'SeedDiff', 'WinRatioDiff', 'GapAvgDiff'\n",
    "]"
   ]
  },
  {
   "cell_type": "code",
   "execution_count": 48,
   "id": "f4579f2c",
   "metadata": {
    "execution": {
     "iopub.execute_input": "2023-03-11T07:53:36.395557Z",
     "iopub.status.busy": "2023-03-11T07:53:36.394831Z",
     "iopub.status.idle": "2023-03-11T07:53:36.399536Z",
     "shell.execute_reply": "2023-03-11T07:53:36.398500Z"
    },
    "papermill": {
     "duration": 0.026042,
     "end_time": "2023-03-11T07:53:36.401940",
     "exception": false,
     "start_time": "2023-03-11T07:53:36.375898",
     "status": "completed"
    },
    "tags": []
   },
   "outputs": [],
   "source": [
    "# features = [\n",
    "#     'SeedDiff',\n",
    "# #     '538ratingDiff',\n",
    "#     'WinRatioDiff', \n",
    "#     'GapAvgDiff', \n",
    "# ]"
   ]
  },
  {
   "cell_type": "code",
   "execution_count": 49,
   "id": "36c6c9e7",
   "metadata": {
    "execution": {
     "iopub.execute_input": "2023-03-11T07:53:36.441744Z",
     "iopub.status.busy": "2023-03-11T07:53:36.440897Z",
     "iopub.status.idle": "2023-03-11T07:53:36.448374Z",
     "shell.execute_reply": "2023-03-11T07:53:36.447251Z"
    },
    "papermill": {
     "duration": 0.031413,
     "end_time": "2023-03-11T07:53:36.450971",
     "exception": false,
     "start_time": "2023-03-11T07:53:36.419558",
     "status": "completed"
    },
    "tags": []
   },
   "outputs": [],
   "source": [
    "def rescale(features, df_train, df_val, df_test=None):\n",
    "    min_ = df_train[features].min()\n",
    "    max_ = df_train[features].max()\n",
    "    \n",
    "    df_train[features] = (df_train[features] - min_) / (max_ - min_)\n",
    "    df_val[features] = (df_val[features] - min_) / (max_ - min_)\n",
    "    \n",
    "    if df_test is not None:\n",
    "        df_test[features] = (df_test[features] - min_) / (max_ - min_)\n",
    "        \n",
    "    return df_train, df_val, df_test"
   ]
  },
  {
   "cell_type": "markdown",
   "id": "a9387412",
   "metadata": {
    "papermill": {
     "duration": 0.019368,
     "end_time": "2023-03-11T07:53:36.487890",
     "exception": false,
     "start_time": "2023-03-11T07:53:36.468522",
     "status": "completed"
    },
    "tags": []
   },
   "source": [
    "### Cross Validation\n",
    "- Validate on season `n`, for `n` in the 3 last seasons. \n",
    "- Train on earlier seasons. First available season is 2016 because of the FiveThirtyEight ratings.\n",
    "- Pipeline support classification (predict the team that wins) and regression (predict the score gap), but classification worked better on CV."
   ]
  },
  {
   "cell_type": "code",
   "execution_count": 50,
   "id": "163d0679",
   "metadata": {
    "execution": {
     "iopub.execute_input": "2023-03-11T07:53:36.524934Z",
     "iopub.status.busy": "2023-03-11T07:53:36.524505Z",
     "iopub.status.idle": "2023-03-11T07:53:36.540277Z",
     "shell.execute_reply": "2023-03-11T07:53:36.539108Z"
    },
    "papermill": {
     "duration": 0.037502,
     "end_time": "2023-03-11T07:53:36.542896",
     "exception": false,
     "start_time": "2023-03-11T07:53:36.505394",
     "status": "completed"
    },
    "tags": []
   },
   "outputs": [],
   "source": [
    "def kfold(df, df_test_=None, plot=False, verbose=0, mode=\"reg\"):\n",
    "    seasons = df['Season'].unique()\n",
    "    cvs = []\n",
    "    pred_tests = []\n",
    "    target = \"ScoreDiff\" if mode == \"reg\" else \"WinA\"\n",
    "    \n",
    "    for season in seasons[1:]:\n",
    "        if verbose:\n",
    "            print(f'\\nValidating on season {season}')\n",
    "        \n",
    "        df_train = df[df['Season'] < season].reset_index(drop=True).copy()\n",
    "        df_val = df[df['Season'] == season].reset_index(drop=True).copy()\n",
    "        df_test = df_test_.copy()\n",
    "        \n",
    "        df_train, df_val, df_test = rescale(features, df_train, df_val, df_test)\n",
    "        \n",
    "        if mode == \"reg\":\n",
    "#             model = LinearRegression()\n",
    "            model = ElasticNet(alpha=1, l1_ratio=0.5)\n",
    "        else:\n",
    "            model = LogisticRegression(C=1)\n",
    "\n",
    "        model.fit(df_train[features], df_train[target])\n",
    "        \n",
    "        if mode == \"reg\":\n",
    "            pred = model.predict(df_val[features])\n",
    "        else:\n",
    "            pred = model.predict_proba(df_val[features])[:, 1]\n",
    "        \n",
    "        if df_test is not None:\n",
    "            if mode == \"reg\":\n",
    "                pred_test = model.predict(df_test[features])\n",
    "                \n",
    "#                 print( pred_test.max() - pred_test.min())\n",
    "                pred_test = (pred_test - pred_test.min()) / (pred_test.max() - pred_test.min())\n",
    "            else:\n",
    "                pred_test = model.predict_proba(df_test[features])[:, 1]\n",
    "                \n",
    "            pred_tests.append(pred_test)\n",
    "            \n",
    "        if plot:\n",
    "            plt.figure(figsize=(15, 6))\n",
    "            plt.subplot(1, 2, 1)\n",
    "            plt.scatter(pred, df_val['ScoreDiff'].values, s=5)\n",
    "            plt.title('Prediction vs Score Diff')\n",
    "            plt.grid(True)\n",
    "            plt.subplot(1, 2, 2)\n",
    "            sns.histplot(pred, bins=20)\n",
    "            plt.title('Predictions probability repartition')\n",
    "            plt.show()\n",
    "        \n",
    "        pred = (pred - pred.min()) / (pred.max() - pred.min())\n",
    "        pred = np.clip(pred, 0, 1)\n",
    "\n",
    "        score = ((df_val['WinA'].values - pred) ** 2).mean()\n",
    "        cvs.append(score)\n",
    "\n",
    "        if verbose:\n",
    "            print(f'\\t -> Scored {score:.3f}')\n",
    "        \n",
    "    print(f'\\n Local CV is {np.mean(cvs):.3f}')\n",
    "    \n",
    "    return pred_tests"
   ]
  },
  {
   "cell_type": "code",
   "execution_count": 51,
   "id": "9e28699b",
   "metadata": {
    "execution": {
     "iopub.execute_input": "2023-03-11T07:53:36.581274Z",
     "iopub.status.busy": "2023-03-11T07:53:36.580618Z",
     "iopub.status.idle": "2023-03-11T07:53:37.157526Z",
     "shell.execute_reply": "2023-03-11T07:53:37.155419Z"
    },
    "papermill": {
     "duration": 0.600647,
     "end_time": "2023-03-11T07:53:37.161816",
     "exception": false,
     "start_time": "2023-03-11T07:53:36.561169",
     "status": "completed"
    },
    "tags": []
   },
   "outputs": [
    {
     "name": "stdout",
     "output_type": "stream",
     "text": [
      "\n",
      "Validating on season 2017\n",
      "\t -> Scored 0.164\n",
      "\n",
      "Validating on season 2018\n",
      "\t -> Scored 0.188\n",
      "\n",
      "Validating on season 2019\n",
      "\t -> Scored 0.154\n",
      "\n",
      "Validating on season 2021\n",
      "\t -> Scored 0.190\n",
      "\n",
      "Validating on season 2022\n",
      "\t -> Scored 0.197\n",
      "\n",
      " Local CV is 0.179\n"
     ]
    }
   ],
   "source": [
    "pred_tests = kfold(df, df_test, plot=False, verbose=1, mode=\"cls\")"
   ]
  },
  {
   "cell_type": "markdown",
   "id": "0dd0a198",
   "metadata": {
    "papermill": {
     "duration": 0.045571,
     "end_time": "2023-03-11T07:53:37.253597",
     "exception": false,
     "start_time": "2023-03-11T07:53:37.208026",
     "status": "completed"
    },
    "tags": []
   },
   "source": [
    "## Submission"
   ]
  },
  {
   "cell_type": "code",
   "execution_count": 52,
   "id": "e6402a5f",
   "metadata": {
    "execution": {
     "iopub.execute_input": "2023-03-11T07:53:37.298220Z",
     "iopub.status.busy": "2023-03-11T07:53:37.297807Z",
     "iopub.status.idle": "2023-03-11T07:53:38.152459Z",
     "shell.execute_reply": "2023-03-11T07:53:38.151153Z"
    },
    "papermill": {
     "duration": 0.876285,
     "end_time": "2023-03-11T07:53:38.155379",
     "exception": false,
     "start_time": "2023-03-11T07:53:37.279094",
     "status": "completed"
    },
    "tags": []
   },
   "outputs": [
    {
     "data": {
      "image/png": "[encoded data removed]",
      "text/plain": [
       "<Figure size 500x500 with 1 Axes>"
      ]
     },
     "metadata": {},
     "output_type": "display_data"
    }
   ],
   "source": [
    "pred_test = np.mean(pred_tests, 0)\n",
    "df_test['pred'] = pred_test\n",
    "\n",
    "_ = sns.displot(pred_test)"
   ]
  },
  {
   "cell_type": "code",
   "execution_count": 53,
   "id": "305118f9",
   "metadata": {
    "execution": {
     "iopub.execute_input": "2023-03-11T07:53:38.193250Z",
     "iopub.status.busy": "2023-03-11T07:53:38.192856Z",
     "iopub.status.idle": "2023-03-11T07:53:38.513141Z",
     "shell.execute_reply": "2023-03-11T07:53:38.512106Z"
    },
    "papermill": {
     "duration": 0.342074,
     "end_time": "2023-03-11T07:53:38.515857",
     "exception": false,
     "start_time": "2023-03-11T07:53:38.173783",
     "status": "completed"
    },
    "tags": []
   },
   "outputs": [],
   "source": [
    "final_sub = df_test[['ID', 'pred']].copy()\n",
    "final_sub.to_csv('submission.csv', index=False)"
   ]
  },
  {
   "cell_type": "code",
   "execution_count": 54,
   "id": "4efcdc26",
   "metadata": {
    "execution": {
     "iopub.execute_input": "2023-03-11T07:53:38.553927Z",
     "iopub.status.busy": "2023-03-11T07:53:38.553040Z",
     "iopub.status.idle": "2023-03-11T07:53:38.564388Z",
     "shell.execute_reply": "2023-03-11T07:53:38.563250Z"
    },
    "papermill": {
     "duration": 0.032754,
     "end_time": "2023-03-11T07:53:38.566616",
     "exception": false,
     "start_time": "2023-03-11T07:53:38.533862",
     "status": "completed"
    },
    "tags": []
   },
   "outputs": [
    {
     "data": {
      "text/html": [
       "<div>\n",
       "<style scoped>\n",
       "    .dataframe tbody tr th:only-of-type {\n",
       "        vertical-align: middle;\n",
       "    }\n",
       "\n",
       "    .dataframe tbody tr th {\n",
       "        vertical-align: top;\n",
       "    }\n",
       "\n",
       "    .dataframe thead th {\n",
       "        text-align: right;\n",
       "    }\n",
       "</style>\n",
       "<table border=\"1\" class=\"dataframe\">\n",
       "  <thead>\n",
       "    <tr style=\"text-align: right;\">\n",
       "      <th></th>\n",
       "      <th>ID</th>\n",
       "      <th>pred</th>\n",
       "    </tr>\n",
       "  </thead>\n",
       "  <tbody>\n",
       "    <tr>\n",
       "      <th>0</th>\n",
       "      <td>2023_1101_1102</td>\n",
       "      <td>0.476125</td>\n",
       "    </tr>\n",
       "    <tr>\n",
       "      <th>1</th>\n",
       "      <td>2023_1101_1103</td>\n",
       "      <td>0.453492</td>\n",
       "    </tr>\n",
       "    <tr>\n",
       "      <th>2</th>\n",
       "      <td>2023_1101_1104</td>\n",
       "      <td>0.400707</td>\n",
       "    </tr>\n",
       "    <tr>\n",
       "      <th>3</th>\n",
       "      <td>2023_1101_1105</td>\n",
       "      <td>0.505784</td>\n",
       "    </tr>\n",
       "    <tr>\n",
       "      <th>4</th>\n",
       "      <td>2023_1101_1106</td>\n",
       "      <td>0.553276</td>\n",
       "    </tr>\n",
       "  </tbody>\n",
       "</table>\n",
       "</div>"
      ],
      "text/plain": [
       "               ID      pred\n",
       "0  2023_1101_1102  0.476125\n",
       "1  2023_1101_1103  0.453492\n",
       "2  2023_1101_1104  0.400707\n",
       "3  2023_1101_1105  0.505784\n",
       "4  2023_1101_1106  0.553276"
      ]
     },
     "execution_count": 54,
     "metadata": {},
     "output_type": "execute_result"
    }
   ],
   "source": [
    "final_sub.head()"
   ]
  },
  {
   "cell_type": "markdown",
   "id": "e9aecbd8",
   "metadata": {
    "papermill": {
     "duration": 0.017955,
     "end_time": "2023-03-11T07:53:38.602963",
     "exception": false,
     "start_time": "2023-03-11T07:53:38.585008",
     "status": "completed"
    },
    "tags": []
   },
   "source": [
    "Done ! "
   ]
  }
 ],
 "metadata": {
  "kernelspec": {
   "display_name": "Python 3",
   "language": "python",
   "name": "python3"
  },
  "language_info": {
   "codemirror_mode": {
    "name": "ipython",
    "version": 3
   },
   "file_extension": ".py",
   "mimetype": "text/x-python",
   "name": "python",
   "nbconvert_exporter": "python",
   "pygments_lexer": "ipython3",
   "version": "3.7.12"
  },
  "papermill": {
   "default_parameters": {},
   "duration": 18.515284,
   "end_time": "2023-03-11T07:53:39.445742",
   "environment_variables": {},
   "exception": null,
   "input_path": "__notebook__.ipynb",
   "output_path": "__notebook__.ipynb",
   "parameters": {},
   "start_time": "2023-03-11T07:53:20.930458",
   "version": "2.3.4"
  }
 },
 "nbformat": 4,
 "nbformat_minor": 5
}
